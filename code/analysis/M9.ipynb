{
 "cells": [
  {
   "attachments": {},
   "cell_type": "markdown",
   "metadata": {},
   "source": [
    "# Simulation of M9 medium with and without Casamino acids"
   ]
  },
  {
   "cell_type": "code",
   "execution_count": 2,
   "metadata": {},
   "outputs": [],
   "source": [
    "# imports\n",
    "import cobra\n",
    "from libsbml import *\n",
    "import refinegems as rg\n",
    "import pandas as pd\n",
    "import numpy as np"
   ]
  },
  {
   "cell_type": "code",
   "execution_count": 19,
   "metadata": {},
   "outputs": [],
   "source": [
    "def enhanced_growth(model, base_medium, new_metabs):\n",
    "    local_medium = base_medium\n",
    "    with model:\n",
    "        medium = model.medium\n",
    "        for met in new_metabs:\n",
    "            local_medium[met] = 10.0\n",
    "        model.medium = local_medium\n",
    "        sol = model.optimize()\n",
    "    base_growth = sol.objective_value\n",
    "    dt = (np.log(2) / sol.objective_value) * 60\n",
    "    print('Growth rate with additives: ' + str(round(base_growth, 4)))\n",
    "    print('Doubling time with additives: ' + str(round(dt, 2)) + ' min')\n",
    "\n",
    "def find_additives(model, base_medium):\n",
    "    with model:\n",
    "        medium = model.medium\n",
    "        model.medium = base_medium\n",
    "        sol = model.optimize()      \n",
    "    base_growth = sol.objective_value\n",
    "    dt = (np.log(2) / sol.objective_value) * 60\n",
    "    print('Growth rate without additives: ' + str(round(base_growth, 4)))\n",
    "    print('Doubling time without additives: ' + str(round(dt, 2)) + ' min')\n",
    "        \n",
    "    enhancement = {}\n",
    "    for ex in list(model.exchanges):\n",
    "        if ex.id not in base_medium.keys():\n",
    "            with model:\n",
    "                medium = model.medium\n",
    "                base_medium.update({ex.id:10.0})\n",
    "                model.medium = base_medium\n",
    "                sol = model.optimize()\n",
    "                if sol.objective_value > base_growth:\n",
    "                    enhancement[ex.id] = sol.objective_value - base_growth\n",
    "                base_medium.pop(ex.id)\n",
    "    \n",
    "    enh = pd.DataFrame(enhancement.items(), columns=['exchange', 'diff']).sort_values(by=['diff'], ascending=False)\n",
    "    \n",
    "    return enh"
   ]
  },
  {
   "cell_type": "code",
   "execution_count": 37,
   "metadata": {},
   "outputs": [],
   "source": [
    "CasA = rg.growth.load_all_media_from_db('../../refinegems/data/media_db.csv')[9]['BiGG_EX'].to_list()\n",
    "M9 = rg.growth.load_all_media_from_db('../../refinegems/data/media_db.csv')[2]['BiGG_EX'].to_list()\n",
    "CasA_med = {i: 10.0 for i in CasA}\n",
    "M9_med = {i: 10.0 for i in M9}\n",
    "if (M9_med['EX_o2_e'] == 10.0):\n",
    "    M9_med['EX_o2_e'] = 20.0\n",
    "M9_med.pop('EX_ni2_e') # missing in the models\n",
    "\n",
    "# from simulation with refinegems\n",
    "M9_med['EX_ala_B_e'] = 10.0\n",
    "M9_med['EX_cgly_e'] = 10.0"
   ]
  },
  {
   "cell_type": "code",
   "execution_count": 41,
   "metadata": {},
   "outputs": [],
   "source": [
    "model = rg.load.load_model_cobra('../models/Cstr_15.xml')"
   ]
  },
  {
   "cell_type": "code",
   "execution_count": 42,
   "metadata": {},
   "outputs": [
    {
     "name": "stdout",
     "output_type": "stream",
     "text": [
      "Growth rate without additives: 0.639\n",
      "Doubling time without additives: 65.08 min\n"
     ]
    },
    {
     "data": {
      "text/html": [
       "<div>\n",
       "<style scoped>\n",
       "    .dataframe tbody tr th:only-of-type {\n",
       "        vertical-align: middle;\n",
       "    }\n",
       "\n",
       "    .dataframe tbody tr th {\n",
       "        vertical-align: top;\n",
       "    }\n",
       "\n",
       "    .dataframe thead th {\n",
       "        text-align: right;\n",
       "    }\n",
       "</style>\n",
       "<table border=\"1\" class=\"dataframe\">\n",
       "  <thead>\n",
       "    <tr style=\"text-align: right;\">\n",
       "      <th></th>\n",
       "      <th>exchange</th>\n",
       "      <th>diff</th>\n",
       "    </tr>\n",
       "  </thead>\n",
       "  <tbody>\n",
       "    <tr>\n",
       "      <th>51</th>\n",
       "      <td>EX_malthp_e</td>\n",
       "      <td>2.327783e+00</td>\n",
       "    </tr>\n",
       "    <tr>\n",
       "      <th>87</th>\n",
       "      <td>EX_sucr_e</td>\n",
       "      <td>5.477137e-01</td>\n",
       "    </tr>\n",
       "    <tr>\n",
       "      <th>93</th>\n",
       "      <td>EX_tre_e</td>\n",
       "      <td>5.477137e-01</td>\n",
       "    </tr>\n",
       "    <tr>\n",
       "      <th>50</th>\n",
       "      <td>EX_malt_e</td>\n",
       "      <td>5.477137e-01</td>\n",
       "    </tr>\n",
       "    <tr>\n",
       "      <th>44</th>\n",
       "      <td>EX_lcts_e</td>\n",
       "      <td>4.450174e-01</td>\n",
       "    </tr>\n",
       "    <tr>\n",
       "      <th>...</th>\n",
       "      <td>...</td>\n",
       "      <td>...</td>\n",
       "    </tr>\n",
       "    <tr>\n",
       "      <th>56</th>\n",
       "      <td>EX_mnl1p_e</td>\n",
       "      <td>7.327472e-15</td>\n",
       "    </tr>\n",
       "    <tr>\n",
       "      <th>29</th>\n",
       "      <td>EX_gly_asp__L_e</td>\n",
       "      <td>6.328271e-15</td>\n",
       "    </tr>\n",
       "    <tr>\n",
       "      <th>21</th>\n",
       "      <td>EX_fum_e</td>\n",
       "      <td>4.107825e-15</td>\n",
       "    </tr>\n",
       "    <tr>\n",
       "      <th>36</th>\n",
       "      <td>EX_h2s_e</td>\n",
       "      <td>3.663736e-15</td>\n",
       "    </tr>\n",
       "    <tr>\n",
       "      <th>33</th>\n",
       "      <td>EX_glyclt_e</td>\n",
       "      <td>1.554312e-15</td>\n",
       "    </tr>\n",
       "  </tbody>\n",
       "</table>\n",
       "<p>98 rows × 2 columns</p>\n",
       "</div>"
      ],
      "text/plain": [
       "           exchange          diff\n",
       "51      EX_malthp_e  2.327783e+00\n",
       "87        EX_sucr_e  5.477137e-01\n",
       "93         EX_tre_e  5.477137e-01\n",
       "50        EX_malt_e  5.477137e-01\n",
       "44        EX_lcts_e  4.450174e-01\n",
       "..              ...           ...\n",
       "56       EX_mnl1p_e  7.327472e-15\n",
       "29  EX_gly_asp__L_e  6.328271e-15\n",
       "21         EX_fum_e  4.107825e-15\n",
       "36         EX_h2s_e  3.663736e-15\n",
       "33      EX_glyclt_e  1.554312e-15\n",
       "\n",
       "[98 rows x 2 columns]"
      ]
     },
     "execution_count": 42,
     "metadata": {},
     "output_type": "execute_result"
    }
   ],
   "source": [
    "find_additives(model, M9_med)"
   ]
  },
  {
   "cell_type": "code",
   "execution_count": 43,
   "metadata": {},
   "outputs": [
    {
     "name": "stdout",
     "output_type": "stream",
     "text": [
      "Growth rate with additives: 0.639\n",
      "Doubling time with additives: 65.08 min\n"
     ]
    }
   ],
   "source": [
    "enhanced_growth(model, M9_med, CasA_med)"
   ]
  }
 ],
 "metadata": {
  "kernelspec": {
   "display_name": "Python 3",
   "language": "python",
   "name": "python3"
  },
  "language_info": {
   "codemirror_mode": {
    "name": "ipython",
    "version": 3
   },
   "file_extension": ".py",
   "mimetype": "text/x-python",
   "name": "python",
   "nbconvert_exporter": "python",
   "pygments_lexer": "ipython3",
   "version": "3.9.13"
  },
  "orig_nbformat": 4,
  "vscode": {
   "interpreter": {
    "hash": "b335ed1da5a1ff03f60c6f2b8d73ad245c1a6cb27799af2b559ab4e2e6d580ce"
   }
  }
 },
 "nbformat": 4,
 "nbformat_minor": 2
}
