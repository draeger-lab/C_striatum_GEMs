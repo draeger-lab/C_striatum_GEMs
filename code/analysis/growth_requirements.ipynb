{
 "cells": [
  {
   "attachments": {},
   "cell_type": "markdown",
   "metadata": {},
   "source": [
    "# Growth requirements\n",
    "\n",
    "This notebook is focused on carbon sources, minimal media, uptakes etc. of the models present in this repository.\n",
    "\n",
    "*Author: Famke Baeuerle*"
   ]
  },
  {
   "cell_type": "code",
   "execution_count": 3,
   "metadata": {},
   "outputs": [],
   "source": [
    "import refinegems as rg\n",
    "from cobra.medium import minimal_medium\n",
    "import pandas as pd\n",
    "import numpy as np\n",
    "\n",
    "CARBON = [\"EX_gly_e\", \"EX_fum_e\", \"EX_male_e\", \"EX_pyr_e\", \"EX_succ_e\", \"EX_glc__D_e\", \"EX_urea_e\", \"EX_22bipy_e\", \"EX_boricacid_e\", \n",
    "            \"EX_adocbl_e\", \"EX_4abz_e\", \"EX_pnto__R_e\", \"EX_pydam_e\", \"EX_nac_e\", 'EX_fru_e', 'EX_succ_e', 'EX_gam_e', 'EX_glyald_e']\n",
    "NITROGEN = [\"EX_ala__L_e\", \"EX_arg__L_e\", \"EX_cys__L_e\", \"EX_glu__L_e\", \"EX_his__L_e\", \"EX_leu__L_e\", \"EX_lys__L_e\", \"EX_orn_e\", \"EX_phe__L_e\", \n",
    "            \"EX_pro__L_e\", \"EX_ser__L_e\", \"EX_thr__L_e\", \"EX_trp__L_e\", \"EX_val__L_e\", \"EX_cit_e\", \"EX_btn_e\", \"EX_ribflv_e\", \"EX_thm_e\"]"
   ]
  },
  {
   "cell_type": "code",
   "execution_count": null,
   "metadata": {},
   "outputs": [],
   "source": [
    "def remove_common(a, b):\n",
    "    a, b = [i for i in a if i not in b], [j for j in b if j not in a]\n",
    "    print(\"list1 : \", a)\n",
    "    print(\"list2 : \", b)"
   ]
  },
  {
   "cell_type": "code",
   "execution_count": null,
   "metadata": {},
   "outputs": [],
   "source": [
    "common_TS=['EX_ca2_e',\n",
    " 'EX_cl_e',\n",
    " 'EX_cobalt2_e',\n",
    " 'EX_cu2_e',\n",
    " 'EX_k_e',\n",
    " 'EX_mg2_e',\n",
    " 'EX_mn2_e',\n",
    " 'EX_o2_e',\n",
    " 'EX_pi_e',\n",
    " 'EX_zn2_e']"
   ]
  },
  {
   "attachments": {},
   "cell_type": "markdown",
   "metadata": {},
   "source": [
    "## Minimal media for all models"
   ]
  },
  {
   "attachments": {},
   "cell_type": "markdown",
   "metadata": {},
   "source": [
    "First we load all models with refineGEMs."
   ]
  },
  {
   "cell_type": "code",
   "execution_count": 4,
   "metadata": {},
   "outputs": [],
   "source": [
    "modelpaths = ['../../models/iCstr1054FB23.xml', '../../models/iCstr1197FB23.xml', '../../models/iCstr1115FB23.xml', '../../models/iCstr1116FB23.xml']\n",
    "cmods = [rg.io.load_model_cobra(path) for path in modelpaths]"
   ]
  },
  {
   "attachments": {},
   "cell_type": "markdown",
   "metadata": {},
   "source": [
    "Then we apply the cobrapy minimal_medium function to all models wth 4 components."
   ]
  },
  {
   "cell_type": "code",
   "execution_count": 5,
   "metadata": {},
   "outputs": [],
   "source": [
    "for model in cmods:\n",
    "    mini = minimal_medium(model, 0.1, minimize_components=4, open_exchanges=True)\n",
    "    mini.to_csv('../../analysis/minmal_media/Cstr_' + model.id[4:] + '_minmed.csv')"
   ]
  },
  {
   "attachments": {},
   "cell_type": "markdown",
   "metadata": {},
   "source": [
    "### Growth behavior on minimal media"
   ]
  },
  {
   "cell_type": "code",
   "execution_count": 17,
   "metadata": {},
   "outputs": [
    {
     "name": "stdout",
     "output_type": "stream",
     "text": [
      "{'EX_2pglyc_e': 0.0986092999917973, 'EX_ca2_e': 0.0005205, 'EX_chols_e': 0.0250625999998419, 'EX_cl_e': 0.0005205, 'EX_cobalt2_e': 1e-05, 'EX_cu2_e': 7.09e-05, 'EX_glyglygln_e': 135.2566503614603, 'EX_k_e': 0.0195193, 'EX_mg2_e': 0.0008675, 'EX_mn2_e': 6.91e-05, 'EX_o2_e': 860.4240884351017, 'EX_salchs4fe_e': 0.2942146547067068, 'EX_zn2_e': 3.41e-05}\n",
      "Investigate minimal medium of strain iCstr1054FB23\n",
      "Doubling time with standard fluxes:\n",
      "415.8883084145069\n",
      "Doubling time with 10.0 as flux:\n",
      "930.3585923974731\n"
     ]
    }
   ],
   "source": [
    "model = cmods[0]\n",
    "col = '3' # decide for one of the columns (0 to 3)\n",
    "min_medium = pd.read_csv('../../analysis/minmal_media/Cstr_TS_minmed.csv')\n",
    "min_medium = min_medium[['Unnamed: 0', col]]\n",
    "min_medium = min_medium[min_medium[col] != 0]\n",
    "min_medium = min_medium.set_index('Unnamed: 0').to_dict()[col]\n",
    "print(min_medium)\n",
    "\n",
    "print('Investigate minimal medium of strain ' + model.id)\n",
    "with model:\n",
    "    model.medium = min_medium\n",
    "    growth = model.slim_optimize()\n",
    "    time = (np.log(2) / growth) * 60\n",
    "    print('Doubling time with standard fluxes:')\n",
    "    print(time)\n",
    "\n",
    "for key, value in min_medium.items():\n",
    "    min_medium[key] = 10.0\n",
    "\n",
    "with model:\n",
    "    model.medium = min_medium\n",
    "    growth = model.optimize() \n",
    "    time = (np.log(2) / growth.objective_value) * 60\n",
    "    print('Doubling time with 10.0 as flux:')\n",
    "    print(time)"
   ]
  },
  {
   "attachments": {},
   "cell_type": "markdown",
   "metadata": {},
   "source": [
    "## Carbon sources"
   ]
  },
  {
   "cell_type": "code",
   "execution_count": 25,
   "metadata": {},
   "outputs": [],
   "source": [
    "def simulate_carbon_sources(model, base_medium):\n",
    "    carbon_sources = CARBON\n",
    "    simulate = {}\n",
    "    with model:\n",
    "        simulate['default uptake'] = model.optimize().objective_value\n",
    "    with model:\n",
    "        model.medium = {i: 10.0 for i in base_medium}\n",
    "        #print(model.medium)\n",
    "        remove = []\n",
    "        #model.reactions.get_by_id('EX_o2_e').lower_bound = 0.\n",
    "        # does not grow without oxygen\n",
    "        carbon_sources.extend(NITROGEN)\n",
    "        for source in carbon_sources:\n",
    "            try:\n",
    "                model.reactions.get_by_id(source).lower_bound = 0.\n",
    "            except (KeyError):\n",
    "                print(source + ' not in model')\n",
    "                remove.append(source)\n",
    "        print('Minimal medium to simulate on: ')\n",
    "        print(model.medium)\n",
    "        carbon_sources = [x for x in carbon_sources if x not in remove]\n",
    "        simulate['no carbon'] = model.optimize().objective_value\n",
    "        for source in carbon_sources:\n",
    "            model.reactions.get_by_id(source).lower_bound = -10.\n",
    "            solution = model.optimize().objective_value\n",
    "            simulate[source] = solution#(np.log(2) / solution) * 60\n",
    "            model.reactions.get_by_id(source).lower_bound = 0.\n",
    "            \n",
    "    return simulate"
   ]
  },
  {
   "attachments": {},
   "cell_type": "markdown",
   "metadata": {},
   "source": [
    "We take the minimal uptake from the calculated minimal medium as base medium to simulate the carbon sources on."
   ]
  },
  {
   "cell_type": "code",
   "execution_count": 71,
   "metadata": {},
   "outputs": [
    {
     "data": {
      "text/plain": [
       "{'EX_ca2_e': 0.0005205,\n",
       " 'EX_cl_e': 0.0005205,\n",
       " 'EX_cobalt2_e': 1e-05,\n",
       " 'EX_cu_e': 7.09e-05,\n",
       " 'EX_g3pe_e': 31.64972680157348,\n",
       " 'EX_gthrd_e': 79.24542397060202,\n",
       " 'EX_istfrnA_e': 0.0014523000000295,\n",
       " 'EX_k_e': 0.0195193,\n",
       " 'EX_mg2_e': 0.0008675,\n",
       " 'EX_mn2_e': 6.91e-05,\n",
       " 'EX_nmn_e': 0.0002278000001751,\n",
       " 'EX_o2_e': 697.8102169681671,\n",
       " 'EX_pnto__R_e': 10.0,\n",
       " 'EX_so4_e': 0.0004338,\n",
       " 'EX_zn2_e': 3.41e-05}"
      ]
     },
     "execution_count": 71,
     "metadata": {},
     "output_type": "execute_result"
    }
   ],
   "source": [
    "model = cmods[3] \n",
    "col = '0' # decide for one of the columns (0 to 3)\n",
    "minmed = pd.read_csv('../../analysis/minmal_media/Cstr_1116_minmed.csv')\n",
    "minmed = minmed[['Unnamed: 0', col]]\n",
    "minmed = minmed[minmed[col] != 0]\n",
    "minmed = minmed.set_index('Unnamed: 0').to_dict()[col]\n",
    "minmed['EX_pnto__R_e'] = 10.0\n",
    "minmed"
   ]
  },
  {
   "attachments": {},
   "cell_type": "markdown",
   "metadata": {},
   "source": [
    "Test if nitrogen or carbon source is in the minmal medium composition."
   ]
  },
  {
   "cell_type": "code",
   "execution_count": 68,
   "metadata": {},
   "outputs": [
    {
     "data": {
      "text/plain": [
       "{}"
      ]
     },
     "execution_count": 68,
     "metadata": {},
     "output_type": "execute_result"
    }
   ],
   "source": [
    "n = {k: minmed[k] for k in minmed.keys() & set(NITROGEN)}\n",
    "n"
   ]
  },
  {
   "cell_type": "code",
   "execution_count": 72,
   "metadata": {},
   "outputs": [
    {
     "name": "stdout",
     "output_type": "stream",
     "text": [
      "Simulate carbon sources of strain iCstr1116FB23\n",
      "EX_male_e not in model\n",
      "EX_22bipy_e not in model\n",
      "EX_boricacid_e not in model\n",
      "EX_adocbl_e not in model\n",
      "EX_4abz_e not in model\n",
      "EX_pydam_e not in model\n",
      "EX_nac_e not in model\n",
      "EX_orn_e not in model\n",
      "EX_ribflv_e not in model\n",
      "EX_orn_e not in model\n",
      "EX_ribflv_e not in model\n",
      "EX_orn_e not in model\n",
      "EX_ribflv_e not in model\n",
      "EX_orn_e not in model\n",
      "EX_ribflv_e not in model\n",
      "EX_orn_e not in model\n",
      "EX_ribflv_e not in model\n",
      "EX_orn_e not in model\n",
      "EX_ribflv_e not in model\n",
      "EX_orn_e not in model\n",
      "EX_ribflv_e not in model\n",
      "EX_orn_e not in model\n",
      "EX_ribflv_e not in model\n",
      "EX_orn_e not in model\n",
      "EX_ribflv_e not in model\n",
      "EX_orn_e not in model\n",
      "EX_ribflv_e not in model\n",
      "EX_orn_e not in model\n",
      "EX_ribflv_e not in model\n",
      "EX_orn_e not in model\n",
      "EX_ribflv_e not in model\n",
      "EX_orn_e not in model\n",
      "EX_ribflv_e not in model\n",
      "Minimal medium to simulate on: \n",
      "{'EX_ca2_e': 10.0, 'EX_cl_e': 10.0, 'EX_cobalt2_e': 10.0, 'EX_cu_e': 10.0, 'EX_g3pe_e': 10.0, 'EX_gthrd_e': 10.0, 'EX_istfrnA_e': 10.0, 'EX_k_e': 10.0, 'EX_mg2_e': 10.0, 'EX_mn2_e': 10.0, 'EX_nmn_e': 10.0, 'EX_o2_e': 10.0, 'EX_so4_e': 10.0, 'EX_zn2_e': 10.0}\n"
     ]
    }
   ],
   "source": [
    "print('Simulate carbon sources of strain ' + model.id)\n",
    "carbon = simulate_carbon_sources(model, minmed.keys())"
   ]
  },
  {
   "attachments": {},
   "cell_type": "markdown",
   "metadata": {},
   "source": [
    "Now we create a list of carbon sources that lead to the highest growth rates for each of the strains."
   ]
  },
  {
   "cell_type": "code",
   "execution_count": 73,
   "metadata": {},
   "outputs": [
    {
     "name": "stdout",
     "output_type": "stream",
     "text": [
      "default uptake 34.5655\n",
      "no carbon 0.0\n",
      "EX_gly_e 0.0\n",
      "EX_fum_e 0.0\n",
      "EX_pyr_e 0.0\n",
      "EX_succ_e 0.0\n",
      "EX_glc__D_e 0.0\n",
      "EX_urea_e 0.0\n",
      "EX_pnto__R_e 0.0876\n",
      "EX_fru_e 0.0\n",
      "EX_gam_e 0.0\n",
      "EX_glyald_e 0.0\n",
      "EX_ala__L_e 0.0\n",
      "EX_arg__L_e 0.0\n",
      "EX_cys__L_e 0.0\n",
      "EX_glu__L_e 0.0\n",
      "EX_his__L_e 0.0\n",
      "EX_leu__L_e 0.0\n",
      "EX_lys__L_e 0.0\n",
      "EX_phe__L_e 0.0\n",
      "EX_pro__L_e 0.0\n",
      "EX_ser__L_e 0.0\n",
      "EX_thr__L_e 0.0\n",
      "EX_trp__L_e 0.0\n",
      "EX_val__L_e 0.0\n",
      "EX_cit_e 0.0\n",
      "EX_btn_e 0.0\n",
      "EX_thm_e 0.0\n"
     ]
    }
   ],
   "source": [
    "for source, value in carbon.items():\n",
    "    if value > 0.0009:\n",
    "        print(source, round(value, 4))"
   ]
  },
  {
   "attachments": {},
   "cell_type": "markdown",
   "metadata": {},
   "source": [
    "Now we extract minimal compositions for anaerobic growth."
   ]
  },
  {
   "cell_type": "code",
   "execution_count": 114,
   "metadata": {},
   "outputs": [],
   "source": [
    "minmed = pd.read_csv('../../analysis/minmal_media/Cstr_1116_minmed.csv')\n",
    "minmed = minmed[minmed['1'] != 0]\n",
    "minmed = minmed.set_index('Unnamed: 0').to_dict()['1']\n",
    "pd.Series([key[3:-2] for key in minmed.keys()]).to_clipboard()"
   ]
  },
  {
   "attachments": {},
   "cell_type": "markdown",
   "metadata": {},
   "source": [
    "**Result of the anaerobic minimal medium for each strain**\n",
    "\n",
    "| TS      | 1197    | 1115    | 1116    |\n",
    "|---------|---------|---------|---------|\n",
    "| ca2     | ca2     | acglu   | ca2     |\n",
    "| cgly    | cl      | ca2     | cl      |\n",
    "| chols   | cobalt2 | cl      | cobalt2 |\n",
    "| cl      | cu      | cobalt2 | cu      |\n",
    "| cobalt2 | gthrd   | cu2     | fe2     |\n",
    "| cu2     | h2o2    | glyc3p  | g3pe    |\n",
    "| h2o2    | istfrnA | h2o2    | gthrd   |\n",
    "| istfrnB | k       | istfrnA | h2o2    |\n",
    "| k       | mg2     | k       | k       |\n",
    "| mg2     | mn2     | mg2     | mg2     |\n",
    "| mn2     | pi      | mn2     | mn2     |\n",
    "| pi      | pnto__R | pnto__R | nmn     |\n",
    "| zn2     | zn2     | s       | pnto__R |\n",
    "|         |         | so4     | so4     |\n",
    "|         |         | zn2     | zn2     |"
   ]
  },
  {
   "attachments": {},
   "cell_type": "markdown",
   "metadata": {},
   "source": [
    "## Essential reactions"
   ]
  },
  {
   "cell_type": "code",
   "execution_count": 116,
   "metadata": {},
   "outputs": [
    {
     "data": {
      "text/plain": [
       "['ADPT',\n",
       " 'ALAALAr',\n",
       " 'ASAD',\n",
       " 'ASPK',\n",
       " 'CA2abcpp',\n",
       " 'CA2tex',\n",
       " 'CDPMEK',\n",
       " 'CHORS',\n",
       " 'CLtex',\n",
       " 'CLtipp',\n",
       " 'Cuabc',\n",
       " 'DAPE',\n",
       " 'DHDPRy',\n",
       " 'DHDPS',\n",
       " 'DHNAOT',\n",
       " 'DMATT',\n",
       " 'DPCOAK',\n",
       " 'DTMPK',\n",
       " 'DXPRIi',\n",
       " 'DXPS',\n",
       " 'FMNAT',\n",
       " 'GK1',\n",
       " 'GRTT',\n",
       " 'ICHORS',\n",
       " 'Kt2r',\n",
       " 'MECDPS',\n",
       " 'MEPCT',\n",
       " 'METAT',\n",
       " 'MGt5',\n",
       " 'MNabc',\n",
       " 'NADK',\n",
       " 'NADS1',\n",
       " 'NDPK1',\n",
       " 'NDPK2',\n",
       " 'NDPK4',\n",
       " 'NNATr',\n",
       " 'NNDPR',\n",
       " 'NPHS',\n",
       " 'OCTDPS',\n",
       " 'PAPPT3',\n",
       " 'PNTK',\n",
       " 'PPA',\n",
       " 'PPNCL3',\n",
       " 'PRPPS',\n",
       " 'PSCVT',\n",
       " 'PTPATi',\n",
       " 'QULNS',\n",
       " 'RBFK',\n",
       " 'SDPDS',\n",
       " 'SDPTA',\n",
       " 'SEPHCHCS',\n",
       " 'SHCHCS3',\n",
       " 'SHKK',\n",
       " 'SUCBZL',\n",
       " 'SUCBZS',\n",
       " 'THDPS',\n",
       " 'UAAGDS',\n",
       " 'UAGCVT',\n",
       " 'UAGDP',\n",
       " 'UAGPT3',\n",
       " 'UAMAGS',\n",
       " 'UAMAS',\n",
       " 'UAPGR',\n",
       " 'UGMDDS',\n",
       " 'UMPK',\n",
       " 'EX_ca2_e',\n",
       " 'EX_cl_e',\n",
       " 'EX_cobalt2_e',\n",
       " 'EX_cu2_e',\n",
       " 'EX_k_e',\n",
       " 'EX_mg2_e',\n",
       " 'EX_mn2_e',\n",
       " 'EX_zn2_e',\n",
       " 'Growth']"
      ]
     },
     "execution_count": 116,
     "metadata": {},
     "output_type": "execute_result"
    }
   ],
   "source": [
    "model = cmods[0]\n",
    "ess = []\n",
    "for reaction in model.reactions:\n",
    "    with model as model:\n",
    "        reaction.knock_out()\n",
    "        model.optimize()\n",
    "        if model.objective.value <= 11:\n",
    "            #print('%s blocked (bounds: %s), new growth rate %f $' % (reaction.id, str(reaction.bounds), model.objective.value))\n",
    "            ess.append(reaction.id)\n",
    "ess"
   ]
  },
  {
   "attachments": {},
   "cell_type": "markdown",
   "metadata": {},
   "source": [
    "## Fluxes on different growth media"
   ]
  },
  {
   "cell_type": "code",
   "execution_count": 169,
   "metadata": {},
   "outputs": [
    {
     "name": "stdout",
     "output_type": "stream",
     "text": [
      "['glc__D', 'ala__L', 'asp__L', 'glu__L', 'his__L', 'leu__L', 'met__L', 'pro__L', 'thr__L', 'tyr__L', 'arg__L', 'cys__L', 'gly', 'ile__L', 'lys__L', 'phe__L', 'ser__L', 'trp__L', 'val__L', 'thm', 'ribflv', 'pnto__R', 'btn', 'fol', 'na1', 'cl', 'so4', 'k', 'pi', 'ca2', 'mg2', 'zn2', 'aso3', 'hxan', 'dcyt', 'ura', 'o2', 'h', 'h2o', 'amp', 'cobalt2', 'cu2', 'fe2', 'fe3', 'h2s', 'lipoate', 'mn2', 'mobd', 'nh4', 'ni2', 'pheme']\n"
     ]
    },
    {
     "data": {
      "text/html": [
       "<div>\n",
       "<style scoped>\n",
       "    .dataframe tbody tr th:only-of-type {\n",
       "        vertical-align: middle;\n",
       "    }\n",
       "\n",
       "    .dataframe tbody tr th {\n",
       "        vertical-align: top;\n",
       "    }\n",
       "\n",
       "    .dataframe thead th {\n",
       "        text-align: right;\n",
       "    }\n",
       "</style>\n",
       "<table border=\"1\" class=\"dataframe\">\n",
       "  <thead>\n",
       "    <tr style=\"text-align: right;\">\n",
       "      <th></th>\n",
       "      <th>fluxes_rpmi</th>\n",
       "    </tr>\n",
       "  </thead>\n",
       "  <tbody>\n",
       "    <tr>\n",
       "      <th>ACLDC</th>\n",
       "      <td>1.280775e-12</td>\n",
       "    </tr>\n",
       "    <tr>\n",
       "      <th>ACLS_d</th>\n",
       "      <td>-2.255211e-14</td>\n",
       "    </tr>\n",
       "    <tr>\n",
       "      <th>ACLSb</th>\n",
       "      <td>1.347431e-12</td>\n",
       "    </tr>\n",
       "    <tr>\n",
       "      <th>ACONT</th>\n",
       "      <td>-1.437305e-13</td>\n",
       "    </tr>\n",
       "    <tr>\n",
       "      <th>ACTNabc1</th>\n",
       "      <td>1.280775e-12</td>\n",
       "    </tr>\n",
       "    <tr>\n",
       "      <th>...</th>\n",
       "      <td>...</td>\n",
       "    </tr>\n",
       "    <tr>\n",
       "      <th>EX_trp__L_e</th>\n",
       "      <td>-4.412399e-15</td>\n",
       "    </tr>\n",
       "    <tr>\n",
       "      <th>EX_tyr__L_e</th>\n",
       "      <td>-1.070408e-14</td>\n",
       "    </tr>\n",
       "    <tr>\n",
       "      <th>EX_zn2_e</th>\n",
       "      <td>-2.646989e-17</td>\n",
       "    </tr>\n",
       "    <tr>\n",
       "      <th>Growth</th>\n",
       "      <td>7.762431e-14</td>\n",
       "    </tr>\n",
       "    <tr>\n",
       "      <th>EX_na1_e</th>\n",
       "      <td>-2.087088e-13</td>\n",
       "    </tr>\n",
       "  </tbody>\n",
       "</table>\n",
       "<p>297 rows × 1 columns</p>\n",
       "</div>"
      ],
      "text/plain": [
       "              fluxes_rpmi\n",
       "ACLDC        1.280775e-12\n",
       "ACLS_d      -2.255211e-14\n",
       "ACLSb        1.347431e-12\n",
       "ACONT       -1.437305e-13\n",
       "ACTNabc1     1.280775e-12\n",
       "...                   ...\n",
       "EX_trp__L_e -4.412399e-15\n",
       "EX_tyr__L_e -1.070408e-14\n",
       "EX_zn2_e    -2.646989e-17\n",
       "Growth       7.762431e-14\n",
       "EX_na1_e    -2.087088e-13\n",
       "\n",
       "[297 rows x 1 columns]"
      ]
     },
     "execution_count": 169,
     "metadata": {},
     "output_type": "execute_result"
    }
   ],
   "source": [
    "# we have to look systematically at the flux distribution\n",
    "m9 = pd.read_csv('../../data/media_db.csv')[pd.read_csv('../../data/media_db.csv')['medium']=='M9']['BiGG'].to_list()\n",
    "cgx = pd.read_csv('../../data/media_db.csv')[pd.read_csv('../../data/media_db.csv')['medium']=='CGXII']['BiGG'].to_list()\n",
    "lb = pd.read_csv('../../data/media_db.csv')[pd.read_csv('../../data/media_db.csv')['medium']=='LB']['BiGG'].to_list()\n",
    "rpmi = pd.read_csv('../../data/media_db.csv')[pd.read_csv('../../data/media_db.csv')['medium']=='RPMI']['BiGG'].to_list()[:-1]\n",
    "rpmi.remove('ncam')\n",
    "rpmi.remove('pydxn')\n",
    "rpmi.remove('cbl1')\n",
    "rpmi.remove('4hpro_LT')\n",
    "rpmi.remove('b12')\n",
    "lb.remove(np.nan)\n",
    "lb.remove(np.nan)\n",
    "lb.remove('pydx')\n",
    "lb.remove('cbl1')\n",
    "lb.remove('cbl2')\n",
    "lb.remove('b12')\n",
    "lb.remove('cd2')\n",
    "lb.remove('hg2')\n",
    "lb.remove('ins')\n",
    "lb.remove('thymd')\n",
    "lb.remove('uri')\n",
    "lb.remove('dad_2')\n",
    "lb.remove('adn')\n",
    "lb.remove('chor')\n",
    "lb.remove('cmp')\n",
    "lb.remove('cro4')\n",
    "lb.remove('gmp')\n",
    "lb.remove('gsn')\n",
    "lb.remove('nac')\n",
    "lb.remove('ump')\n",
    "\n",
    "with model:\n",
    "    model.medium = {'EX_' + i + '_e':10 for i in m9}\n",
    "    flux_m9 = pd.DataFrame(model.optimize().fluxes).rename({'fluxes':'fluxes_m9'}, axis=1)\n",
    "\n",
    "with model:\n",
    "    model.medium = {'EX_' + i + '_e':10 for i in lb}\n",
    "    flux_lb = pd.DataFrame(model.optimize().fluxes).rename({'fluxes':'fluxes_lb'}, axis=1)\n",
    "    \n",
    "with model:\n",
    "    model.medium = {'EX_' + i + '_e':10 for i in rpmi}\n",
    "    flux_rpmi = pd.DataFrame(model.optimize().fluxes).rename({'fluxes':'fluxes_rpmi'}, axis=1)\n",
    "    \n",
    "with model:\n",
    "    model.medium = {'EX_' + i + '_e':10 for i in cgx}\n",
    "    flux_cgx = pd.DataFrame(model.optimize().fluxes).rename({'fluxes':'fluxes_cgx'}, axis=1)\n",
    "\n",
    "all_flux = flux_rpmi.join(flux_m9).join(flux_lb).join(flux_cgx)\n",
    "flux_rpmi[flux_rpmi['fluxes_rpmi'] != 0]"
   ]
  },
  {
   "attachments": {},
   "cell_type": "markdown",
   "metadata": {},
   "source": [
    "Looking at the flux distribution."
   ]
  },
  {
   "cell_type": "code",
   "execution_count": 176,
   "metadata": {},
   "outputs": [
    {
     "name": "stdout",
     "output_type": "stream",
     "text": [
      "\\begin{tabular}{lrrrr}\n",
      "\\toprule\n",
      "{} &  fluxes\\_rpmi &  fluxes\\_m9 &  fluxes\\_lb &  fluxes\\_cgx \\\\\n",
      "\\midrule\n",
      "ALCD19     &       1000.0 &     1000.0 &    1000.00 &     1000.00 \\\\\n",
      "ASPT       &        990.0 &     1000.0 &     990.04 &      996.83 \\\\\n",
      "CMCBTFL    &       1000.0 &     1000.0 &    1000.00 &     1000.00 \\\\\n",
      "CMCBTFU    &       1000.0 &     1000.0 &    1000.00 &     1000.00 \\\\\n",
      "CO2t       &        990.0 &     1000.0 &     988.09 &      988.78 \\\\\n",
      "FUM        &       1000.0 &     1000.0 &    1000.00 &     1000.00 \\\\\n",
      "Kt2r       &        485.0 &      500.0 &     485.54 &      492.32 \\\\\n",
      "Kt3r       &        485.0 &      500.0 &     485.44 &      492.32 \\\\\n",
      "MDH        &       1000.0 &     1000.0 &    1000.00 &     1000.00 \\\\\n",
      "NAt3\\_1     &        990.0 &     1000.0 &     990.63 &     1000.00 \\\\\n",
      "SUCTARTtpp &       1000.0 &     1000.0 &    1000.00 &     1000.00 \\\\\n",
      "r1143      &        990.0 &     1000.0 &     990.63 &     1000.00 \\\\\n",
      "\\bottomrule\n",
      "\\end{tabular}\n",
      "\n"
     ]
    }
   ],
   "source": [
    "all_flux.loc[~(all_flux != 0).any(axis=1)] # 1578 reactions have no flux\n",
    "all_flux.loc[(all_flux != 0).any(axis=1)] # only 428 have flux\n",
    "print(all_flux.loc[(all_flux > 0.005).all(axis=1)].round(2).to_latex())#.index "
   ]
  },
  {
   "attachments": {},
   "cell_type": "markdown",
   "metadata": {},
   "source": [
    "## Flux variability analysis"
   ]
  },
  {
   "cell_type": "code",
   "execution_count": null,
   "metadata": {},
   "outputs": [],
   "source": [
    "model.optimize()\n",
    "model.summary(fva=0.9)"
   ]
  }
 ],
 "metadata": {
  "kernelspec": {
   "display_name": "rg",
   "language": "python",
   "name": "python3"
  },
  "language_info": {
   "codemirror_mode": {
    "name": "ipython",
    "version": 3
   },
   "file_extension": ".py",
   "mimetype": "text/x-python",
   "name": "python",
   "nbconvert_exporter": "python",
   "pygments_lexer": "ipython3",
   "version": "3.9.16"
  },
  "orig_nbformat": 4,
  "vscode": {
   "interpreter": {
    "hash": "d346240008253c0833d91dc133a0f72ff509568477a857db219647a824e7753e"
   }
  }
 },
 "nbformat": 4,
 "nbformat_minor": 2
}
