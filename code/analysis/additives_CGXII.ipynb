{
 "cells": [
  {
   "attachments": {},
   "cell_type": "markdown",
   "metadata": {},
   "source": [
    "# Growth enhancing additives on CGXII medium\n",
    "\n",
    "This notebook holds growth simulation with different growth enhancing metabolites for all strains.\n",
    "\n",
    "*Author: Famke Baeuerle*"
   ]
  },
  {
   "cell_type": "code",
   "execution_count": 1,
   "metadata": {},
   "outputs": [
    {
     "name": "stderr",
     "output_type": "stream",
     "text": [
      "CPLEX is available but could not load with error:\n",
      "  Traceback (most recent call last):\n",
      "    File \"/Users/baeuerle/Library/Python/3.9/lib/python/site-packages/optlang/__init__.py\", line 43, in <module>\n",
      "      from optlang import cplex_interface\n",
      "    File \"/Users/baeuerle/Library/Python/3.9/lib/python/site-packages/optlang/cplex_interface.py\", line 32, in <module>\n",
      "      from cplex.exceptions import CplexSolverError\n",
      "  ModuleNotFoundError: No module named 'cplex.exceptions'\n"
     ]
    }
   ],
   "source": [
    "# imports\n",
    "from libsbml import *\n",
    "import refinegems as rg\n",
    "import pandas as pd\n",
    "import numpy as np\n",
    "\n",
    "# strain naming\n",
    "STRAINS_LAB = {'14':'TS', \n",
    "            '15':'1197',\n",
    "            '16':'1115',\n",
    "            '17':'1116',\n",
    "            }"
   ]
  },
  {
   "attachments": {},
   "cell_type": "markdown",
   "metadata": {},
   "source": [
    "First we will define functions which allow us to conduct reproducible simulation without needing to copy paste the routines."
   ]
  },
  {
   "cell_type": "code",
   "execution_count": 2,
   "metadata": {},
   "outputs": [],
   "source": [
    "def find_additives(model: Model, base_medium: dict) -> pd.DataFrame:\n",
    "    \"\"\"_summary_\n",
    "\n",
    "    Args:\n",
    "        model (Model): Model loaded with libSBML\n",
    "        base_medium (dict): holding all exchanges that are defined for the medium and present in the model\n",
    "\n",
    "    Returns:\n",
    "        pd.DataFrame: exchanges of metabolites that enhace growth and their enhancement\n",
    "    \"\"\"\n",
    "    with model:\n",
    "        medium = model.medium\n",
    "        model.medium = base_medium\n",
    "        sol = model.optimize()      \n",
    "    base_growth = sol.objective_value\n",
    "    dt = (np.log(2) / sol.objective_value) * 60\n",
    "    print('Growth rate without additives: ' + str(round(base_growth, 4)))\n",
    "    print('Doubling time without additives: ' + str(round(dt, 2)) + ' min')\n",
    "        \n",
    "    enhancement = {}\n",
    "    for ex in list(model.exchanges):\n",
    "        if ex.id not in base_medium.keys():\n",
    "            with model:\n",
    "                medium = model.medium\n",
    "                base_medium.update({ex.id:10.0})\n",
    "                model.medium = base_medium\n",
    "                sol = model.optimize()\n",
    "                if sol.objective_value > base_growth:\n",
    "                    enhancement[ex.id] = sol.objective_value - base_growth\n",
    "                base_medium.pop(ex.id)\n",
    "    \n",
    "    enh = pd.DataFrame(enhancement.items(), columns=['exchange', 'diff']).sort_values(by=['diff'], ascending=False)\n",
    "    \n",
    "    return enh\n",
    "\n",
    "def enhanced_growth(model: Model, base_medium: dict, new_metabs: list[str]):\n",
    "    \"\"\"_summary_\n",
    "\n",
    "    Args:\n",
    "        model (Model): Model loaded with libSBML\n",
    "        base_medium (dict): holding all exchanges that are defined for the medium and present in the model\n",
    "        new_metabs (list[str]): exchanges of metabolites that might enhance the growth\n",
    "    \"\"\"\n",
    "    local_medium = base_medium\n",
    "    with model:\n",
    "        medium = model.medium\n",
    "        for met in new_metabs:\n",
    "            local_medium[met] = 10.0\n",
    "        model.medium = local_medium\n",
    "        sol = model.optimize()\n",
    "    base_growth = sol.objective_value\n",
    "    dt = (np.log(2) / sol.objective_value) * 60\n",
    "    print('Growth rate with additives: ' + str(round(base_growth, 4)))\n",
    "    print('Doubling time with additives: ' + str(round(dt, 2)) + ' min')"
   ]
  },
  {
   "attachments": {},
   "cell_type": "markdown",
   "metadata": {},
   "source": [
    "In this case we are interested in the CGXII medium and a possible growth enhancement by casamino acids."
   ]
  },
  {
   "cell_type": "code",
   "execution_count": 3,
   "metadata": {},
   "outputs": [],
   "source": [
    "CGXII = pd.read_csv('../../analysis/CGXII_base_medium/CGXII.csv').set_index('exchange').to_dict()['flux']\n",
    "CasA = pd.read_csv('../../data/media_db.csv')[pd.read_csv('../../data/media_db.csv')['medium']=='CasA']['BiGG'].to_list()"
   ]
  },
  {
   "attachments": {},
   "cell_type": "markdown",
   "metadata": {},
   "source": [
    "## Strain 1115"
   ]
  },
  {
   "cell_type": "code",
   "execution_count": 12,
   "metadata": {},
   "outputs": [],
   "source": [
    "model = rg.io.load_model_cobra('../../models/iCstr1115FB23.xml')\n",
    "CGXII_comp_16 = pd.read_csv('../../analysis/CGXII_base_medium/CGXII_comp_16.csv').set_index('exchange').to_dict()['flux']"
   ]
  },
  {
   "cell_type": "code",
   "execution_count": 5,
   "metadata": {},
   "outputs": [
    {
     "name": "stdout",
     "output_type": "stream",
     "text": [
      "MTI: tre_c <=> malt_c\n",
      "AMALT3: malt_c + maltpt_c --> glc__D_c + malthx_c\n",
      "AMALT4: malt_c + malthx_c --> glc__D_c + malthp_c\n",
      "AMALT1: malt_c + malttr_c --> glc__D_c + maltttr_c\n",
      "MALTabc: atp_c + h2o_c + malt_e --> adp_c + h_c + malt_c + pi_c\n",
      "AMALT2: malt_c + maltttr_c --> glc__D_c + maltpt_c\n",
      "MLTG1: h2o_c + malttr_c --> glc__D_c + malt_c\n"
     ]
    }
   ],
   "source": [
    "for rea in model.metabolites.get_by_id('malt_c').reactions:\n",
    "    print(rea)"
   ]
  },
  {
   "cell_type": "code",
   "execution_count": 11,
   "metadata": {},
   "outputs": [
    {
     "name": "stdout",
     "output_type": "stream",
     "text": [
      "iCstr1115FB23\n",
      "Growth rate without additives: 0.8025\n",
      "Doubling time without additives: 51.82 min\n"
     ]
    },
    {
     "ename": "KeyboardInterrupt",
     "evalue": "",
     "output_type": "error",
     "traceback": [
      "\u001b[0;31m---------------------------------------------------------------------------\u001b[0m",
      "\u001b[0;31mKeyboardInterrupt\u001b[0m                         Traceback (most recent call last)",
      "\u001b[0;32m/var/folders/s0/m197rw591kxcl13y56pqhf9m0000gs/T/ipykernel_53460/3577924274.py\u001b[0m in \u001b[0;36m<module>\u001b[0;34m\u001b[0m\n\u001b[1;32m      1\u001b[0m \u001b[0mprint\u001b[0m\u001b[0;34m(\u001b[0m\u001b[0mmodel\u001b[0m\u001b[0;34m.\u001b[0m\u001b[0mid\u001b[0m\u001b[0;34m)\u001b[0m\u001b[0;34m\u001b[0m\u001b[0;34m\u001b[0m\u001b[0m\n\u001b[0;32m----> 2\u001b[0;31m \u001b[0menh\u001b[0m \u001b[0;34m=\u001b[0m \u001b[0mfind_additives\u001b[0m\u001b[0;34m(\u001b[0m\u001b[0mmodel\u001b[0m\u001b[0;34m,\u001b[0m \u001b[0mCGXII_comp_16\u001b[0m\u001b[0;34m)\u001b[0m\u001b[0;34m\u001b[0m\u001b[0;34m\u001b[0m\u001b[0m\n\u001b[0m\u001b[1;32m      3\u001b[0m \u001b[0menh\u001b[0m\u001b[0;34m.\u001b[0m\u001b[0mto_csv\u001b[0m\u001b[0;34m(\u001b[0m\u001b[0;34m'../../analysis/additives/Cstr_16_adds.csv'\u001b[0m\u001b[0;34m,\u001b[0m \u001b[0mindex\u001b[0m\u001b[0;34m=\u001b[0m\u001b[0;32mFalse\u001b[0m\u001b[0;34m)\u001b[0m\u001b[0;34m\u001b[0m\u001b[0;34m\u001b[0m\u001b[0m\n\u001b[1;32m      4\u001b[0m \u001b[0mprint\u001b[0m\u001b[0;34m(\u001b[0m\u001b[0menh\u001b[0m\u001b[0;34m.\u001b[0m\u001b[0mhead\u001b[0m\u001b[0;34m(\u001b[0m\u001b[0;34m)\u001b[0m\u001b[0;34m.\u001b[0m\u001b[0mto_markdown\u001b[0m\u001b[0;34m(\u001b[0m\u001b[0mindex\u001b[0m\u001b[0;34m=\u001b[0m\u001b[0;32mFalse\u001b[0m\u001b[0;34m)\u001b[0m\u001b[0;34m)\u001b[0m\u001b[0;34m\u001b[0m\u001b[0;34m\u001b[0m\u001b[0m\n",
      "\u001b[0;32m/var/folders/s0/m197rw591kxcl13y56pqhf9m0000gs/T/ipykernel_53460/3608260857.py\u001b[0m in \u001b[0;36mfind_additives\u001b[0;34m(model, base_medium)\u001b[0m\n\u001b[1;32m     25\u001b[0m                 \u001b[0mbase_medium\u001b[0m\u001b[0;34m.\u001b[0m\u001b[0mupdate\u001b[0m\u001b[0;34m(\u001b[0m\u001b[0;34m{\u001b[0m\u001b[0mex\u001b[0m\u001b[0;34m.\u001b[0m\u001b[0mid\u001b[0m\u001b[0;34m:\u001b[0m\u001b[0;36m10.0\u001b[0m\u001b[0;34m}\u001b[0m\u001b[0;34m)\u001b[0m\u001b[0;34m\u001b[0m\u001b[0;34m\u001b[0m\u001b[0m\n\u001b[1;32m     26\u001b[0m                 \u001b[0mmodel\u001b[0m\u001b[0;34m.\u001b[0m\u001b[0mmedium\u001b[0m \u001b[0;34m=\u001b[0m \u001b[0mbase_medium\u001b[0m\u001b[0;34m\u001b[0m\u001b[0;34m\u001b[0m\u001b[0m\n\u001b[0;32m---> 27\u001b[0;31m                 \u001b[0msol\u001b[0m \u001b[0;34m=\u001b[0m \u001b[0mmodel\u001b[0m\u001b[0;34m.\u001b[0m\u001b[0moptimize\u001b[0m\u001b[0;34m(\u001b[0m\u001b[0;34m)\u001b[0m\u001b[0;34m\u001b[0m\u001b[0;34m\u001b[0m\u001b[0m\n\u001b[0m\u001b[1;32m     28\u001b[0m                 \u001b[0;32mif\u001b[0m \u001b[0msol\u001b[0m\u001b[0;34m.\u001b[0m\u001b[0mobjective_value\u001b[0m \u001b[0;34m>\u001b[0m \u001b[0mbase_growth\u001b[0m\u001b[0;34m:\u001b[0m\u001b[0;34m\u001b[0m\u001b[0;34m\u001b[0m\u001b[0m\n\u001b[1;32m     29\u001b[0m                     \u001b[0menhancement\u001b[0m\u001b[0;34m[\u001b[0m\u001b[0mex\u001b[0m\u001b[0;34m.\u001b[0m\u001b[0mid\u001b[0m\u001b[0;34m]\u001b[0m \u001b[0;34m=\u001b[0m \u001b[0msol\u001b[0m\u001b[0;34m.\u001b[0m\u001b[0mobjective_value\u001b[0m \u001b[0;34m-\u001b[0m \u001b[0mbase_growth\u001b[0m\u001b[0;34m\u001b[0m\u001b[0;34m\u001b[0m\u001b[0m\n",
      "\u001b[0;32m~/Library/Python/3.9/lib/python/site-packages/cobra/core/model.py\u001b[0m in \u001b[0;36moptimize\u001b[0;34m(self, objective_sense, raise_error)\u001b[0m\n\u001b[1;32m   1089\u001b[0m         )\n\u001b[1;32m   1090\u001b[0m         \u001b[0mself\u001b[0m\u001b[0;34m.\u001b[0m\u001b[0mslim_optimize\u001b[0m\u001b[0;34m(\u001b[0m\u001b[0;34m)\u001b[0m\u001b[0;34m\u001b[0m\u001b[0;34m\u001b[0m\u001b[0m\n\u001b[0;32m-> 1091\u001b[0;31m         \u001b[0msolution\u001b[0m \u001b[0;34m=\u001b[0m \u001b[0mget_solution\u001b[0m\u001b[0;34m(\u001b[0m\u001b[0mself\u001b[0m\u001b[0;34m,\u001b[0m \u001b[0mraise_error\u001b[0m\u001b[0;34m=\u001b[0m\u001b[0mraise_error\u001b[0m\u001b[0;34m)\u001b[0m\u001b[0;34m\u001b[0m\u001b[0;34m\u001b[0m\u001b[0m\n\u001b[0m\u001b[1;32m   1092\u001b[0m         \u001b[0mself\u001b[0m\u001b[0;34m.\u001b[0m\u001b[0mobjective\u001b[0m\u001b[0;34m.\u001b[0m\u001b[0mdirection\u001b[0m \u001b[0;34m=\u001b[0m \u001b[0moriginal_direction\u001b[0m\u001b[0;34m\u001b[0m\u001b[0;34m\u001b[0m\u001b[0m\n\u001b[1;32m   1093\u001b[0m         \u001b[0;32mreturn\u001b[0m \u001b[0msolution\u001b[0m\u001b[0;34m\u001b[0m\u001b[0;34m\u001b[0m\u001b[0m\n",
      "\u001b[0;32m~/Library/Python/3.9/lib/python/site-packages/cobra/core/solution.py\u001b[0m in \u001b[0;36mget_solution\u001b[0;34m(model, reactions, metabolites, raise_error)\u001b[0m\n\u001b[1;32m    253\u001b[0m         \u001b[0mmet_index\u001b[0m \u001b[0;34m=\u001b[0m \u001b[0;34m[\u001b[0m\u001b[0mmet\u001b[0m\u001b[0;34m.\u001b[0m\u001b[0mid\u001b[0m \u001b[0;32mfor\u001b[0m \u001b[0mmet\u001b[0m \u001b[0;32min\u001b[0m \u001b[0mmetabolites\u001b[0m\u001b[0;34m]\u001b[0m\u001b[0;34m\u001b[0m\u001b[0;34m\u001b[0m\u001b[0m\n\u001b[1;32m    254\u001b[0m     \u001b[0;32melse\u001b[0m\u001b[0;34m:\u001b[0m\u001b[0;34m\u001b[0m\u001b[0;34m\u001b[0m\u001b[0m\n\u001b[0;32m--> 255\u001b[0;31m         \u001b[0mvar_duals\u001b[0m \u001b[0;34m=\u001b[0m \u001b[0mmodel\u001b[0m\u001b[0;34m.\u001b[0m\u001b[0msolver\u001b[0m\u001b[0;34m.\u001b[0m\u001b[0mreduced_costs\u001b[0m\u001b[0;34m\u001b[0m\u001b[0;34m\u001b[0m\u001b[0m\n\u001b[0m\u001b[1;32m    256\u001b[0m         \u001b[0;32mfor\u001b[0m \u001b[0;34m(\u001b[0m\u001b[0mi\u001b[0m\u001b[0;34m,\u001b[0m \u001b[0mrxn\u001b[0m\u001b[0;34m)\u001b[0m \u001b[0;32min\u001b[0m \u001b[0menumerate\u001b[0m\u001b[0;34m(\u001b[0m\u001b[0mreactions\u001b[0m\u001b[0;34m)\u001b[0m\u001b[0;34m:\u001b[0m\u001b[0;34m\u001b[0m\u001b[0;34m\u001b[0m\u001b[0m\n\u001b[1;32m    257\u001b[0m             \u001b[0mforward\u001b[0m \u001b[0;34m=\u001b[0m \u001b[0mrxn\u001b[0m\u001b[0;34m.\u001b[0m\u001b[0mid\u001b[0m\u001b[0;34m\u001b[0m\u001b[0;34m\u001b[0m\u001b[0m\n",
      "\u001b[0;32m~/Library/Python/3.9/lib/python/site-packages/optlang/interface.py\u001b[0m in \u001b[0;36mreduced_costs\u001b[0;34m(self)\u001b[0m\n\u001b[1;32m   1302\u001b[0m         \"\"\"\n\u001b[1;32m   1303\u001b[0m         return OrderedDict(\n\u001b[0;32m-> 1304\u001b[0;31m             \u001b[0mzip\u001b[0m\u001b[0;34m(\u001b[0m\u001b[0mself\u001b[0m\u001b[0;34m.\u001b[0m\u001b[0m_get_variables_names\u001b[0m\u001b[0;34m(\u001b[0m\u001b[0;34m)\u001b[0m\u001b[0;34m,\u001b[0m \u001b[0mself\u001b[0m\u001b[0;34m.\u001b[0m\u001b[0m_get_reduced_costs\u001b[0m\u001b[0;34m(\u001b[0m\u001b[0;34m)\u001b[0m\u001b[0;34m)\u001b[0m\u001b[0;34m\u001b[0m\u001b[0;34m\u001b[0m\u001b[0m\n\u001b[0m\u001b[1;32m   1305\u001b[0m         )\n\u001b[1;32m   1306\u001b[0m \u001b[0;34m\u001b[0m\u001b[0m\n",
      "\u001b[0;32m~/Library/Python/3.9/lib/python/site-packages/optlang/interface.py\u001b[0m in \u001b[0;36m_get_reduced_costs\u001b[0;34m(self)\u001b[0m\n\u001b[1;32m   1313\u001b[0m         \"\"\"\n\u001b[1;32m   1314\u001b[0m         \u001b[0;31m# Fallback, if nothing faster is available\u001b[0m\u001b[0;34m\u001b[0m\u001b[0;34m\u001b[0m\u001b[0;34m\u001b[0m\u001b[0m\n\u001b[0;32m-> 1315\u001b[0;31m         \u001b[0;32mreturn\u001b[0m \u001b[0;34m[\u001b[0m\u001b[0mvariable\u001b[0m\u001b[0;34m.\u001b[0m\u001b[0mdual\u001b[0m \u001b[0;32mfor\u001b[0m \u001b[0mvariable\u001b[0m \u001b[0;32min\u001b[0m \u001b[0mself\u001b[0m\u001b[0;34m.\u001b[0m\u001b[0mvariables\u001b[0m\u001b[0;34m]\u001b[0m\u001b[0;34m\u001b[0m\u001b[0;34m\u001b[0m\u001b[0m\n\u001b[0m\u001b[1;32m   1316\u001b[0m \u001b[0;34m\u001b[0m\u001b[0m\n\u001b[1;32m   1317\u001b[0m     \u001b[0;32mdef\u001b[0m \u001b[0m_get_constraint_names\u001b[0m\u001b[0;34m(\u001b[0m\u001b[0mself\u001b[0m\u001b[0;34m)\u001b[0m\u001b[0;34m:\u001b[0m\u001b[0;34m\u001b[0m\u001b[0;34m\u001b[0m\u001b[0m\n",
      "\u001b[0;32m~/Library/Python/3.9/lib/python/site-packages/optlang/interface.py\u001b[0m in \u001b[0;36m<listcomp>\u001b[0;34m(.0)\u001b[0m\n\u001b[1;32m   1313\u001b[0m         \"\"\"\n\u001b[1;32m   1314\u001b[0m         \u001b[0;31m# Fallback, if nothing faster is available\u001b[0m\u001b[0;34m\u001b[0m\u001b[0;34m\u001b[0m\u001b[0;34m\u001b[0m\u001b[0m\n\u001b[0;32m-> 1315\u001b[0;31m         \u001b[0;32mreturn\u001b[0m \u001b[0;34m[\u001b[0m\u001b[0mvariable\u001b[0m\u001b[0;34m.\u001b[0m\u001b[0mdual\u001b[0m \u001b[0;32mfor\u001b[0m \u001b[0mvariable\u001b[0m \u001b[0;32min\u001b[0m \u001b[0mself\u001b[0m\u001b[0;34m.\u001b[0m\u001b[0mvariables\u001b[0m\u001b[0;34m]\u001b[0m\u001b[0;34m\u001b[0m\u001b[0;34m\u001b[0m\u001b[0m\n\u001b[0m\u001b[1;32m   1316\u001b[0m \u001b[0;34m\u001b[0m\u001b[0m\n\u001b[1;32m   1317\u001b[0m     \u001b[0;32mdef\u001b[0m \u001b[0m_get_constraint_names\u001b[0m\u001b[0;34m(\u001b[0m\u001b[0mself\u001b[0m\u001b[0;34m)\u001b[0m\u001b[0;34m:\u001b[0m\u001b[0;34m\u001b[0m\u001b[0;34m\u001b[0m\u001b[0m\n",
      "\u001b[0;32m~/Library/Python/3.9/lib/python/site-packages/optlang/gurobi_interface.py\u001b[0m in \u001b[0;36mdual\u001b[0;34m(self)\u001b[0m\n\u001b[1;32m    161\u001b[0m     \u001b[0;32mdef\u001b[0m \u001b[0mdual\u001b[0m\u001b[0;34m(\u001b[0m\u001b[0mself\u001b[0m\u001b[0;34m)\u001b[0m\u001b[0;34m:\u001b[0m\u001b[0;34m\u001b[0m\u001b[0;34m\u001b[0m\u001b[0m\n\u001b[1;32m    162\u001b[0m         \u001b[0;32mif\u001b[0m \u001b[0mself\u001b[0m\u001b[0;34m.\u001b[0m\u001b[0mproblem\u001b[0m\u001b[0;34m:\u001b[0m\u001b[0;34m\u001b[0m\u001b[0;34m\u001b[0m\u001b[0m\n\u001b[0;32m--> 163\u001b[0;31m             \u001b[0;32mif\u001b[0m \u001b[0mself\u001b[0m\u001b[0;34m.\u001b[0m\u001b[0mproblem\u001b[0m\u001b[0;34m.\u001b[0m\u001b[0mis_integer\u001b[0m\u001b[0;34m:\u001b[0m\u001b[0;34m\u001b[0m\u001b[0;34m\u001b[0m\u001b[0m\n\u001b[0m\u001b[1;32m    164\u001b[0m                 \u001b[0;32mraise\u001b[0m \u001b[0mValueError\u001b[0m\u001b[0;34m(\u001b[0m\u001b[0;34m\"Dual values are not well-defined for integer problems\"\u001b[0m\u001b[0;34m)\u001b[0m\u001b[0;34m\u001b[0m\u001b[0;34m\u001b[0m\u001b[0m\n\u001b[1;32m    165\u001b[0m             \u001b[0;32mreturn\u001b[0m \u001b[0mself\u001b[0m\u001b[0;34m.\u001b[0m\u001b[0m_internal_variable\u001b[0m\u001b[0;34m.\u001b[0m\u001b[0mgetAttr\u001b[0m\u001b[0;34m(\u001b[0m\u001b[0;34m'RC'\u001b[0m\u001b[0;34m)\u001b[0m\u001b[0;34m\u001b[0m\u001b[0;34m\u001b[0m\u001b[0m\n",
      "\u001b[0;32m~/Library/Python/3.9/lib/python/site-packages/optlang/gurobi_interface.py\u001b[0m in \u001b[0;36mis_integer\u001b[0;34m(self)\u001b[0m\n\u001b[1;32m    744\u001b[0m     \u001b[0;32mdef\u001b[0m \u001b[0mis_integer\u001b[0m\u001b[0;34m(\u001b[0m\u001b[0mself\u001b[0m\u001b[0;34m)\u001b[0m\u001b[0;34m:\u001b[0m\u001b[0;34m\u001b[0m\u001b[0;34m\u001b[0m\u001b[0m\n\u001b[1;32m    745\u001b[0m         \u001b[0mself\u001b[0m\u001b[0;34m.\u001b[0m\u001b[0mproblem\u001b[0m\u001b[0;34m.\u001b[0m\u001b[0mupdate\u001b[0m\u001b[0;34m(\u001b[0m\u001b[0;34m)\u001b[0m\u001b[0;34m\u001b[0m\u001b[0;34m\u001b[0m\u001b[0m\n\u001b[0;32m--> 746\u001b[0;31m         \u001b[0;32mreturn\u001b[0m \u001b[0mself\u001b[0m\u001b[0;34m.\u001b[0m\u001b[0mproblem\u001b[0m\u001b[0;34m.\u001b[0m\u001b[0mNumIntVars\u001b[0m \u001b[0;34m>\u001b[0m \u001b[0;36m0\u001b[0m\u001b[0;34m\u001b[0m\u001b[0;34m\u001b[0m\u001b[0m\n\u001b[0m\u001b[1;32m    747\u001b[0m \u001b[0;34m\u001b[0m\u001b[0m\n\u001b[1;32m    748\u001b[0m \u001b[0;34m\u001b[0m\u001b[0m\n",
      "\u001b[0;31mKeyboardInterrupt\u001b[0m: "
     ]
    }
   ],
   "source": [
    "print(model.id)\n",
    "enh = find_additives(model, CGXII_comp_16)\n",
    "enh.to_csv('../../analysis/additives/Cstr_16_adds.csv', index=False)\n",
    "print(enh.head().to_markdown(index=False))"
   ]
  },
  {
   "cell_type": "markdown",
   "metadata": {},
   "source": [
    "Going through the given list I found that L-Arginine and N-Acetyl-D-glucosamine are available in the lab storage. Simulation with both metabolites leads to a growth value of 0.8 which corresponds to a doubling time of 52 Minutes."
   ]
  },
  {
   "cell_type": "code",
   "execution_count": 13,
   "metadata": {},
   "outputs": [
    {
     "name": "stdout",
     "output_type": "stream",
     "text": [
      "Growth rate with additives: 0.7042\n",
      "Doubling time with additives: 59.06 min\n"
     ]
    }
   ],
   "source": [
    "enhanced = ['EX_arg__L_e', 'EX_acgam_e']\n",
    "enhanced_growth(model, CGXII_comp_16, enhanced)"
   ]
  },
  {
   "cell_type": "code",
   "execution_count": 9,
   "metadata": {},
   "outputs": [
    {
     "name": "stdout",
     "output_type": "stream",
     "text": [
      "Growth rate with additives: 0.8824\n",
      "Doubling time with additives: 47.13 min\n"
     ]
    }
   ],
   "source": [
    "model = rg.io.load_model_cobra('../../models/iCstr1115FB23.xml')\n",
    "enhanced_growth(model, CGXII_comp_16, CasA)"
   ]
  },
  {
   "cell_type": "code",
   "execution_count": 10,
   "metadata": {},
   "outputs": [
    {
     "data": {
      "text/plain": [
       "{'EX_nh4_e': 10.0,\n",
       " 'EX_so4_e': 10.0,\n",
       " 'EX_k_e': 10.0,\n",
       " 'EX_pi_e': 10.0,\n",
       " 'EX_urea_e': 10.0,\n",
       " 'EX_ca2_e': 10.0,\n",
       " 'EX_cl_e': 10.0,\n",
       " 'EX_mg2_e': 10.0,\n",
       " 'EX_fe2_e': 10.0,\n",
       " 'EX_mn2_e': 10.0,\n",
       " 'EX_cu2_e': 10.0,\n",
       " 'EX_zn2_e': 10.0,\n",
       " 'EX_glc__D_e': 10.0,\n",
       " 'EX_h2o_e': 10.0,\n",
       " 'EX_o2_e': 20.0,\n",
       " 'EX_h_e': 10.0}"
      ]
     },
     "execution_count": 10,
     "metadata": {},
     "output_type": "execute_result"
    }
   ],
   "source": [
    "CGXII_base = CGXII_comp_16.copy()\n",
    "for metab, flux in CGXII_comp_16.items():\n",
    "    if metab not in CGXII.keys():\n",
    "        CGXII_base.pop(metab)\n",
    "CGXII_base"
   ]
  },
  {
   "cell_type": "code",
   "execution_count": 1,
   "metadata": {},
   "outputs": [
    {
     "ename": "NameError",
     "evalue": "name 'rg' is not defined",
     "output_type": "error",
     "traceback": [
      "\u001b[0;31m---------------------------------------------------------------------------\u001b[0m",
      "\u001b[0;31mNameError\u001b[0m                                 Traceback (most recent call last)",
      "Cell \u001b[0;32mIn [1], line 1\u001b[0m\n\u001b[0;32m----> 1\u001b[0m model \u001b[39m=\u001b[39m rg\u001b[39m.\u001b[39mio\u001b[39m.\u001b[39mload_model_cobra(\u001b[39m'\u001b[39m\u001b[39m../../models/iCstr1115FB23.xml\u001b[39m\u001b[39m'\u001b[39m)\n\u001b[1;32m      2\u001b[0m enhanced_growth(model, CGXII_base, CasA)\n\u001b[1;32m      3\u001b[0m \u001b[39mprint\u001b[39m(CasA)\n",
      "\u001b[0;31mNameError\u001b[0m: name 'rg' is not defined"
     ]
    }
   ],
   "source": [
    "model = rg.io.load_model_cobra('../../models/iCstr1115FB23.xml')\n",
    "enhanced_growth(model, CGXII_base, CasA)"
   ]
  },
  {
   "attachments": {},
   "cell_type": "markdown",
   "metadata": {},
   "source": [
    "## Strain 1197"
   ]
  },
  {
   "cell_type": "code",
   "execution_count": 12,
   "metadata": {},
   "outputs": [],
   "source": [
    "model = rg.io.load_model_cobra('../../models/iCstr1197FB23.xml')\n",
    "CGXII_comp_15 = pd.read_csv('../../analysis/CGXII_base_medium/CGXII_comp_15.csv').set_index('exchange').to_dict()['flux']"
   ]
  },
  {
   "cell_type": "code",
   "execution_count": 13,
   "metadata": {},
   "outputs": [
    {
     "name": "stdout",
     "output_type": "stream",
     "text": [
      "iCstr1197FB23\n",
      "Growth rate without additives: 0.5522\n",
      "Doubling time without additives: 75.31 min\n",
      "| exchange    |     diff |\n",
      "|:------------|---------:|\n",
      "| EX_malthp_e | 2.01175  |\n",
      "| EX_malt_e   | 0.473353 |\n",
      "| EX_tre_e    | 0.473353 |\n",
      "| EX_sucr_e   | 0.473353 |\n",
      "| EX_lcts_e   | 0.384599 |\n"
     ]
    }
   ],
   "source": [
    "print(model.id)\n",
    "enh = find_additives(model, CGXII_comp_15)\n",
    "enh.to_csv('../../analysis/additives/Cstr_15_adds.csv', index=False)\n",
    "print(enh.head().to_markdown(index=False))"
   ]
  },
  {
   "cell_type": "markdown",
   "metadata": {},
   "source": [
    "Also shows enhancement by L-Arginine."
   ]
  },
  {
   "cell_type": "code",
   "execution_count": 14,
   "metadata": {},
   "outputs": [
    {
     "name": "stdout",
     "output_type": "stream",
     "text": [
      "Growth rate with additives: 0.5916\n",
      "Doubling time with additives: 70.3 min\n"
     ]
    }
   ],
   "source": [
    "enhanced = ['EX_arg__L_e', 'EX_acgam_e']\n",
    "enhanced_growth(model, CGXII_comp_15, enhanced)"
   ]
  },
  {
   "cell_type": "markdown",
   "metadata": {},
   "source": [
    "Lets test enhancement by Casamino acids."
   ]
  },
  {
   "cell_type": "code",
   "execution_count": 15,
   "metadata": {},
   "outputs": [
    {
     "name": "stdout",
     "output_type": "stream",
     "text": [
      "Growth rate with additives: 0.6439\n",
      "Doubling time with additives: 64.59 min\n"
     ]
    }
   ],
   "source": [
    "model = rg.io.load_model_cobra('../../models/iCstr1197FB23.xml')\n",
    "enhanced_growth(model, CGXII_comp_15, CasA)"
   ]
  },
  {
   "cell_type": "code",
   "execution_count": 34,
   "metadata": {},
   "outputs": [],
   "source": [
    "CGXII_base = CGXII_comp_15.copy()\n",
    "for metab, flux in CGXII_comp_15.items():\n",
    "    if metab not in CGXII.keys():\n",
    "        CGXII_base.pop(metab)\n"
   ]
  },
  {
   "cell_type": "code",
   "execution_count": 35,
   "metadata": {},
   "outputs": [
    {
     "name": "stdout",
     "output_type": "stream",
     "text": [
      "Growth rate with additives: 0.0\n",
      "Doubling time with additives: inf min\n"
     ]
    },
    {
     "name": "stderr",
     "output_type": "stream",
     "text": [
      "/var/folders/s0/m197rw591kxcl13y56pqhf9m0000gs/T/ipykernel_13222/2110354515.py:10: RuntimeWarning: divide by zero encountered in double_scalars\n",
      "  dt = (np.log(2) / sol.objective_value) * 60\n"
     ]
    }
   ],
   "source": [
    "model = rg.io.load_model_cobra('../../models/iCstr1197FB23.xml')\n",
    "enhanced_growth(model, CGXII_base, CasA)"
   ]
  },
  {
   "attachments": {},
   "cell_type": "markdown",
   "metadata": {},
   "source": [
    "## Strain TS"
   ]
  },
  {
   "cell_type": "code",
   "execution_count": 36,
   "metadata": {},
   "outputs": [],
   "source": [
    "model = rg.io.load_model_cobra('../../models/iCstr1054FB23.xml')\n",
    "CGXII_comp_14 = pd.read_csv('../../analysis/CGXII_base_medium/CGXII_comp_14.csv').set_index('exchange').to_dict()['flux']"
   ]
  },
  {
   "cell_type": "code",
   "execution_count": 37,
   "metadata": {},
   "outputs": [
    {
     "name": "stdout",
     "output_type": "stream",
     "text": [
      "iCstr1054FB23\n",
      "Growth rate without additives: 0.5485\n",
      "Doubling time without additives: 75.82 min\n",
      "| exchange    |     diff |\n",
      "|:------------|---------:|\n",
      "| EX_malthp_e | 1.99828  |\n",
      "| EX_sucr_e   | 0.470184 |\n",
      "| EX_tre_e    | 0.470184 |\n",
      "| EX_malt_e   | 0.470184 |\n",
      "| EX_lcts_e   | 0.411411 |\n"
     ]
    }
   ],
   "source": [
    "print(model.id)\n",
    "enh = find_additives(model, CGXII_comp_14)\n",
    "enh.to_csv('../../analysis/additives/Cstr_14_adds.csv', index=False)\n",
    "print(enh.head().to_markdown(index=False))"
   ]
  },
  {
   "cell_type": "markdown",
   "metadata": {},
   "source": [
    "L-Ascorbate is available in the lab."
   ]
  },
  {
   "cell_type": "code",
   "execution_count": 38,
   "metadata": {},
   "outputs": [
    {
     "name": "stdout",
     "output_type": "stream",
     "text": [
      "Growth rate with additives: 0.7445\n",
      "Doubling time with additives: 55.86 min\n"
     ]
    }
   ],
   "source": [
    "enhanced = ['EX_ascb__L_e']\n",
    "enhanced_growth(model, CGXII_comp_14, enhanced)"
   ]
  },
  {
   "cell_type": "code",
   "execution_count": 39,
   "metadata": {},
   "outputs": [
    {
     "name": "stdout",
     "output_type": "stream",
     "text": [
      "Growth rate with additives: 0.8624\n",
      "Doubling time with additives: 48.23 min\n"
     ]
    }
   ],
   "source": [
    "model = rg.io.load_model_cobra('../../models/iCstr1054FB23.xml')\n",
    "enhanced_growth(model, CGXII_comp_14, CasA)"
   ]
  },
  {
   "cell_type": "code",
   "execution_count": 43,
   "metadata": {},
   "outputs": [],
   "source": [
    "CGXII_base = CGXII_comp_14.copy()\n",
    "for metab, flux in CGXII_comp_14.items():\n",
    "    if metab not in CGXII.keys():\n",
    "        CGXII_base.pop(metab)\n",
    "CGXII_base['EX_cobalt2_e'] = 10.0"
   ]
  },
  {
   "cell_type": "code",
   "execution_count": 44,
   "metadata": {},
   "outputs": [
    {
     "name": "stdout",
     "output_type": "stream",
     "text": [
      "Growth rate with additives: 0.6354\n",
      "Doubling time with additives: 65.45 min\n"
     ]
    }
   ],
   "source": [
    "model = rg.io.load_model_cobra('../../models/iCstr1054FB23.xml')\n",
    "enhanced_growth(model, CGXII_base, CasA)"
   ]
  },
  {
   "attachments": {},
   "cell_type": "markdown",
   "metadata": {},
   "source": [
    "## Strain 1116"
   ]
  },
  {
   "cell_type": "code",
   "execution_count": 45,
   "metadata": {},
   "outputs": [],
   "source": [
    "model = rg.io.load_model_cobra('../../models/iCstr1116FB23.xml')\n",
    "CGXII_comp_17 = pd.read_csv('../../analysis/CGXII_base_medium/CGXII_comp_17.csv').set_index('exchange').to_dict()['flux']"
   ]
  },
  {
   "cell_type": "code",
   "execution_count": 46,
   "metadata": {},
   "outputs": [
    {
     "name": "stdout",
     "output_type": "stream",
     "text": [
      "iCstr1116FB23\n",
      "Growth rate without additives: 0.0\n",
      "Doubling time without additives: inf min\n"
     ]
    },
    {
     "name": "stderr",
     "output_type": "stream",
     "text": [
      "/var/folders/s0/m197rw591kxcl13y56pqhf9m0000gs/T/ipykernel_13222/4155444981.py:7: RuntimeWarning: divide by zero encountered in double_scalars\n",
      "  dt = (np.log(2) / sol.objective_value) * 60\n"
     ]
    },
    {
     "name": "stdout",
     "output_type": "stream",
     "text": [
      "| exchange    |     diff |\n",
      "|:------------|---------:|\n",
      "| EX_s_e      | 0.622009 |\n",
      "| EX_cgly_e   | 0.613182 |\n",
      "| EX_cys__L_e | 0.612059 |\n",
      "| EX_h2s_e    | 0.611861 |\n",
      "| EX_gthrd_e  | 0.610023 |\n"
     ]
    }
   ],
   "source": [
    "print(model.id)\n",
    "enh = find_additives(model, CGXII_comp_17)\n",
    "print(enh.head().to_markdown(index=False))"
   ]
  },
  {
   "cell_type": "markdown",
   "metadata": {},
   "source": [
    "No simple additives found since there is not growth just on the CGXII medium even under the addition of `pnto_R`, `nmn` and `cobalt`. The next test is to try and find essential exchanges using refineGEMs and add those to the medium."
   ]
  },
  {
   "cell_type": "code",
   "execution_count": 47,
   "metadata": {},
   "outputs": [],
   "source": [
    "ess = rg.growth.get_essential_reactions_via_bounds(model)\n",
    "for entry in ess:\n",
    "    CGXII_comp_17.update({entry:10.0})"
   ]
  },
  {
   "cell_type": "code",
   "execution_count": 48,
   "metadata": {},
   "outputs": [
    {
     "name": "stdout",
     "output_type": "stream",
     "text": [
      "Growth rate without additives: -0.0\n",
      "Doubling time without additives: -1.8774713838470752e+30 min\n",
      "| exchange    |     diff |\n",
      "|:------------|---------:|\n",
      "| EX_s_e      | 0.622009 |\n",
      "| EX_cgly_e   | 0.613182 |\n",
      "| EX_cys__L_e | 0.612059 |\n",
      "| EX_h2s_e    | 0.611861 |\n",
      "| EX_gthrd_e  | 0.610023 |\n"
     ]
    }
   ],
   "source": [
    "enh = find_additives(model, CGXII_comp_17)\n",
    "print(enh.head().to_markdown(index=False))"
   ]
  },
  {
   "cell_type": "markdown",
   "metadata": {},
   "source": [
    "Still no reliable growth value. Next test is to add Casamino acids using the media definition given in refineGEMs."
   ]
  },
  {
   "cell_type": "code",
   "execution_count": 49,
   "metadata": {},
   "outputs": [
    {
     "name": "stdout",
     "output_type": "stream",
     "text": [
      "Growth rate with additives: 0.7301\n",
      "Doubling time with additives: 56.96 min\n"
     ]
    }
   ],
   "source": [
    "model = rg.io.load_model_cobra('../../models/iCstr1116FB23.xml')\n",
    "enhanced_growth(model, CGXII_comp_17, CasA)"
   ]
  },
  {
   "cell_type": "code",
   "execution_count": 50,
   "metadata": {},
   "outputs": [],
   "source": [
    "CGXII_comp_17 = pd.read_csv('../../analysis/CGXII_base_medium/CGXII_comp_17.csv').set_index('exchange').to_dict()['flux']\n",
    "for ex in CasA:\n",
    "    CGXII_comp_17.update({ex:10.0})"
   ]
  },
  {
   "cell_type": "code",
   "execution_count": 51,
   "metadata": {},
   "outputs": [
    {
     "name": "stdout",
     "output_type": "stream",
     "text": [
      "Growth rate without additives: 0.7301\n",
      "Doubling time without additives: 56.96 min\n",
      "| exchange    |     diff |\n",
      "|:------------|---------:|\n",
      "| EX_malthp_e | 2.25677  |\n",
      "| EX_raffin_e | 0.796507 |\n",
      "| EX_tre_e    | 0.531005 |\n",
      "| EX_malt_e   | 0.531005 |\n",
      "| EX_sucr_e   | 0.531005 |\n"
     ]
    }
   ],
   "source": [
    "enh = find_additives(model, CGXII_comp_17)\n",
    "enh.to_csv('../../analysis/additives/Cstr_17_adds.csv', index=False)\n",
    "print(enh.head().to_markdown(index=False))"
   ]
  },
  {
   "cell_type": "markdown",
   "metadata": {},
   "source": [
    "Strain 17 should be able to grow on CGXII under the addition of Casamino Acids."
   ]
  },
  {
   "cell_type": "code",
   "execution_count": 52,
   "metadata": {},
   "outputs": [
    {
     "name": "stdout",
     "output_type": "stream",
     "text": [
      "Growth rate with additives: 0.7301\n",
      "Doubling time with additives: 56.96 min\n"
     ]
    }
   ],
   "source": [
    "model = rg.io.load_model_cobra('../../models/iCstr1116FB23.xml')\n",
    "enhanced_growth(model, CGXII_comp_17, CasA)"
   ]
  },
  {
   "cell_type": "code",
   "execution_count": 55,
   "metadata": {},
   "outputs": [],
   "source": [
    "CGXII_base = CGXII_comp_17.copy()\n",
    "for metab, flux in CGXII_comp_17.items():\n",
    "    if metab not in CGXII.keys():\n",
    "        CGXII_base.pop(metab)\n",
    "CGXII_base['EX_cobalt2_e'] = 10.0\n",
    "CGXII_base['EX_nmn_e'] = 10.0"
   ]
  },
  {
   "cell_type": "code",
   "execution_count": 56,
   "metadata": {},
   "outputs": [
    {
     "name": "stdout",
     "output_type": "stream",
     "text": [
      "Growth rate with additives: 0.0\n",
      "Doubling time with additives: inf min\n"
     ]
    },
    {
     "name": "stderr",
     "output_type": "stream",
     "text": [
      "/var/folders/s0/m197rw591kxcl13y56pqhf9m0000gs/T/ipykernel_13222/2110354515.py:10: RuntimeWarning: divide by zero encountered in double_scalars\n",
      "  dt = (np.log(2) / sol.objective_value) * 60\n"
     ]
    }
   ],
   "source": [
    "model = rg.io.load_model_cobra('../../models/iCstr1116FB23.xml')\n",
    "enhanced_growth(model, CGXII_base, CasA)"
   ]
  },
  {
   "attachments": {},
   "cell_type": "markdown",
   "metadata": {},
   "source": [
    "## All models with CasA"
   ]
  },
  {
   "cell_type": "code",
   "execution_count": 6,
   "metadata": {},
   "outputs": [],
   "source": [
    "CasA = rg.io.load_all_media_from_db('../../../refinegems/data/media_db.csv')[9]['BiGG_EX'].to_list()\n",
    "modelpaths = ['../../models/iCstr1054FB23.xml', '../../models/iCstr1197FB23.xml', '../../models/iCstr1115FB23.xml', '../../models/iCstr1116FB23.xml']\n",
    "cmods = [rg.io.load_model_cobra(path) for path in modelpaths]\n",
    "cgx_paths = ['../../analysis/CGXII_base_medium/CGXII_comp_14.csv', '../../analysis/CGXII_base_medium/CGXII_comp_15.csv', '../../analysis/CGXII_base_medium/CGXII_comp_16.csv', '../../analysis/CGXII_base_medium/CGXII_comp_17.csv']\n",
    "cgx_bases = [pd.read_csv(path).set_index('exchange').to_dict()['flux'] for path in cgx_paths]\n",
    "cgx_co = pd.read_csv('../../analysis/CGXII_base_medium/CGXII_co.csv').set_index('exchange').to_dict()['flux']"
   ]
  },
  {
   "cell_type": "code",
   "execution_count": 7,
   "metadata": {},
   "outputs": [
    {
     "name": "stdout",
     "output_type": "stream",
     "text": [
      "iCstr1054FB23\n",
      "Growth rate with additives: 0.6354\n",
      "Doubling time with additives: 65.45 min\n",
      "iCstr1197FB23\n"
     ]
    },
    {
     "name": "stderr",
     "output_type": "stream",
     "text": [
      "/var/folders/s0/m197rw591kxcl13y56pqhf9m0000gs/T/ipykernel_12673/3608260857.py:52: RuntimeWarning: divide by zero encountered in double_scalars\n",
      "  dt = (np.log(2) / sol.objective_value) * 60\n",
      "/var/folders/s0/m197rw591kxcl13y56pqhf9m0000gs/T/ipykernel_12673/3608260857.py:52: RuntimeWarning: divide by zero encountered in double_scalars\n",
      "  dt = (np.log(2) / sol.objective_value) * 60\n"
     ]
    },
    {
     "name": "stdout",
     "output_type": "stream",
     "text": [
      "Growth rate with additives: 0.0\n",
      "Doubling time with additives: inf min\n",
      "iCstr1115FB23\n",
      "Growth rate with additives: 0.0\n",
      "Doubling time with additives: inf min\n",
      "iCstr1116FB23\n",
      "Growth rate with additives: 0.0\n",
      "Doubling time with additives: inf min\n"
     ]
    },
    {
     "name": "stderr",
     "output_type": "stream",
     "text": [
      "/var/folders/s0/m197rw591kxcl13y56pqhf9m0000gs/T/ipykernel_12673/3608260857.py:52: RuntimeWarning: divide by zero encountered in double_scalars\n",
      "  dt = (np.log(2) / sol.objective_value) * 60\n"
     ]
    }
   ],
   "source": [
    "for model, medium in zip(cmods, cgx_bases):\n",
    "    print(model.id)\n",
    "    enhanced_growth(model, cgx_co, CasA)"
   ]
  }
 ],
 "metadata": {
  "kernelspec": {
   "display_name": "Python 3",
   "language": "python",
   "name": "python3"
  },
  "language_info": {
   "codemirror_mode": {
    "name": "ipython",
    "version": 3
   },
   "file_extension": ".py",
   "mimetype": "text/x-python",
   "name": "python",
   "nbconvert_exporter": "python",
   "pygments_lexer": "ipython3",
   "version": "3.9.4"
  },
  "orig_nbformat": 4,
  "vscode": {
   "interpreter": {
    "hash": "aee8b7b246df8f9039afb4144a1f6fd8d2ca17a180786b69acc140d282b71a49"
   }
  }
 },
 "nbformat": 4,
 "nbformat_minor": 2
}
