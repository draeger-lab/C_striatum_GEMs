{
 "cells": [
  {
   "attachments": {},
   "cell_type": "markdown",
   "metadata": {},
   "source": [
    "# Simulation of M9 medium with and without Casamino acids\n",
    "*Author: Famke Baeuerle*"
   ]
  },
  {
   "cell_type": "code",
   "execution_count": 1,
   "metadata": {},
   "outputs": [],
   "source": [
    "# imports\n",
    "import cobra\n",
    "from libsbml import *\n",
    "import refinegems as rg\n",
    "import pandas as pd\n",
    "import numpy as np"
   ]
  },
  {
   "cell_type": "code",
   "execution_count": 2,
   "metadata": {},
   "outputs": [],
   "source": [
    "def enhanced_growth(model, base_medium, new_metabs):\n",
    "    local_medium = base_medium\n",
    "    with model:\n",
    "        medium = model.medium\n",
    "        for met in new_metabs:\n",
    "            local_medium[met] = 10.0\n",
    "        model.medium = local_medium\n",
    "        sol = model.optimize()\n",
    "    base_growth = sol.objective_value\n",
    "    dt = (np.log(2) / sol.objective_value) * 60\n",
    "    print('Growth rate with additives: ' + str(round(base_growth, 4)))\n",
    "    print('Doubling time with additives: ' + str(round(dt, 2)) + ' min')\n",
    "\n",
    "def find_additives(model, base_medium):\n",
    "    with model:\n",
    "        medium = model.medium\n",
    "        model.medium = base_medium\n",
    "        sol = model.optimize()      \n",
    "    base_growth = sol.objective_value\n",
    "    dt = (np.log(2) / sol.objective_value) * 60\n",
    "    print('Growth rate without additives: ' + str(round(base_growth, 4)))\n",
    "    print('Doubling time without additives: ' + str(round(dt, 2)) + ' min')\n",
    "        \n",
    "    enhancement = {}\n",
    "    for ex in list(model.exchanges):\n",
    "        if ex.id not in base_medium.keys():\n",
    "            with model:\n",
    "                medium = model.medium\n",
    "                base_medium.update({ex.id:10.0})\n",
    "                model.medium = base_medium\n",
    "                sol = model.optimize()\n",
    "                if sol.objective_value > base_growth:\n",
    "                    enhancement[ex.id] = sol.objective_value - base_growth\n",
    "                base_medium.pop(ex.id)\n",
    "    \n",
    "    enh = pd.DataFrame(enhancement.items(), columns=['exchange', 'diff']).sort_values(by=['diff'], ascending=False)\n",
    "    \n",
    "    return enh"
   ]
  },
  {
   "cell_type": "code",
   "execution_count": 9,
   "metadata": {},
   "outputs": [],
   "source": [
    "CasA = pd.read_csv('../../data/media_db.csv')[pd.read_csv('../../data/media_db.csv')['medium']=='CasA']['BiGG'].to_list()\n",
    "M9 = pd.read_csv('../../data/media_db.csv')[pd.read_csv('../../data/media_db.csv')['medium']=='M9']['BiGG'].to_list()\n",
    "CasA_med = {'EX_'+i+'_e': 10.0 for i in CasA}\n",
    "M9_med = {'EX_'+i+'_e': 10.0 for i in M9}\n",
    "if (M9_med['EX_o2_e'] == 10.0):\n",
    "    M9_med['EX_o2_e'] = 20.0\n",
    "\n",
    "# from simulation with refinegems\n",
    "M9_med['EX_cobalt2_e'] = 10.0\n",
    "M9_med['EX_cu2_e'] = 10.0\n",
    "M9_med['EX_fe2_e'] = 10.0\n",
    "M9_med['EX_mn2_e'] = 10.0\n",
    "M9_med['EX_zn2_e'] = 10.0"
   ]
  },
  {
   "cell_type": "code",
   "execution_count": 10,
   "metadata": {},
   "outputs": [],
   "source": [
    "model = rg.io.load_model_cobra('../../models/Cstr_1197.xml')\n",
    "M9_med['EX_ala_B_e'] = 10.0\n",
    "M9_med['EX_cgly_e'] = 10.0\n",
    "#M9_med['EX_glc__D_e'] = 20.0"
   ]
  },
  {
   "cell_type": "code",
   "execution_count": 20,
   "metadata": {},
   "outputs": [
    {
     "name": "stdout",
     "output_type": "stream",
     "text": [
      "Growth rate without additives: 0.7901\n",
      "Doubling time without additives: 52.64 min\n"
     ]
    },
    {
     "data": {
      "text/html": [
       "<div>\n",
       "<style scoped>\n",
       "    .dataframe tbody tr th:only-of-type {\n",
       "        vertical-align: middle;\n",
       "    }\n",
       "\n",
       "    .dataframe tbody tr th {\n",
       "        vertical-align: top;\n",
       "    }\n",
       "\n",
       "    .dataframe thead th {\n",
       "        text-align: right;\n",
       "    }\n",
       "</style>\n",
       "<table border=\"1\" class=\"dataframe\">\n",
       "  <thead>\n",
       "    <tr style=\"text-align: right;\">\n",
       "      <th></th>\n",
       "      <th>exchange</th>\n",
       "      <th>diff</th>\n",
       "    </tr>\n",
       "  </thead>\n",
       "  <tbody>\n",
       "    <tr>\n",
       "      <th>87</th>\n",
       "      <td>EX_malthp_e</td>\n",
       "      <td>1.889316e+00</td>\n",
       "    </tr>\n",
       "    <tr>\n",
       "      <th>86</th>\n",
       "      <td>EX_malt_e</td>\n",
       "      <td>4.672051e-01</td>\n",
       "    </tr>\n",
       "    <tr>\n",
       "      <th>115</th>\n",
       "      <td>EX_sucr_e</td>\n",
       "      <td>4.672051e-01</td>\n",
       "    </tr>\n",
       "    <tr>\n",
       "      <th>122</th>\n",
       "      <td>EX_tre_e</td>\n",
       "      <td>4.672051e-01</td>\n",
       "    </tr>\n",
       "    <tr>\n",
       "      <th>82</th>\n",
       "      <td>EX_lcts_e</td>\n",
       "      <td>3.801638e-01</td>\n",
       "    </tr>\n",
       "    <tr>\n",
       "      <th>...</th>\n",
       "      <td>...</td>\n",
       "      <td>...</td>\n",
       "    </tr>\n",
       "    <tr>\n",
       "      <th>71</th>\n",
       "      <td>EX_gthrd_e</td>\n",
       "      <td>2.220446e-16</td>\n",
       "    </tr>\n",
       "    <tr>\n",
       "      <th>108</th>\n",
       "      <td>EX_salchs4fe_e</td>\n",
       "      <td>1.110223e-16</td>\n",
       "    </tr>\n",
       "    <tr>\n",
       "      <th>75</th>\n",
       "      <td>EX_hdca_e</td>\n",
       "      <td>1.110223e-16</td>\n",
       "    </tr>\n",
       "    <tr>\n",
       "      <th>76</th>\n",
       "      <td>EX_hdcea_e</td>\n",
       "      <td>1.110223e-16</td>\n",
       "    </tr>\n",
       "    <tr>\n",
       "      <th>107</th>\n",
       "      <td>EX_salchs4_e</td>\n",
       "      <td>1.110223e-16</td>\n",
       "    </tr>\n",
       "  </tbody>\n",
       "</table>\n",
       "<p>126 rows × 2 columns</p>\n",
       "</div>"
      ],
      "text/plain": [
       "           exchange          diff\n",
       "87      EX_malthp_e  1.889316e+00\n",
       "86        EX_malt_e  4.672051e-01\n",
       "115       EX_sucr_e  4.672051e-01\n",
       "122        EX_tre_e  4.672051e-01\n",
       "82        EX_lcts_e  3.801638e-01\n",
       "..              ...           ...\n",
       "71       EX_gthrd_e  2.220446e-16\n",
       "108  EX_salchs4fe_e  1.110223e-16\n",
       "75        EX_hdca_e  1.110223e-16\n",
       "76       EX_hdcea_e  1.110223e-16\n",
       "107    EX_salchs4_e  1.110223e-16\n",
       "\n",
       "[126 rows x 2 columns]"
      ]
     },
     "execution_count": 20,
     "metadata": {},
     "output_type": "execute_result"
    }
   ],
   "source": [
    "find_additives(model, M9_med)"
   ]
  },
  {
   "cell_type": "code",
   "execution_count": 6,
   "metadata": {},
   "outputs": [
    {
     "name": "stdout",
     "output_type": "stream",
     "text": [
      "Growth rate with additives: 0.6389\n",
      "Doubling time with additives: 65.1 min\n"
     ]
    }
   ],
   "source": [
    "enhanced_growth(model, M9_med, CasA_med)"
   ]
  },
  {
   "cell_type": "code",
   "execution_count": 7,
   "metadata": {},
   "outputs": [
    {
     "data": {
      "text/plain": [
       "10.0"
      ]
     },
     "execution_count": 7,
     "metadata": {},
     "output_type": "execute_result"
    }
   ],
   "source": [
    "model = rg.io.load_model_cobra('../../models/Cstr_TS.xml')\n",
    "M9_med.pop('EX_ala_B_e')\n",
    "M9_med.pop('EX_cgly_e')"
   ]
  },
  {
   "cell_type": "code",
   "execution_count": 8,
   "metadata": {},
   "outputs": [
    {
     "name": "stdout",
     "output_type": "stream",
     "text": [
      "Growth rate without additives: 0.6354\n",
      "Doubling time without additives: 65.45 min\n"
     ]
    },
    {
     "data": {
      "text/html": [
       "<div>\n",
       "<style scoped>\n",
       "    .dataframe tbody tr th:only-of-type {\n",
       "        vertical-align: middle;\n",
       "    }\n",
       "\n",
       "    .dataframe tbody tr th {\n",
       "        vertical-align: top;\n",
       "    }\n",
       "\n",
       "    .dataframe thead th {\n",
       "        text-align: right;\n",
       "    }\n",
       "</style>\n",
       "<table border=\"1\" class=\"dataframe\">\n",
       "  <thead>\n",
       "    <tr style=\"text-align: right;\">\n",
       "      <th></th>\n",
       "      <th>exchange</th>\n",
       "      <th>diff</th>\n",
       "    </tr>\n",
       "  </thead>\n",
       "  <tbody>\n",
       "    <tr>\n",
       "      <th>49</th>\n",
       "      <td>EX_malthp_e</td>\n",
       "      <td>2.314832e+00</td>\n",
       "    </tr>\n",
       "    <tr>\n",
       "      <th>69</th>\n",
       "      <td>EX_sucr_e</td>\n",
       "      <td>5.446664e-01</td>\n",
       "    </tr>\n",
       "    <tr>\n",
       "      <th>78</th>\n",
       "      <td>EX_tre_e</td>\n",
       "      <td>5.446664e-01</td>\n",
       "    </tr>\n",
       "    <tr>\n",
       "      <th>48</th>\n",
       "      <td>EX_malt_e</td>\n",
       "      <td>5.446664e-01</td>\n",
       "    </tr>\n",
       "    <tr>\n",
       "      <th>46</th>\n",
       "      <td>EX_lcts_e</td>\n",
       "      <td>4.765831e-01</td>\n",
       "    </tr>\n",
       "    <tr>\n",
       "      <th>...</th>\n",
       "      <td>...</td>\n",
       "      <td>...</td>\n",
       "    </tr>\n",
       "    <tr>\n",
       "      <th>76</th>\n",
       "      <td>EX_thym_e</td>\n",
       "      <td>6.661338e-16</td>\n",
       "    </tr>\n",
       "    <tr>\n",
       "      <th>44</th>\n",
       "      <td>EX_hxa_e</td>\n",
       "      <td>3.330669e-16</td>\n",
       "    </tr>\n",
       "    <tr>\n",
       "      <th>25</th>\n",
       "      <td>EX_enter_e</td>\n",
       "      <td>3.330669e-16</td>\n",
       "    </tr>\n",
       "    <tr>\n",
       "      <th>23</th>\n",
       "      <td>EX_dhptd_e</td>\n",
       "      <td>2.220446e-16</td>\n",
       "    </tr>\n",
       "    <tr>\n",
       "      <th>47</th>\n",
       "      <td>EX_leuleu_e</td>\n",
       "      <td>1.110223e-16</td>\n",
       "    </tr>\n",
       "  </tbody>\n",
       "</table>\n",
       "<p>83 rows × 2 columns</p>\n",
       "</div>"
      ],
      "text/plain": [
       "       exchange          diff\n",
       "49  EX_malthp_e  2.314832e+00\n",
       "69    EX_sucr_e  5.446664e-01\n",
       "78     EX_tre_e  5.446664e-01\n",
       "48    EX_malt_e  5.446664e-01\n",
       "46    EX_lcts_e  4.765831e-01\n",
       "..          ...           ...\n",
       "76    EX_thym_e  6.661338e-16\n",
       "44     EX_hxa_e  3.330669e-16\n",
       "25   EX_enter_e  3.330669e-16\n",
       "23   EX_dhptd_e  2.220446e-16\n",
       "47  EX_leuleu_e  1.110223e-16\n",
       "\n",
       "[83 rows x 2 columns]"
      ]
     },
     "execution_count": 8,
     "metadata": {},
     "output_type": "execute_result"
    }
   ],
   "source": [
    "find_additives(model, M9_med)"
   ]
  },
  {
   "cell_type": "code",
   "execution_count": 9,
   "metadata": {},
   "outputs": [
    {
     "name": "stdout",
     "output_type": "stream",
     "text": [
      "Growth rate with additives: 0.6354\n",
      "Doubling time with additives: 65.45 min\n"
     ]
    }
   ],
   "source": [
    "enhanced_growth(model, M9_med, CasA_med)"
   ]
  },
  {
   "cell_type": "code",
   "execution_count": 10,
   "metadata": {},
   "outputs": [],
   "source": [
    "model = rg.io.load_model_cobra('../../models/Cstr_1115.xml')\n",
    "M9_med['EX_ala_B_e'] = 10.0\n",
    "M9_med['EX_cgly_e'] = 10.0"
   ]
  },
  {
   "cell_type": "code",
   "execution_count": 11,
   "metadata": {},
   "outputs": [
    {
     "name": "stdout",
     "output_type": "stream",
     "text": [
      "Growth rate without additives: 0.7651\n",
      "Doubling time without additives: 54.36 min\n"
     ]
    },
    {
     "data": {
      "text/html": [
       "<div>\n",
       "<style scoped>\n",
       "    .dataframe tbody tr th:only-of-type {\n",
       "        vertical-align: middle;\n",
       "    }\n",
       "\n",
       "    .dataframe tbody tr th {\n",
       "        vertical-align: top;\n",
       "    }\n",
       "\n",
       "    .dataframe thead th {\n",
       "        text-align: right;\n",
       "    }\n",
       "</style>\n",
       "<table border=\"1\" class=\"dataframe\">\n",
       "  <thead>\n",
       "    <tr style=\"text-align: right;\">\n",
       "      <th></th>\n",
       "      <th>exchange</th>\n",
       "      <th>diff</th>\n",
       "    </tr>\n",
       "  </thead>\n",
       "  <tbody>\n",
       "    <tr>\n",
       "      <th>84</th>\n",
       "      <td>EX_malthp_e</td>\n",
       "      <td>2.295264e+00</td>\n",
       "    </tr>\n",
       "    <tr>\n",
       "      <th>121</th>\n",
       "      <td>EX_sucr_e</td>\n",
       "      <td>5.400622e-01</td>\n",
       "    </tr>\n",
       "    <tr>\n",
       "      <th>129</th>\n",
       "      <td>EX_tre_e</td>\n",
       "      <td>5.400622e-01</td>\n",
       "    </tr>\n",
       "    <tr>\n",
       "      <th>83</th>\n",
       "      <td>EX_malt_e</td>\n",
       "      <td>5.400622e-01</td>\n",
       "    </tr>\n",
       "    <tr>\n",
       "      <th>77</th>\n",
       "      <td>EX_lcts_e</td>\n",
       "      <td>4.725544e-01</td>\n",
       "    </tr>\n",
       "    <tr>\n",
       "      <th>...</th>\n",
       "      <td>...</td>\n",
       "      <td>...</td>\n",
       "    </tr>\n",
       "    <tr>\n",
       "      <th>41</th>\n",
       "      <td>EX_gln__L_e</td>\n",
       "      <td>6.661338e-16</td>\n",
       "    </tr>\n",
       "    <tr>\n",
       "      <th>46</th>\n",
       "      <td>EX_gly_leu__L_e</td>\n",
       "      <td>6.661338e-16</td>\n",
       "    </tr>\n",
       "    <tr>\n",
       "      <th>45</th>\n",
       "      <td>EX_gly_glu__L_e</td>\n",
       "      <td>6.661338e-16</td>\n",
       "    </tr>\n",
       "    <tr>\n",
       "      <th>24</th>\n",
       "      <td>EX_aso3_e</td>\n",
       "      <td>5.551115e-16</td>\n",
       "    </tr>\n",
       "    <tr>\n",
       "      <th>43</th>\n",
       "      <td>EX_gly_asp__L_e</td>\n",
       "      <td>3.330669e-16</td>\n",
       "    </tr>\n",
       "  </tbody>\n",
       "</table>\n",
       "<p>139 rows × 2 columns</p>\n",
       "</div>"
      ],
      "text/plain": [
       "            exchange          diff\n",
       "84       EX_malthp_e  2.295264e+00\n",
       "121        EX_sucr_e  5.400622e-01\n",
       "129         EX_tre_e  5.400622e-01\n",
       "83         EX_malt_e  5.400622e-01\n",
       "77         EX_lcts_e  4.725544e-01\n",
       "..               ...           ...\n",
       "41       EX_gln__L_e  6.661338e-16\n",
       "46   EX_gly_leu__L_e  6.661338e-16\n",
       "45   EX_gly_glu__L_e  6.661338e-16\n",
       "24         EX_aso3_e  5.551115e-16\n",
       "43   EX_gly_asp__L_e  3.330669e-16\n",
       "\n",
       "[139 rows x 2 columns]"
      ]
     },
     "execution_count": 11,
     "metadata": {},
     "output_type": "execute_result"
    }
   ],
   "source": [
    "find_additives(model, M9_med)"
   ]
  },
  {
   "cell_type": "code",
   "execution_count": 12,
   "metadata": {},
   "outputs": [
    {
     "name": "stdout",
     "output_type": "stream",
     "text": [
      "Growth rate with additives: 0.7651\n",
      "Doubling time with additives: 54.36 min\n"
     ]
    }
   ],
   "source": [
    "enhanced_growth(model, M9_med, CasA_med)"
   ]
  },
  {
   "cell_type": "code",
   "execution_count": 16,
   "metadata": {},
   "outputs": [
    {
     "data": {
      "text/plain": [
       "{'EX_ca2_e': 10.0,\n",
       " 'EX_cl_e': 10.0,\n",
       " 'EX_glc__D_e': 10.0,\n",
       " 'EX_h2o_e': 10.0,\n",
       " 'EX_h_e': 10.0,\n",
       " 'EX_k_e': 10.0,\n",
       " 'EX_mg2_e': 10.0,\n",
       " 'EX_na1_e': 10.0,\n",
       " 'EX_nh4_e': 10.0,\n",
       " 'EX_o2_e': 20.0,\n",
       " 'EX_pi_e': 10.0,\n",
       " 'EX_so4_e': 10.0,\n",
       " 'EX_cobalt2_e': 10.0,\n",
       " 'EX_cu2_e': 10.0,\n",
       " 'EX_fe2_e': 10.0,\n",
       " 'EX_mn2_e': 10.0,\n",
       " 'EX_zn2_e': 10.0,\n",
       " 'EX_ala_B_e': 10.0,\n",
       " 'EX_nmn_e': 10.0,\n",
       " 'EX_lys__L_e': 10.0,\n",
       " 'EX_his__L_e': 10.0,\n",
       " 'EX_arg__L_e': 10.0,\n",
       " 'EX_asp__L_e': 10.0,\n",
       " 'EX_thr__L_e': 10.0,\n",
       " 'EX_glu__L_e': 10.0,\n",
       " 'EX_gly_e': 10.0,\n",
       " 'EX_val__L_e': 10.0,\n",
       " 'EX_met__L_e': 10.0,\n",
       " 'EX_ile__L_e': 10.0,\n",
       " 'EX_leu__L_e': 10.0,\n",
       " 'EX_tyr__L_e': 10.0,\n",
       " 'EX_phe__L_e': 10.0,\n",
       " 'EX_s_e': 10.0}"
      ]
     },
     "execution_count": 16,
     "metadata": {},
     "output_type": "execute_result"
    }
   ],
   "source": [
    "model = rg.io.load_model_cobra('../../models/Cstr_1116.xml')\n",
    "M9_med['EX_nmn_e'] = 10.0\n",
    "M9_med['EX_s_e'] = 10.0\n",
    "#M9_med.pop('EX_cgly_e')\n",
    "M9_med"
   ]
  },
  {
   "cell_type": "code",
   "execution_count": 17,
   "metadata": {},
   "outputs": [
    {
     "name": "stdout",
     "output_type": "stream",
     "text": [
      "Growth rate without additives: 0.7593\n",
      "Doubling time without additives: 54.77 min\n"
     ]
    },
    {
     "data": {
      "text/html": [
       "<div>\n",
       "<style scoped>\n",
       "    .dataframe tbody tr th:only-of-type {\n",
       "        vertical-align: middle;\n",
       "    }\n",
       "\n",
       "    .dataframe tbody tr th {\n",
       "        vertical-align: top;\n",
       "    }\n",
       "\n",
       "    .dataframe thead th {\n",
       "        text-align: right;\n",
       "    }\n",
       "</style>\n",
       "<table border=\"1\" class=\"dataframe\">\n",
       "  <thead>\n",
       "    <tr style=\"text-align: right;\">\n",
       "      <th></th>\n",
       "      <th>exchange</th>\n",
       "      <th>diff</th>\n",
       "    </tr>\n",
       "  </thead>\n",
       "  <tbody>\n",
       "    <tr>\n",
       "      <th>119</th>\n",
       "      <td>EX_malthp_e</td>\n",
       "      <td>2.303414e+00</td>\n",
       "    </tr>\n",
       "    <tr>\n",
       "      <th>150</th>\n",
       "      <td>EX_raffin_e</td>\n",
       "      <td>8.143684e-01</td>\n",
       "    </tr>\n",
       "    <tr>\n",
       "      <th>118</th>\n",
       "      <td>EX_malt_e</td>\n",
       "      <td>5.436328e-01</td>\n",
       "    </tr>\n",
       "    <tr>\n",
       "      <th>172</th>\n",
       "      <td>EX_tre_e</td>\n",
       "      <td>5.436328e-01</td>\n",
       "    </tr>\n",
       "    <tr>\n",
       "      <th>164</th>\n",
       "      <td>EX_sucr_e</td>\n",
       "      <td>5.436328e-01</td>\n",
       "    </tr>\n",
       "    <tr>\n",
       "      <th>...</th>\n",
       "      <td>...</td>\n",
       "      <td>...</td>\n",
       "    </tr>\n",
       "    <tr>\n",
       "      <th>179</th>\n",
       "      <td>EX_ni2_e</td>\n",
       "      <td>8.215650e-14</td>\n",
       "    </tr>\n",
       "    <tr>\n",
       "      <th>180</th>\n",
       "      <td>EX_btn_e</td>\n",
       "      <td>8.215650e-14</td>\n",
       "    </tr>\n",
       "    <tr>\n",
       "      <th>181</th>\n",
       "      <td>EX_34dhbz_e</td>\n",
       "      <td>8.215650e-14</td>\n",
       "    </tr>\n",
       "    <tr>\n",
       "      <th>41</th>\n",
       "      <td>EX_anhgm_e</td>\n",
       "      <td>7.815970e-14</td>\n",
       "    </tr>\n",
       "    <tr>\n",
       "      <th>86</th>\n",
       "      <td>EX_glyb_e</td>\n",
       "      <td>3.086420e-14</td>\n",
       "    </tr>\n",
       "  </tbody>\n",
       "</table>\n",
       "<p>182 rows × 2 columns</p>\n",
       "</div>"
      ],
      "text/plain": [
       "        exchange          diff\n",
       "119  EX_malthp_e  2.303414e+00\n",
       "150  EX_raffin_e  8.143684e-01\n",
       "118    EX_malt_e  5.436328e-01\n",
       "172     EX_tre_e  5.436328e-01\n",
       "164    EX_sucr_e  5.436328e-01\n",
       "..           ...           ...\n",
       "179     EX_ni2_e  8.215650e-14\n",
       "180     EX_btn_e  8.215650e-14\n",
       "181  EX_34dhbz_e  8.215650e-14\n",
       "41    EX_anhgm_e  7.815970e-14\n",
       "86     EX_glyb_e  3.086420e-14\n",
       "\n",
       "[182 rows x 2 columns]"
      ]
     },
     "execution_count": 17,
     "metadata": {},
     "output_type": "execute_result"
    }
   ],
   "source": [
    "find_additives(model, M9_med)"
   ]
  },
  {
   "cell_type": "code",
   "execution_count": 14,
   "metadata": {},
   "outputs": [
    {
     "name": "stdout",
     "output_type": "stream",
     "text": [
      "Growth rate with additives: 0.7301\n",
      "Doubling time with additives: 56.96 min\n"
     ]
    }
   ],
   "source": [
    "enhanced_growth(model, M9_med, CasA_med)"
   ]
  }
 ],
 "metadata": {
  "kernelspec": {
   "display_name": "rg",
   "language": "python",
   "name": "python3"
  },
  "language_info": {
   "codemirror_mode": {
    "name": "ipython",
    "version": 3
   },
   "file_extension": ".py",
   "mimetype": "text/x-python",
   "name": "python",
   "nbconvert_exporter": "python",
   "pygments_lexer": "ipython3",
   "version": "3.9.16"
  },
  "orig_nbformat": 4,
  "vscode": {
   "interpreter": {
    "hash": "d346240008253c0833d91dc133a0f72ff509568477a857db219647a824e7753e"
   }
  }
 },
 "nbformat": 4,
 "nbformat_minor": 2
}
