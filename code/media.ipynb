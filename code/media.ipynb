{
 "cells": [
  {
   "cell_type": "markdown",
   "metadata": {},
   "source": [
    "# Medium exploration\n",
    "This serves as notebook to look at different metabolites or reactions or ... in the GEMs present in this repository. "
   ]
  },
  {
   "cell_type": "code",
   "execution_count": 1,
   "metadata": {},
   "outputs": [],
   "source": [
    "# imports\n",
    "import cobra\n",
    "from libsbml import *\n",
    "import refinegems as rg\n",
    "import pandas as pd"
   ]
  },
  {
   "cell_type": "markdown",
   "metadata": {},
   "source": [
    "RefineGEMs provides a couple of functions that make life a bit easier, so they will be used here. I still loaded cobra and libSBML to ensure that I have access to everything.\n",
    "\n",
    "First we load our model with cobrapy."
   ]
  },
  {
   "cell_type": "code",
   "execution_count": 2,
   "metadata": {},
   "outputs": [
    {
     "name": "stdout",
     "output_type": "stream",
     "text": [
      "Scaling...\n",
      " A: min|aij| =  1.000e+00  max|aij| =  1.000e+00  ratio =  1.000e+00\n",
      "Problem data seem to be well scaled\n"
     ]
    }
   ],
   "source": [
    "model = rg.load.load_model_cobra('../models/Cstr_14.xml')"
   ]
  },
  {
   "cell_type": "markdown",
   "metadata": {},
   "source": [
    "### Focus: Protocatechuic acid (PCA)\n",
    "PCA is part of the CGXII medium which is of interest at the moment because this might be the minimal medium we need for more laboratory experiments."
   ]
  },
  {
   "cell_type": "code",
   "execution_count": 4,
   "metadata": {},
   "outputs": [
    {
     "data": {
      "text/html": [
       "\n",
       "        <table>\n",
       "            <tr>\n",
       "                <td><strong>Metabolite identifier</strong></td><td>34dhbz_c</td>\n",
       "            </tr><tr>\n",
       "                <td><strong>Name</strong></td><td>3,4-Dihydroxybenzoate</td>\n",
       "            </tr><tr>\n",
       "                <td><strong>Memory address</strong></td>\n",
       "                <td>0x07f98b2c1dbb0</td>\n",
       "            </tr><tr>\n",
       "                <td><strong>Formula</strong></td><td>C7H5O4</td>\n",
       "            </tr><tr>\n",
       "                <td><strong>Compartment</strong></td><td>c</td>\n",
       "            </tr><tr>\n",
       "                <td><strong>In 2 reaction(s)</strong></td><td>\n",
       "                    PCADYOX, VNTDM</td>\n",
       "            </tr>\n",
       "        </table>"
      ],
      "text/plain": [
       "<Metabolite 34dhbz_c at 0x7f98b2c1dbb0>"
      ]
     },
     "execution_count": 4,
     "metadata": {},
     "output_type": "execute_result"
    }
   ],
   "source": [
    "model.metabolites.get_by_id('34dhbz_c')"
   ]
  },
  {
   "cell_type": "markdown",
   "metadata": {},
   "source": [
    "Now we have a closer look at the two reactions that 34dhbz participates in."
   ]
  },
  {
   "cell_type": "code",
   "execution_count": 5,
   "metadata": {},
   "outputs": [
    {
     "data": {
      "text/html": [
       "\n",
       "        <table>\n",
       "            <tr>\n",
       "                <td><strong>Reaction identifier</strong></td><td>PCADYOX</td>\n",
       "            </tr><tr>\n",
       "                <td><strong>Name</strong></td><td></td>\n",
       "            </tr><tr>\n",
       "                <td><strong>Memory address</strong></td>\n",
       "                <td>0x07f9870e72fa0</td>\n",
       "            </tr><tr>\n",
       "                <td><strong>Stoichiometry</strong></td>\n",
       "                <td>\n",
       "                    <p style='text-align:right'>34dhbz_c + o2_c --> CCbuttc_c + 2.0 h_c</p>\n",
       "                    <p style='text-align:right'>3,4-Dihydroxybenzoate + O2 O2 --> Cis,cis-Butadiene-1,2,4-tricarboxylate + 2.0 H+</p>\n",
       "                </td>\n",
       "            </tr><tr>\n",
       "                <td><strong>GPR</strong></td><td></td>\n",
       "            </tr><tr>\n",
       "                <td><strong>Lower bound</strong></td><td>0.0</td>\n",
       "            </tr><tr>\n",
       "                <td><strong>Upper bound</strong></td><td>1000.0</td>\n",
       "            </tr>\n",
       "        </table>\n",
       "        "
      ],
      "text/plain": [
       "<Reaction PCADYOX at 0x7f9870e72fa0>"
      ]
     },
     "execution_count": 5,
     "metadata": {},
     "output_type": "execute_result"
    }
   ],
   "source": [
    "model.reactions.get_by_id('PCADYOX')"
   ]
  },
  {
   "cell_type": "code",
   "execution_count": 6,
   "metadata": {},
   "outputs": [
    {
     "data": {
      "text/html": [
       "\n",
       "        <table>\n",
       "            <tr>\n",
       "                <td><strong>Reaction identifier</strong></td><td>VNTDM</td>\n",
       "            </tr><tr>\n",
       "                <td><strong>Name</strong></td><td></td>\n",
       "            </tr><tr>\n",
       "                <td><strong>Memory address</strong></td>\n",
       "                <td>0x07f9889d44c70</td>\n",
       "            </tr><tr>\n",
       "                <td><strong>Stoichiometry</strong></td>\n",
       "                <td>\n",
       "                    <p style='text-align:right'>h_c + nadh_c + o2_c + vanlt_c --> 34dhbz_c + fald_c + h2o_c + nad_c</p>\n",
       "                    <p style='text-align:right'>H+ + Nicotinamide adenine dinucleotide - reduced + O2 O2 + Vanillate --> 3,4-Dihydroxybenzoate + Formaldehyde + H2O H2O + Nicotinamide adenine dinucleotide</p>\n",
       "                </td>\n",
       "            </tr><tr>\n",
       "                <td><strong>GPR</strong></td><td></td>\n",
       "            </tr><tr>\n",
       "                <td><strong>Lower bound</strong></td><td>0.0</td>\n",
       "            </tr><tr>\n",
       "                <td><strong>Upper bound</strong></td><td>1000.0</td>\n",
       "            </tr>\n",
       "        </table>\n",
       "        "
      ],
      "text/plain": [
       "<Reaction VNTDM at 0x7f9889d44c70>"
      ]
     },
     "execution_count": 6,
     "metadata": {},
     "output_type": "execute_result"
    }
   ],
   "source": [
    "model.reactions.get_by_id('VNTDM')"
   ]
  },
  {
   "cell_type": "markdown",
   "metadata": {},
   "source": [
    "In strain 14 VNTDM produces 34dhbz, PCADYOX consumes 34dhbz. There exists no uptake reaction. In the other strains (15, 16, 17) 34dhbz is not even present."
   ]
  },
  {
   "cell_type": "code",
   "execution_count": 7,
   "metadata": {},
   "outputs": [],
   "source": [
    "len(cobra.medium.find_boundary_types(model, 'sink'))\n",
    "cobra.medium.find_boundary_types(model, 'sink')\n",
    "cobra.flux_analysis.loopless_solution(model)\n",
    "\n",
    "minimal = cobra.medium.minimal_medium(model).to_dict()"
   ]
  },
  {
   "cell_type": "code",
   "execution_count": 8,
   "metadata": {},
   "outputs": [
    {
     "data": {
      "text/plain": [
       "20"
      ]
     },
     "execution_count": 8,
     "metadata": {},
     "output_type": "execute_result"
    }
   ],
   "source": [
    "cgxlab = rg.load.load_medium_from_db('/Users/baeuerle/Organisation/Masterarbeit/refinegems/data/media_db.csv', 'CGXlab')['BiGG_EX']\n",
    "len(cgxlab)"
   ]
  },
  {
   "cell_type": "code",
   "execution_count": 9,
   "metadata": {},
   "outputs": [
    {
     "name": "stdout",
     "output_type": "stream",
     "text": [
      "{'EX_btn_e': 10.0, 'EX_ca2_e': 10.0, 'EX_cl_e': 10.0, 'EX_cu2_e': 10.0, 'EX_fe2_e': 10.0, 'EX_glc__D_e': 10.0, 'EX_h2o_e': 10.0, 'EX_h_e': 10.0, 'EX_k_e': 10.0, 'EX_mg2_e': 10.0, 'EX_mn2_e': 10.0, 'EX_nh4_e': 10.0, 'EX_o2_e': 20.0, 'EX_pi_e': 10.0, 'EX_so4_e': 10.0, 'EX_urea_e': 10.0, 'EX_zn2_e': 10.0}\n"
     ]
    },
    {
     "data": {
      "text/html": [
       "<strong><em>Optimal</em> solution with objective value 0.000</strong><br><div>\n",
       "<style scoped>\n",
       "    .dataframe tbody tr th:only-of-type {\n",
       "        vertical-align: middle;\n",
       "    }\n",
       "\n",
       "    .dataframe tbody tr th {\n",
       "        vertical-align: top;\n",
       "    }\n",
       "\n",
       "    .dataframe thead th {\n",
       "        text-align: right;\n",
       "    }\n",
       "</style>\n",
       "<table border=\"1\" class=\"dataframe\">\n",
       "  <thead>\n",
       "    <tr style=\"text-align: right;\">\n",
       "      <th></th>\n",
       "      <th>fluxes</th>\n",
       "      <th>reduced_costs</th>\n",
       "    </tr>\n",
       "  </thead>\n",
       "  <tbody>\n",
       "    <tr>\n",
       "      <th>12DGR120tipp</th>\n",
       "      <td>0.0</td>\n",
       "      <td>0.000000e+00</td>\n",
       "    </tr>\n",
       "    <tr>\n",
       "      <th>12DGR140tipp</th>\n",
       "      <td>0.0</td>\n",
       "      <td>0.000000e+00</td>\n",
       "    </tr>\n",
       "    <tr>\n",
       "      <th>12DGR141tipp</th>\n",
       "      <td>0.0</td>\n",
       "      <td>0.000000e+00</td>\n",
       "    </tr>\n",
       "    <tr>\n",
       "      <th>12DGR160tipp</th>\n",
       "      <td>0.0</td>\n",
       "      <td>0.000000e+00</td>\n",
       "    </tr>\n",
       "    <tr>\n",
       "      <th>12DGR161tipp</th>\n",
       "      <td>0.0</td>\n",
       "      <td>0.000000e+00</td>\n",
       "    </tr>\n",
       "    <tr>\n",
       "      <th>...</th>\n",
       "      <td>...</td>\n",
       "      <td>...</td>\n",
       "    </tr>\n",
       "    <tr>\n",
       "      <th>EX_zn2_e</th>\n",
       "      <td>0.0</td>\n",
       "      <td>0.000000e+00</td>\n",
       "    </tr>\n",
       "    <tr>\n",
       "      <th>Growth</th>\n",
       "      <td>0.0</td>\n",
       "      <td>1.055350e-16</td>\n",
       "    </tr>\n",
       "    <tr>\n",
       "      <th>ATPM</th>\n",
       "      <td>0.0</td>\n",
       "      <td>5.009806e-18</td>\n",
       "    </tr>\n",
       "    <tr>\n",
       "      <th>APCPT</th>\n",
       "      <td>0.0</td>\n",
       "      <td>-1.261869e-30</td>\n",
       "    </tr>\n",
       "    <tr>\n",
       "      <th>APNPT</th>\n",
       "      <td>0.0</td>\n",
       "      <td>-6.309346e-31</td>\n",
       "    </tr>\n",
       "  </tbody>\n",
       "</table>\n",
       "<p>2002 rows × 2 columns</p>\n",
       "</div>"
      ],
      "text/plain": [
       "<Solution 0.000 at 0x7f9890fae220>"
      ]
     },
     "execution_count": 9,
     "metadata": {},
     "output_type": "execute_result"
    }
   ],
   "source": [
    "with model:\n",
    "    medium = model.medium\n",
    "    new_medium = {i: 10.0 for i in cgxlab}\n",
    "    new_medium.pop('EX_ni2_e')\n",
    "    new_medium.pop('EX_na1_e')\n",
    "    new_medium.pop('EX_34dhbz_e')\n",
    "    try:\n",
    "        if (new_medium['EX_o2_e'] == 10.0):\n",
    "            new_medium['EX_o2_e'] = 20.0\n",
    "    except KeyError:\n",
    "        print('No Oxygen Exchange Reaction')\n",
    "        pass\n",
    "    model.medium = new_medium\n",
    "    sol = model.optimize()\n",
    "    print(model.medium)\n",
    "    secretion = []\n",
    "    uptake = []\n",
    "    for index, value in sol.fluxes.items():\n",
    "        if value > 0:\n",
    "            secretion.append(index)\n",
    "        if \"EX\" in index:\n",
    "            if value < 0:\n",
    "                uptake.append(index)\n",
    "sol"
   ]
  },
  {
   "cell_type": "markdown",
   "metadata": {},
   "source": [
    "Determine unused metabolites."
   ]
  },
  {
   "cell_type": "code",
   "execution_count": 10,
   "metadata": {},
   "outputs": [],
   "source": [
    "not_used = list(set(cgxlab)-set(uptake))"
   ]
  },
  {
   "cell_type": "code",
   "execution_count": 11,
   "metadata": {},
   "outputs": [
    {
     "data": {
      "text/plain": [
       "0.0"
      ]
     },
     "execution_count": 11,
     "metadata": {},
     "output_type": "execute_result"
    }
   ],
   "source": [
    "new = list(set(cgxlab)-set(not_used))\n",
    "with model:\n",
    "    med = model.medium\n",
    "    new_medium = {i: 10.0 for i in new}\n",
    "    new_medium['EX_o2_e'] = 20.0\n",
    "    model.medium = new_medium\n",
    "    sol = model.optimize()\n",
    "sol.objective_value"
   ]
  },
  {
   "cell_type": "markdown",
   "metadata": {},
   "source": [
    "## Focus: missing metabolites for growth on CGXlab"
   ]
  },
  {
   "cell_type": "markdown",
   "metadata": {},
   "source": [
    "### 1. L-cysteinylglycine (`cgly`)"
   ]
  },
  {
   "cell_type": "code",
   "execution_count": 12,
   "metadata": {},
   "outputs": [],
   "source": [
    "\n",
    "model = rg.load.load_model_cobra('../models/Cstr_16.xml')"
   ]
  },
  {
   "cell_type": "code",
   "execution_count": 13,
   "metadata": {},
   "outputs": [
    {
     "name": "stdout",
     "output_type": "stream",
     "text": [
      "DIPEPabc15: atp_c + cgly_e + h2o_c --> adp_c + cgly_c + h_c + pi_c\n",
      "AMPTASECG: cgly_c + h2o_c --> cys__L_c + gly_c\n",
      "CGLYabcpp: atp_c + cgly_p + h2o_c --> adp_c + cgly_c + h_c + pi_c\n"
     ]
    }
   ],
   "source": [
    "for rea in model.metabolites.get_by_id('cgly_c').reactions:\n",
    "    print(rea)"
   ]
  },
  {
   "cell_type": "markdown",
   "metadata": {},
   "source": [
    "`cys__L_c` and `gly_c` are both part of the `Growth` reaction. `cgly_c` seems to be one way to produce both these metabolites. Maybe we can either find a different pathway to produce `cys__L_c` and `gly_c` or determine how `cgly_c` comes into the cell in the first place."
   ]
  },
  {
   "cell_type": "code",
   "execution_count": 14,
   "metadata": {},
   "outputs": [
    {
     "name": "stdout",
     "output_type": "stream",
     "text": [
      "gly_c producing reactions\n",
      "AMPEP11: gly_pro__L_c + h2o_c --> gly_c + pro__L_c\n",
      "AMPEP9: gly_met__L_c + h2o_c <=> gly_c + met__L_c\n",
      "SARCOX: h2o_c + o2_c + sarcs_c --> fald_c + gly_c + h2o2_c\n",
      "THRA: thr__L_c --> acald_c + gly_c\n",
      "AMPEP18: h2o_c + serglugly_c --> glu__L_c + gly_c + h_c + ser__L_c\n",
      "GLYGLYCNc: glygly_c + h2o_c --> 2.0 gly_c\n",
      "GLYTYRAP: gly_tyr__L_c + h2o_c <=> gly_c + tyr__L_c\n",
      "THRA2: athr__L_c --> acald_c + gly_c\n",
      "AMPTASEGGLN: glygln_c + h2o_c --> gln__L_c + gly_c\n",
      "GLYPHEAP: gly_phe__L_c + h2o_c <=> gly_c + phe__L_c\n",
      "AMPEP17: glyglygln_c + h2o_c --> gln__L_c + 2.0 gly_c\n",
      "GLYCL_2: co2_c + mlthf_c + nadh_c + nh4_c --> gly_c + nad_c + thf_c\n",
      "AMPEP16: h2o_c + lysglugly_c --> glu__L_c + gly_c + lys__L_c\n",
      "GLYLEUAP: gly_leu__L_c + h2o_c <=> gly_c + leu__L_c\n",
      "AMPTASEGM: glymet_c + h2o_c --> gly_c + met__L_c\n",
      "AMPEP4: alagly_c + h2o_c <=> ala__L_c + gly_c\n",
      "AMPEP3: gly_gln__L_c + h2o_c <=> gln__L_c + gly_c\n",
      "AMPEP1: gly_asn__L_c + h2o_c <=> asn__L_c + gly_c\n",
      "AMPEP10: gly_asp__L_c + h2o_c <=> asp__L_c + gly_c\n",
      "GHMT2r: ser__L_c + thf_c <=> gly_c + h2o_c + mlthf_c\n",
      "AMPEP8: gly_glu__L_c + h2o_c <=> glu__L_c + gly_c\n",
      "AMPTASEHG: h2o_c + hisgly_c --> gly_c + his__L_c\n",
      "AMPTASEGGLU: glyglu_c + h2o_c --> glu__L_c + gly_c\n",
      "AMPTASEGS: glyser_c + h2o_c --> gly_c + ser__L_c\n",
      "AMPTASEPG: h2o_c + progly_c --> gly_c + pro__L_c\n",
      "GLYPHEHYc: gly_phe__L_c + h2o_c --> gly_c + phe__L_c\n"
     ]
    }
   ],
   "source": [
    "print('gly_c producing reactions')\n",
    "for rea in model.metabolites.get_by_id('gly_c').reactions:\n",
    "    if model.metabolites.get_by_id('gly_c') in rea.products and model.metabolites.get_by_id('cgly_c') not in rea.reactants and model.metabolites.get_by_id('gly_e') not in rea.reactants and model.metabolites.get_by_id('gly_p') not in rea.reactants:\n",
    "        print(rea)"
   ]
  },
  {
   "cell_type": "code",
   "execution_count": 15,
   "metadata": {},
   "outputs": [
    {
     "name": "stdout",
     "output_type": "stream",
     "text": [
      "cys__L producing reactions\n",
      "CYSS: acser_c + h2s_c --> ac_c + cys__L_c\n"
     ]
    }
   ],
   "source": [
    "print('cys__L producing reactions')\n",
    "for rea in model.metabolites.get_by_id('cys__L_c').reactions:\n",
    "    if model.metabolites.get_by_id('cys__L_c') in rea.products and model.metabolites.get_by_id('cgly_c') not in rea.reactants and model.metabolites.get_by_id('cys__L_e') not in rea.reactants and model.metabolites.get_by_id('cys__L_p') not in rea.reactants:\n",
    "        print(rea)"
   ]
  },
  {
   "cell_type": "markdown",
   "metadata": {},
   "source": [
    "`cys__L` has only two reactions (14) / one reaction (15, 16, 17) which produce it. Both need `acser` to produce `cys__L`. See if O-Acetyl-L-serine can be added to a medium.\n",
    "\n",
    "We can also directly add L-Cysteine to the medium to simulate addition of cgly. Lets see if that works in simulation."
   ]
  },
  {
   "cell_type": "code",
   "execution_count": 16,
   "metadata": {},
   "outputs": [
    {
     "data": {
      "text/plain": [
       "(<Solution 0.558 at 0x7f9871279f40>,\n",
       " ['EX_ca2_e',\n",
       "  'EX_cl_e',\n",
       "  'EX_cobalt2_e',\n",
       "  'EX_cu2_e',\n",
       "  'EX_cys__L_e',\n",
       "  'EX_fe2_e',\n",
       "  'EX_glc__D_e',\n",
       "  'EX_k_e',\n",
       "  'EX_mg2_e',\n",
       "  'EX_mn2_e',\n",
       "  'EX_o2_e',\n",
       "  'EX_pi_e',\n",
       "  'EX_pnto__R_e',\n",
       "  'EX_so4_e',\n",
       "  'EX_urea_e',\n",
       "  'EX_zn2_e'])"
      ]
     },
     "execution_count": 16,
     "metadata": {},
     "output_type": "execute_result"
    }
   ],
   "source": [
    "with model:\n",
    "    medium = model.medium\n",
    "    new_medium = {i: 10.0 for i in cgxlab}\n",
    "    new_medium.pop('EX_ni2_e')\n",
    "    new_medium.pop('EX_na1_e')\n",
    "    new_medium.pop('EX_34dhbz_e')\n",
    "    new_medium.pop('EX_btn_e')\n",
    "    new_medium['EX_cys__L_e'] = 10.0 # EX_cgly_e\n",
    "    new_medium['EX_cobalt2_e'] = 10.0 \n",
    "    new_medium['EX_pnto__R_e'] = 10.0\n",
    "    try:\n",
    "        if (new_medium['EX_o2_e'] == 10.0):\n",
    "            new_medium['EX_o2_e'] = 20.0\n",
    "    except KeyError:\n",
    "        print('No Oxygen Exchange Reaction')\n",
    "        pass\n",
    "    model.medium = new_medium\n",
    "    sol = model.optimize()\n",
    "    secretion = []\n",
    "    uptake = []\n",
    "    for index, value in sol.fluxes.items():\n",
    "        if value > 0:\n",
    "            secretion.append(index)\n",
    "        if \"EX\" in index:\n",
    "            if value < 0:\n",
    "                uptake.append(index)\n",
    "sol, uptake"
   ]
  },
  {
   "cell_type": "markdown",
   "metadata": {},
   "source": [
    "Replacing `cgly` by `cys__L` works in the simulation -> test that in the lab."
   ]
  },
  {
   "cell_type": "markdown",
   "metadata": {},
   "source": [
    "### 2. β-nicotinamide D-ribonucleotide (`nmn`)"
   ]
  },
  {
   "cell_type": "code",
   "execution_count": 17,
   "metadata": {},
   "outputs": [],
   "source": [
    "model = rg.load.load_model_cobra('../models/Cstr_17.xml')"
   ]
  },
  {
   "cell_type": "code",
   "execution_count": 18,
   "metadata": {},
   "outputs": [
    {
     "name": "stdout",
     "output_type": "stream",
     "text": [
      "NMNDA: h2o_c + nmn_c --> nh4_c + nicrnt_c\n",
      "NMNHYD: h2o_c + nmn_c --> pi_c + rnam_c\n",
      "NADDP: h2o_c + nad_c --> amp_c + 2.0 h_c + nmn_c\n",
      "NMNP: nmn_e --> nmn_c\n",
      "NMNAT: atp_c + h_c + nmn_c --> nad_c + ppi_c\n"
     ]
    }
   ],
   "source": [
    "for rea in model.metabolites.get_by_id('nmn_c').reactions:\n",
    "    print(rea)"
   ]
  },
  {
   "cell_type": "code",
   "execution_count": 19,
   "metadata": {},
   "outputs": [
    {
     "name": "stdout",
     "output_type": "stream",
     "text": [
      "PNP_1: pi_c + rnam_c <=> h_c + ncam_c + r1p_c\n",
      "NNAM: h2o_c + ncam_c --> nac_c + nh4_c\n"
     ]
    }
   ],
   "source": [
    "for rea in model.metabolites.get_by_id('ncam_c').reactions:\n",
    "    print(rea)"
   ]
  },
  {
   "cell_type": "code",
   "execution_count": 20,
   "metadata": {},
   "outputs": [
    {
     "name": "stdout",
     "output_type": "stream",
     "text": [
      "NP1: h_c + nac_c + r1p_c --> nicrns_c + pi_c\n",
      "NAPRT: h_c + nac_c + prpp_c <=> nicrnt_c + ppi_c\n",
      "NNAM: h2o_c + ncam_c --> nac_c + nh4_c\n"
     ]
    }
   ],
   "source": [
    "for rea in model.metabolites.get_by_id('nac_c').reactions:\n",
    "    print(rea)"
   ]
  },
  {
   "cell_type": "markdown",
   "metadata": {},
   "source": [
    "`rnam`, `nac` and `ncam` only exist in the cytosol thus we cannot simulate the replacement of `nmn` by nicotinic acid (`nac`) but it is worth a try since it is included in the biosynthesis and available in the lab."
   ]
  },
  {
   "cell_type": "markdown",
   "metadata": {},
   "source": [
    "### 3. Beta-Alanine (`ala_B`)"
   ]
  },
  {
   "cell_type": "code",
   "execution_count": 21,
   "metadata": {},
   "outputs": [],
   "source": [
    "model = rg.load.load_model_cobra('../models/Cstr_15.xml')"
   ]
  },
  {
   "cell_type": "code",
   "execution_count": 22,
   "metadata": {},
   "outputs": [
    {
     "name": "stdout",
     "output_type": "stream",
     "text": [
      "BALAt2r: ala_B_e + h_e --> ala_B_c + h_c\n",
      "PANTS: ala_B_c + atp_c + pant__R_c --> amp_c + h_c + pnto__R_c + ppi_c\n",
      "BALAt2pp: ala_B_p + h_p --> ala_B_c + h_c\n"
     ]
    }
   ],
   "source": [
    "for rea in model.metabolites.get_by_id('ala_B_c').reactions:\n",
    "    print(rea)"
   ]
  },
  {
   "cell_type": "markdown",
   "metadata": {},
   "source": [
    "`ala_B` produces `pnto__R` which we already test for the strains. So we replace `ala_B` by `pnto__R` and test if that works."
   ]
  },
  {
   "cell_type": "code",
   "execution_count": 25,
   "metadata": {},
   "outputs": [
    {
     "data": {
      "text/plain": [
       "{'EX_ca2_e': -0.002874433695242312,\n",
       " 'EX_cl_e': -0.002874433695242312,\n",
       " 'EX_cobalt2_e': -5.522447060984269e-05,\n",
       " 'EX_cu2_e': -0.00039154149662378466,\n",
       " 'EX_cys__L_e': -0.13601124417556934,\n",
       " 'EX_fe2_e': -0.008020249866667453,\n",
       " 'EX_glc__D_e': -10.0,\n",
       " 'EX_k_e': -0.10779430091747025,\n",
       " 'EX_mg2_e': -0.004790722825403854,\n",
       " 'EX_mn2_e': -0.000381601091914013,\n",
       " 'EX_o2_e': -20.0,\n",
       " 'EX_pi_e': -0.5445646389707067,\n",
       " 'EX_pnto__R_e': -0.00031809295071270546,\n",
       " 'EX_so4_e': -0.002395637535054976,\n",
       " 'EX_urea_e': -5.4379023608086365,\n",
       " 'EX_zn2_e': -0.00018831544477956356}"
      ]
     },
     "execution_count": 25,
     "metadata": {},
     "output_type": "execute_result"
    }
   ],
   "source": [
    "with model:\n",
    "    medium = model.medium\n",
    "    new_medium = {i: 10.0 for i in cgxlab}\n",
    "    new_medium.pop('EX_ni2_e')\n",
    "    new_medium.pop('EX_na1_e')\n",
    "    new_medium.pop('EX_34dhbz_e')\n",
    "    new_medium.pop('EX_btn_e')\n",
    "    new_medium['EX_cys__L_e'] = 10.0 # replaces EX_cgly_e\n",
    "    new_medium['EX_cobalt2_e'] = 10.0 \n",
    "    new_medium['EX_pnto__R_e'] = 10.0 # replaces EX_ala_B_e\n",
    "    try:\n",
    "        if (new_medium['EX_o2_e'] == 10.0):\n",
    "            new_medium['EX_o2_e'] = 20.0\n",
    "    except KeyError:\n",
    "        print('No Oxygen Exchange Reaction')\n",
    "        pass\n",
    "    model.medium = new_medium\n",
    "    sol = model.optimize()\n",
    "    secretion = {}\n",
    "    uptake = {}\n",
    "    for index, value in sol.fluxes.items():\n",
    "        if value > 0:\n",
    "            secretion[index] = value\n",
    "        if \"EX\" in index:\n",
    "            if value < 0:\n",
    "                uptake[index] = value\n",
    "uptake"
   ]
  },
  {
   "cell_type": "markdown",
   "metadata": {},
   "source": [
    "## Focus: metabolites available in CGXII but not used by the models"
   ]
  },
  {
   "cell_type": "markdown",
   "metadata": {},
   "source": [
    "1. Sodium (`na1`)"
   ]
  },
  {
   "cell_type": "code",
   "execution_count": 4,
   "metadata": {},
   "outputs": [
    {
     "name": "stdout",
     "output_type": "stream",
     "text": [
      "MFUMt8: fum_e + na1_e --> fum_c + na1_c\n",
      "GLYt4: gly_e + na1_e --> gly_c + na1_c\n",
      "NAt3_1: h_e + na1_c --> h_c + na1_e\n",
      "NAt3_2: 2.0 h_e + na1_c --> 2.0 h_c + na1_e\n",
      "GLUt4: glu__L_e + na1_e --> glu__L_c + na1_c\n",
      "NAabc: atp_c + h2o_c + na1_e --> adp_c + h_c + na1_c + pi_c\n",
      "r1143: asp__L_e + na1_e --> asp__L_c + na1_c\n",
      "MALt4: mal__L_e + na1_e --> mal__L_c + na1_c\n",
      "PROt4: na1_e + pro__L_e --> na1_c + pro__L_c\n",
      "HMR_9610: na1_e + succ_e --> na1_c + succ_c\n",
      "NAabcO: atp_c + h2o_c + na1_c --> adp_c + h_c + na1_e + pi_c\n",
      "ALAt4: ala__L_e + na1_e --> ala__L_c + na1_c\n"
     ]
    }
   ],
   "source": [
    "for rea in model.metabolites.get_by_id('na1_e').reactions:\n",
    "    print(rea)"
   ]
  },
  {
   "cell_type": "markdown",
   "metadata": {},
   "source": [
    "`na1` seems to exist in the extracelullar region - why is there no uptake reaction? Sodium uptake is not as trivial as I thought."
   ]
  },
  {
   "cell_type": "markdown",
   "metadata": {},
   "source": [
    "2. Nickel (`ni2`)\n",
    "\n",
    "Nickel is an essential trace element for bacteria as a cofactor of several well-characterized enzymes (Sevilla 2021)."
   ]
  },
  {
   "cell_type": "code",
   "execution_count": 6,
   "metadata": {},
   "outputs": [
    {
     "name": "stdout",
     "output_type": "stream",
     "text": [
      "NI2uabcpp: atp_c + h2o_c + ni2_p --> adp_c + h_c + ni2_c + pi_c\n",
      "NI2t4pp: h_p + k_p + ni2_c --> h_c + k_c + ni2_p\n",
      "NI2t3pp: h_p + ni2_c --> h_c + ni2_p\n",
      "NIabc: atp_c + h2o_c + ni2_e --> adp_c + h_c + ni2_c + pi_c\n",
      "NI2abcpp: atp_c + h2o_c + ni2_c --> adp_c + h_c + ni2_p + pi_c\n"
     ]
    }
   ],
   "source": [
    "for rea in model.metabolites.get_by_id('ni2_c').reactions:\n",
    "    print(rea)"
   ]
  },
  {
   "cell_type": "markdown",
   "metadata": {},
   "source": [
    "`ni2` is not directly used in the `Growth` reaction but is present in all three compartments."
   ]
  },
  {
   "cell_type": "markdown",
   "metadata": {},
   "source": [
    "3. Biotin (`btn`)"
   ]
  },
  {
   "cell_type": "code",
   "execution_count": 7,
   "metadata": {},
   "outputs": [
    {
     "name": "stdout",
     "output_type": "stream",
     "text": [
      "DTBTST: 2.0 amet_c + dtbt_c + s_c --> btn_c + 2.0 dad_5_c + 2.0 met__L_c\n",
      "BTNTe: btn_c <=> btn_e\n",
      "BTS2: cys__L_c + dtbt_c <=> ala__L_c + btn_c + 2.0 h_c\n",
      "BTNt: atp_c + btn_e + h2o_c --> adp_c + btn_c + h_c + pi_c\n",
      "BTS3r: dtbt_c + 2.0 s_c <=> btn_c + h2s_c + h_c\n",
      "BTNt2i: btn_e + h_e --> btn_c + h_c\n"
     ]
    }
   ],
   "source": [
    "for rea in model.metabolites.get_by_id('btn_c').reactions:\n",
    "    print(rea)"
   ]
  },
  {
   "cell_type": "markdown",
   "metadata": {},
   "source": [
    "These are reactions also coming from _Mycobacterium tuberculosis H37Rv_ (DTBTST). Biotin biosynthesis seems to be "
   ]
  },
  {
   "cell_type": "markdown",
   "metadata": {},
   "source": [
    "4. PCA (`34dhbz`)\n",
    "\n",
    "Seems to be carbon source for _C. glutamicum_"
   ]
  },
  {
   "cell_type": "code",
   "execution_count": 8,
   "metadata": {},
   "outputs": [
    {
     "name": "stdout",
     "output_type": "stream",
     "text": [
      "VNTDM: h_c + nadh_c + o2_c + vanlt_c --> 34dhbz_c + fald_c + h2o_c + nad_c\n",
      "PCADYOX: 34dhbz_c + o2_c --> CCbuttc_c + 2.0 h_c\n"
     ]
    }
   ],
   "source": [
    "for rea in model.metabolites.get_by_id('34dhbz_c').reactions:\n",
    "    print(rea)"
   ]
  },
  {
   "cell_type": "code",
   "execution_count": 9,
   "metadata": {},
   "outputs": [
    {
     "data": {
      "text/html": [
       "\n",
       "        <table>\n",
       "            <tr>\n",
       "                <td><strong>Reaction identifier</strong></td><td>VNTDM</td>\n",
       "            </tr><tr>\n",
       "                <td><strong>Name</strong></td><td></td>\n",
       "            </tr><tr>\n",
       "                <td><strong>Memory address</strong></td>\n",
       "                <td>0x07fbb11345e80</td>\n",
       "            </tr><tr>\n",
       "                <td><strong>Stoichiometry</strong></td>\n",
       "                <td>\n",
       "                    <p style='text-align:right'>h_c + nadh_c + o2_c + vanlt_c --> 34dhbz_c + fald_c + h2o_c + nad_c</p>\n",
       "                    <p style='text-align:right'>H+ + Nicotinamide adenine dinucleotide - reduced + O2 O2 + Vanillate --> 3,4-Dihydroxybenzoate + Formaldehyde + H2O H2O + Nicotinamide adenine dinucleotide</p>\n",
       "                </td>\n",
       "            </tr><tr>\n",
       "                <td><strong>GPR</strong></td><td></td>\n",
       "            </tr><tr>\n",
       "                <td><strong>Lower bound</strong></td><td>0.0</td>\n",
       "            </tr><tr>\n",
       "                <td><strong>Upper bound</strong></td><td>1000.0</td>\n",
       "            </tr>\n",
       "        </table>\n",
       "        "
      ],
      "text/plain": [
       "<Reaction VNTDM at 0x7fbb11345e80>"
      ]
     },
     "execution_count": 9,
     "metadata": {},
     "output_type": "execute_result"
    }
   ],
   "source": [
    "model.reactions.get_by_id('VNTDM')"
   ]
  },
  {
   "cell_type": "code",
   "execution_count": 10,
   "metadata": {},
   "outputs": [
    {
     "data": {
      "text/html": [
       "\n",
       "        <table>\n",
       "            <tr>\n",
       "                <td><strong>Reaction identifier</strong></td><td>PCADYOX</td>\n",
       "            </tr><tr>\n",
       "                <td><strong>Name</strong></td><td></td>\n",
       "            </tr><tr>\n",
       "                <td><strong>Memory address</strong></td>\n",
       "                <td>0x07fbb50c04b50</td>\n",
       "            </tr><tr>\n",
       "                <td><strong>Stoichiometry</strong></td>\n",
       "                <td>\n",
       "                    <p style='text-align:right'>34dhbz_c + o2_c --> CCbuttc_c + 2.0 h_c</p>\n",
       "                    <p style='text-align:right'>3,4-Dihydroxybenzoate + O2 O2 --> Cis,cis-Butadiene-1,2,4-tricarboxylate + 2.0 H+</p>\n",
       "                </td>\n",
       "            </tr><tr>\n",
       "                <td><strong>GPR</strong></td><td></td>\n",
       "            </tr><tr>\n",
       "                <td><strong>Lower bound</strong></td><td>0.0</td>\n",
       "            </tr><tr>\n",
       "                <td><strong>Upper bound</strong></td><td>1000.0</td>\n",
       "            </tr>\n",
       "        </table>\n",
       "        "
      ],
      "text/plain": [
       "<Reaction PCADYOX at 0x7fbb50c04b50>"
      ]
     },
     "execution_count": 10,
     "metadata": {},
     "output_type": "execute_result"
    }
   ],
   "source": [
    "model.reactions.get_by_id('PCADYOX')"
   ]
  },
  {
   "cell_type": "markdown",
   "metadata": {},
   "source": [
    "Seems to be part of the energy metabolism???"
   ]
  }
 ],
 "metadata": {
  "kernelspec": {
   "display_name": "Python 3.9.13",
   "language": "python",
   "name": "python3"
  },
  "language_info": {
   "codemirror_mode": {
    "name": "ipython",
    "version": 3
   },
   "file_extension": ".py",
   "mimetype": "text/x-python",
   "name": "python",
   "nbconvert_exporter": "python",
   "pygments_lexer": "ipython3",
   "version": "3.9.13 (main, Oct 13 2022, 16:12:30) \n[Clang 12.0.0 ]"
  },
  "orig_nbformat": 4,
  "vscode": {
   "interpreter": {
    "hash": "b335ed1da5a1ff03f60c6f2b8d73ad245c1a6cb27799af2b559ab4e2e6d580ce"
   }
  }
 },
 "nbformat": 4,
 "nbformat_minor": 2
}
