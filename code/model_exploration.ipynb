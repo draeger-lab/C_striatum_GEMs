{
 "cells": [
  {
   "cell_type": "markdown",
   "metadata": {},
   "source": [
    "# Model exploration\n",
    "This serves as notebook to look at different metabolites or reactions or ... in the GEMs present in this repository. "
   ]
  },
  {
   "cell_type": "code",
   "execution_count": 3,
   "metadata": {},
   "outputs": [],
   "source": [
    "# imports\n",
    "import cobra\n",
    "from libsbml import *\n",
    "import refinegems as rg\n",
    "import pandas as pd"
   ]
  },
  {
   "cell_type": "markdown",
   "metadata": {},
   "source": [
    "RefineGEMs provides a couple of functions that make life a bit easier, so they will be used here. I still loaded cobra and libSBML to ensure that I have access to everything.\n",
    "\n",
    "First we load our model with cobrapy."
   ]
  },
  {
   "cell_type": "code",
   "execution_count": null,
   "metadata": {},
   "outputs": [],
   "source": [
    "model = rg.load.load_model_cobra('../models/Cstr_14.xml')"
   ]
  },
  {
   "cell_type": "markdown",
   "metadata": {},
   "source": [
    "### Focus: Protocatechuic acid (PCA)\n",
    "PCA is part of the CGXII medium which is of interest at the moment because this might be the minimal medium we need for more laboratory experiments."
   ]
  },
  {
   "cell_type": "code",
   "execution_count": null,
   "metadata": {},
   "outputs": [],
   "source": [
    "model.metabolites.get_by_id('34dhbz_c')"
   ]
  },
  {
   "cell_type": "markdown",
   "metadata": {},
   "source": [
    "Now we have a closer look at the two reactions that 34dhbz participates in."
   ]
  },
  {
   "cell_type": "code",
   "execution_count": null,
   "metadata": {},
   "outputs": [],
   "source": [
    "model.reactions.get_by_id('PCADYOX')"
   ]
  },
  {
   "cell_type": "code",
   "execution_count": null,
   "metadata": {},
   "outputs": [],
   "source": [
    "model.reactions.get_by_id('VNTDM')"
   ]
  },
  {
   "cell_type": "markdown",
   "metadata": {},
   "source": [
    "In strain 14 VNTDM produces 34dhbz, PCADYOX consumes 34dhbz. There exists no uptake reaction. In the other strains (15, 16, 17) 34dhbz is not even present."
   ]
  },
  {
   "cell_type": "code",
   "execution_count": null,
   "metadata": {},
   "outputs": [],
   "source": [
    "len(cobra.medium.find_boundary_types(model, 'sink'))\n",
    "cobra.medium.find_boundary_types(model, 'sink')\n",
    "cobra.flux_analysis.loopless_solution(model)\n",
    "\n",
    "minimal = cobra.medium.minimal_medium(model).to_dict()"
   ]
  },
  {
   "cell_type": "code",
   "execution_count": 7,
   "metadata": {},
   "outputs": [
    {
     "data": {
      "text/plain": [
       "20"
      ]
     },
     "execution_count": 7,
     "metadata": {},
     "output_type": "execute_result"
    }
   ],
   "source": [
    "cgxlab = rg.load.load_medium_from_db('/Users/baeuerle/Organisation/Masterarbeit/refinegems/data/media_db.csv', 'CGXlab')['BiGG_EX']\n",
    "len(cgxlab)"
   ]
  },
  {
   "cell_type": "code",
   "execution_count": null,
   "metadata": {},
   "outputs": [],
   "source": [
    "with model:\n",
    "    medium = model.medium\n",
    "    new_medium = {i: 10.0 for i in cgxlab}\n",
    "    new_medium.pop('EX_ni2_e')\n",
    "    new_medium.pop('EX_na1_e')\n",
    "    new_medium.pop('EX_34dhbz_e')\n",
    "    try:\n",
    "        if (new_medium['EX_o2_e'] == 10.0):\n",
    "            new_medium['EX_o2_e'] = 20.0\n",
    "    except KeyError:\n",
    "        print('No Oxygen Exchange Reaction')\n",
    "        pass\n",
    "    model.medium = new_medium\n",
    "    sol = model.optimize()\n",
    "    print(model.medium)\n",
    "    secretion = []\n",
    "    uptake = []\n",
    "    for index, value in sol.fluxes.items():\n",
    "        if value > 0:\n",
    "            secretion.append(index)\n",
    "        if \"EX\" in index:\n",
    "            if value < 0:\n",
    "                uptake.append(index)\n",
    "sol"
   ]
  },
  {
   "cell_type": "markdown",
   "metadata": {},
   "source": [
    "Determine unused metabolites."
   ]
  },
  {
   "cell_type": "code",
   "execution_count": null,
   "metadata": {},
   "outputs": [],
   "source": [
    "not_used = list(set(cgxlab)-set(uptake))"
   ]
  },
  {
   "cell_type": "code",
   "execution_count": null,
   "metadata": {},
   "outputs": [],
   "source": [
    "new = list(set(cgxlab)-set(not_used))\n",
    "with model:\n",
    "    med = model.medium\n",
    "    new_medium = {i: 10.0 for i in new}\n",
    "    new_medium['EX_o2_e'] = 20.0\n",
    "    model.medium = new_medium\n",
    "    sol = model.optimize()\n",
    "sol.objective_value"
   ]
  },
  {
   "cell_type": "markdown",
   "metadata": {},
   "source": [
    "## Focus: missing metabolites for growth on CGXlab"
   ]
  },
  {
   "cell_type": "markdown",
   "metadata": {},
   "source": [
    "### 1. L-cysteinylglycine (`cgly`)"
   ]
  },
  {
   "cell_type": "code",
   "execution_count": 48,
   "metadata": {},
   "outputs": [],
   "source": [
    "\n",
    "model = rg.load.load_model_cobra('../models/Cstr_16.xml')"
   ]
  },
  {
   "cell_type": "code",
   "execution_count": 33,
   "metadata": {},
   "outputs": [
    {
     "name": "stdout",
     "output_type": "stream",
     "text": [
      "CGLYabcpp: atp_c + cgly_p + h2o_c --> adp_c + cgly_c + h_c + pi_c\n",
      "AMPTASECG: cgly_c + h2o_c --> cys__L_c + gly_c\n",
      "DIPEPabc15: atp_c + cgly_e + h2o_c --> adp_c + cgly_c + h_c + pi_c\n"
     ]
    }
   ],
   "source": [
    "for rea in model.metabolites.get_by_id('cgly_c').reactions:\n",
    "    print(rea)"
   ]
  },
  {
   "cell_type": "markdown",
   "metadata": {},
   "source": [
    "`cys__L_c` and `gly_c` are both part of the `Growth` reaction. `cgly_c` seems to be one way to produce both these metabolites. Maybe we can either find a different pathway to produce `cys__L_c` and `gly_c` or determine how `cgly_c` comes into the cell in the first place."
   ]
  },
  {
   "cell_type": "code",
   "execution_count": 34,
   "metadata": {},
   "outputs": [
    {
     "name": "stdout",
     "output_type": "stream",
     "text": [
      "gly_c producing reactions\n",
      "GLYPHEHYc: gly_phe__L_c + h2o_c --> gly_c + phe__L_c\n",
      "GLYGLYCNc: glygly_c + h2o_c --> 2.0 gly_c\n",
      "THRA2: athr__L_c --> acald_c + gly_c\n",
      "AMPTASEGS: glyser_c + h2o_c --> gly_c + ser__L_c\n",
      "GLYCL_2: co2_c + mlthf_c + nadh_c + nh4_c --> gly_c + nad_c + thf_c\n",
      "AMPEP16: h2o_c + lysglugly_c --> glu__L_c + gly_c + lys__L_c\n",
      "THRA: thr__L_c --> acald_c + gly_c\n",
      "AMPEP3: gly_gln__L_c + h2o_c <=> gln__L_c + gly_c\n",
      "AMPEP9: gly_met__L_c + h2o_c <=> gly_c + met__L_c\n",
      "AMPEP8: gly_glu__L_c + h2o_c <=> glu__L_c + gly_c\n",
      "AMPTASEPG: h2o_c + progly_c --> gly_c + pro__L_c\n",
      "GLYPHEAP: gly_phe__L_c + h2o_c <=> gly_c + phe__L_c\n",
      "SARCOX: h2o_c + o2_c + sarcs_c --> fald_c + gly_c + h2o2_c\n",
      "AMPTASEGGLU: glyglu_c + h2o_c --> glu__L_c + gly_c\n",
      "AMPTASEHG: h2o_c + hisgly_c --> gly_c + his__L_c\n",
      "GLYTYRAP: gly_tyr__L_c + h2o_c <=> gly_c + tyr__L_c\n",
      "GHMT2r: ser__L_c + thf_c <=> gly_c + h2o_c + mlthf_c\n",
      "GLYLEUAP: gly_leu__L_c + h2o_c <=> gly_c + leu__L_c\n",
      "AMPEP4: alagly_c + h2o_c <=> ala__L_c + gly_c\n",
      "AMPTASEGGLN: glygln_c + h2o_c --> gln__L_c + gly_c\n",
      "AMPEP10: gly_asp__L_c + h2o_c <=> asp__L_c + gly_c\n",
      "AMPEP1: gly_asn__L_c + h2o_c <=> asn__L_c + gly_c\n",
      "AMPEP18: h2o_c + serglugly_c --> glu__L_c + gly_c + h_c + ser__L_c\n",
      "AMPEP17: glyglygln_c + h2o_c --> gln__L_c + 2.0 gly_c\n",
      "AMPEP11: gly_pro__L_c + h2o_c --> gly_c + pro__L_c\n",
      "AMPTASEGM: glymet_c + h2o_c --> gly_c + met__L_c\n"
     ]
    }
   ],
   "source": [
    "print('gly_c producing reactions')\n",
    "for rea in model.metabolites.get_by_id('gly_c').reactions:\n",
    "    if model.metabolites.get_by_id('gly_c') in rea.products and model.metabolites.get_by_id('cgly_c') not in rea.reactants and model.metabolites.get_by_id('gly_e') not in rea.reactants and model.metabolites.get_by_id('gly_p') not in rea.reactants:\n",
    "        print(rea)"
   ]
  },
  {
   "cell_type": "code",
   "execution_count": 39,
   "metadata": {},
   "outputs": [
    {
     "name": "stdout",
     "output_type": "stream",
     "text": [
      "cys__L producing reactions\n",
      "CYSS: acser_c + h2s_c --> ac_c + cys__L_c\n"
     ]
    }
   ],
   "source": [
    "print('cys__L producing reactions')\n",
    "for rea in model.metabolites.get_by_id('cys__L_c').reactions:\n",
    "    if model.metabolites.get_by_id('cys__L_c') in rea.products and model.metabolites.get_by_id('cgly_c') not in rea.reactants and model.metabolites.get_by_id('cys__L_e') not in rea.reactants and model.metabolites.get_by_id('cys__L_p') not in rea.reactants:\n",
    "        print(rea)"
   ]
  },
  {
   "cell_type": "markdown",
   "metadata": {},
   "source": [
    "`cys__L` has only two reactions (14) / one reaction (15, 16, 17) which produce it. Both need `acser` to produce `cys__L`. See if O-Acetyl-L-serine can be added to a medium.\n",
    "\n",
    "We can also directly add L-Cysteine to the medium to simulate addition of cgly. Lets see if that works in simulation."
   ]
  },
  {
   "cell_type": "code",
   "execution_count": 53,
   "metadata": {},
   "outputs": [
    {
     "data": {
      "text/plain": [
       "(<Solution 0.558 at 0x7f7ad0dcc190>,\n",
       " ['EX_ca2_e',\n",
       "  'EX_cl_e',\n",
       "  'EX_cobalt2_e',\n",
       "  'EX_cu2_e',\n",
       "  'EX_cys__L_e',\n",
       "  'EX_fe2_e',\n",
       "  'EX_glc__D_e',\n",
       "  'EX_k_e',\n",
       "  'EX_mg2_e',\n",
       "  'EX_mn2_e',\n",
       "  'EX_o2_e',\n",
       "  'EX_pi_e',\n",
       "  'EX_pnto__R_e',\n",
       "  'EX_so4_e',\n",
       "  'EX_urea_e',\n",
       "  'EX_zn2_e'])"
      ]
     },
     "execution_count": 53,
     "metadata": {},
     "output_type": "execute_result"
    }
   ],
   "source": [
    "with model:\n",
    "    medium = model.medium\n",
    "    new_medium = {i: 10.0 for i in cgxlab}\n",
    "    new_medium.pop('EX_ni2_e')\n",
    "    new_medium.pop('EX_na1_e')\n",
    "    new_medium.pop('EX_34dhbz_e')\n",
    "    new_medium.pop('EX_btn_e')\n",
    "    new_medium['EX_cys__L_e'] = 10.0 # EX_cgly_e\n",
    "    new_medium['EX_cobalt2_e'] = 10.0 \n",
    "    new_medium['EX_pnto__R_e'] = 10.0\n",
    "    try:\n",
    "        if (new_medium['EX_o2_e'] == 10.0):\n",
    "            new_medium['EX_o2_e'] = 20.0\n",
    "    except KeyError:\n",
    "        print('No Oxygen Exchange Reaction')\n",
    "        pass\n",
    "    model.medium = new_medium\n",
    "    sol = model.optimize()\n",
    "    secretion = []\n",
    "    uptake = []\n",
    "    for index, value in sol.fluxes.items():\n",
    "        if value > 0:\n",
    "            secretion.append(index)\n",
    "        if \"EX\" in index:\n",
    "            if value < 0:\n",
    "                uptake.append(index)\n",
    "sol, uptake"
   ]
  },
  {
   "cell_type": "markdown",
   "metadata": {},
   "source": [
    "Replacing `cgly` by `cys__L` works in the simulation -> test that in the lab."
   ]
  },
  {
   "cell_type": "markdown",
   "metadata": {},
   "source": [
    "### 2. β-nicotinamide D-ribonucleotide (`nmn`)"
   ]
  },
  {
   "cell_type": "code",
   "execution_count": 54,
   "metadata": {},
   "outputs": [],
   "source": [
    "model = rg.load.load_model_cobra('../models/Cstr_17.xml')"
   ]
  },
  {
   "cell_type": "code",
   "execution_count": 61,
   "metadata": {},
   "outputs": [
    {
     "name": "stdout",
     "output_type": "stream",
     "text": [
      "NMNDA: h2o_c + nmn_c --> nh4_c + nicrnt_c\n",
      "NMNP: nmn_e --> nmn_c\n",
      "NMNAT: atp_c + h_c + nmn_c --> nad_c + ppi_c\n",
      "NADDP: h2o_c + nad_c --> amp_c + 2.0 h_c + nmn_c\n",
      "NMNHYD: h2o_c + nmn_c --> pi_c + rnam_c\n"
     ]
    }
   ],
   "source": [
    "for rea in model.metabolites.get_by_id('nmn_c').reactions:\n",
    "    print(rea)"
   ]
  },
  {
   "cell_type": "code",
   "execution_count": 63,
   "metadata": {},
   "outputs": [
    {
     "name": "stdout",
     "output_type": "stream",
     "text": [
      "PNP_1: pi_c + rnam_c <=> h_c + ncam_c + r1p_c\n",
      "NNAM: h2o_c + ncam_c --> nac_c + nh4_c\n"
     ]
    }
   ],
   "source": [
    "for rea in model.metabolites.get_by_id('ncam_c').reactions:\n",
    "    print(rea)"
   ]
  },
  {
   "cell_type": "code",
   "execution_count": 67,
   "metadata": {},
   "outputs": [
    {
     "name": "stdout",
     "output_type": "stream",
     "text": [
      "NAPRT: h_c + nac_c + prpp_c <=> nicrnt_c + ppi_c\n",
      "NNAM: h2o_c + ncam_c --> nac_c + nh4_c\n",
      "NP1: h_c + nac_c + r1p_c --> nicrns_c + pi_c\n"
     ]
    }
   ],
   "source": [
    "for rea in model.metabolites.get_by_id('nac_c').reactions:\n",
    "    print(rea)"
   ]
  },
  {
   "cell_type": "markdown",
   "metadata": {},
   "source": [
    "`rnam`, `nac` and `ncam` only exist in the cytosol thus we cannot simulate the replacement of `nmn` by nicotinic acid (`nac`) but it is work a try since it is included in the biosynthesis and available in the lab."
   ]
  },
  {
   "cell_type": "markdown",
   "metadata": {},
   "source": [
    "### 3. Beta-Alanine (`ala_B`)"
   ]
  },
  {
   "cell_type": "code",
   "execution_count": 4,
   "metadata": {},
   "outputs": [
    {
     "name": "stdout",
     "output_type": "stream",
     "text": [
      "Scaling...\n",
      " A: min|aij| =  1.000e+00  max|aij| =  1.000e+00  ratio =  1.000e+00\n",
      "Problem data seem to be well scaled\n"
     ]
    }
   ],
   "source": [
    "model = rg.load.load_model_cobra('../models/Cstr_15.xml')"
   ]
  },
  {
   "cell_type": "code",
   "execution_count": 5,
   "metadata": {},
   "outputs": [
    {
     "name": "stdout",
     "output_type": "stream",
     "text": [
      "BALAt2r: ala_B_e + h_e --> ala_B_c + h_c\n",
      "BALAt2pp: ala_B_p + h_p --> ala_B_c + h_c\n",
      "PANTS: ala_B_c + atp_c + pant__R_c --> amp_c + h_c + pnto__R_c + ppi_c\n"
     ]
    }
   ],
   "source": [
    "for rea in model.metabolites.get_by_id('ala_B_c').reactions:\n",
    "    print(rea)"
   ]
  },
  {
   "cell_type": "markdown",
   "metadata": {},
   "source": [
    "`ala_B` produces `pnto__R` which we already test for the strains. So we replace `ala_B` by `pnto__R` and test if that works."
   ]
  },
  {
   "cell_type": "code",
   "execution_count": 9,
   "metadata": {},
   "outputs": [
    {
     "data": {
      "text/plain": [
       "(<Solution 0.552 at 0x7ff2393ea640>,\n",
       " ['EX_ca2_e',\n",
       "  'EX_cl_e',\n",
       "  'EX_cobalt2_e',\n",
       "  'EX_cu2_e',\n",
       "  'EX_cys__L_e',\n",
       "  'EX_fe2_e',\n",
       "  'EX_glc__D_e',\n",
       "  'EX_k_e',\n",
       "  'EX_mg2_e',\n",
       "  'EX_mn2_e',\n",
       "  'EX_o2_e',\n",
       "  'EX_pi_e',\n",
       "  'EX_pnto__R_e',\n",
       "  'EX_so4_e',\n",
       "  'EX_urea_e',\n",
       "  'EX_zn2_e'])"
      ]
     },
     "execution_count": 9,
     "metadata": {},
     "output_type": "execute_result"
    }
   ],
   "source": [
    "with model:\n",
    "    medium = model.medium\n",
    "    new_medium = {i: 10.0 for i in cgxlab}\n",
    "    new_medium.pop('EX_ni2_e')\n",
    "    new_medium.pop('EX_na1_e')\n",
    "    new_medium.pop('EX_34dhbz_e')\n",
    "    new_medium.pop('EX_btn_e')\n",
    "    new_medium['EX_cys__L_e'] = 10.0 # replaces EX_cgly_e\n",
    "    new_medium['EX_cobalt2_e'] = 10.0 \n",
    "    new_medium['EX_pnto__R_e'] = 10.0 # replaces EX_ala_B_e\n",
    "    try:\n",
    "        if (new_medium['EX_o2_e'] == 10.0):\n",
    "            new_medium['EX_o2_e'] = 20.0\n",
    "    except KeyError:\n",
    "        print('No Oxygen Exchange Reaction')\n",
    "        pass\n",
    "    model.medium = new_medium\n",
    "    sol = model.optimize()\n",
    "    secretion = []\n",
    "    uptake = []\n",
    "    for index, value in sol.fluxes.items():\n",
    "        if value > 0:\n",
    "            secretion.append(index)\n",
    "        if \"EX\" in index:\n",
    "            if value < 0:\n",
    "                uptake.append(index)\n",
    "sol, uptake"
   ]
  },
  {
   "cell_type": "markdown",
   "metadata": {},
   "source": []
  }
 ],
 "metadata": {
  "kernelspec": {
   "display_name": "Python 3.9.4 ('refinegems-IHVxS0TF')",
   "language": "python",
   "name": "python3"
  },
  "language_info": {
   "codemirror_mode": {
    "name": "ipython",
    "version": 3
   },
   "file_extension": ".py",
   "mimetype": "text/x-python",
   "name": "python",
   "nbconvert_exporter": "python",
   "pygments_lexer": "ipython3",
   "version": "3.9.4"
  },
  "orig_nbformat": 4,
  "vscode": {
   "interpreter": {
    "hash": "05b03929f31a3c7197b7c2cea0f190a9aa2e5c2b923ad8f41e4c618b018e4321"
   }
  }
 },
 "nbformat": 4,
 "nbformat_minor": 2
}
