{
 "cells": [
  {
   "cell_type": "markdown",
   "metadata": {},
   "source": [
    "# Model exploration\n",
    "This serves as notebook to look at different metabolites or reactions or ... in the GEMs present in this repository. "
   ]
  },
  {
   "cell_type": "code",
   "execution_count": 11,
   "metadata": {},
   "outputs": [],
   "source": [
    "# imports\n",
    "import cobra\n",
    "from libsbml import *\n",
    "import refinegems as rg\n",
    "import pandas as pd"
   ]
  },
  {
   "cell_type": "markdown",
   "metadata": {},
   "source": [
    "RefineGEMs provides a couple of functions that make life a bit easier, so they will be used here. I still loaded cobra and libSBML to ensure that I have access to everything.\n",
    "\n",
    "First we load our model with cobrapy."
   ]
  },
  {
   "cell_type": "code",
   "execution_count": 2,
   "metadata": {},
   "outputs": [
    {
     "name": "stdout",
     "output_type": "stream",
     "text": [
      "Scaling...\n",
      " A: min|aij| =  1.000e+00  max|aij| =  1.000e+00  ratio =  1.000e+00\n",
      "Problem data seem to be well scaled\n"
     ]
    }
   ],
   "source": [
    "model = rg.load_model_cobra('../models/Cstr_14.xml')"
   ]
  },
  {
   "cell_type": "markdown",
   "metadata": {},
   "source": [
    "### Focus: Protocatechuic acid (PCA)\n",
    "PCA is part of the CGXII medium which is of interest at the moment because this might be the minimal medium we need for more laboratory experiments."
   ]
  },
  {
   "cell_type": "code",
   "execution_count": 3,
   "metadata": {},
   "outputs": [
    {
     "data": {
      "text/html": [
       "\n",
       "        <table>\n",
       "            <tr>\n",
       "                <td><strong>Metabolite identifier</strong></td><td>34dhbz_c</td>\n",
       "            </tr><tr>\n",
       "                <td><strong>Name</strong></td><td>3,4-Dihydroxybenzoate</td>\n",
       "            </tr><tr>\n",
       "                <td><strong>Memory address</strong></td>\n",
       "                <td>0x07f93d867cdc0</td>\n",
       "            </tr><tr>\n",
       "                <td><strong>Formula</strong></td><td>C7H5O4</td>\n",
       "            </tr><tr>\n",
       "                <td><strong>Compartment</strong></td><td>c</td>\n",
       "            </tr><tr>\n",
       "                <td><strong>In 2 reaction(s)</strong></td><td>\n",
       "                    PCADYOX, VNTDM</td>\n",
       "            </tr>\n",
       "        </table>"
      ],
      "text/plain": [
       "<Metabolite 34dhbz_c at 0x7f93d867cdc0>"
      ]
     },
     "execution_count": 3,
     "metadata": {},
     "output_type": "execute_result"
    }
   ],
   "source": [
    "model.metabolites.get_by_id('34dhbz_c')"
   ]
  },
  {
   "cell_type": "markdown",
   "metadata": {},
   "source": [
    "Now we have a closer look at the two reactions that 34dhbz participates in."
   ]
  },
  {
   "cell_type": "code",
   "execution_count": 4,
   "metadata": {},
   "outputs": [
    {
     "data": {
      "text/html": [
       "\n",
       "        <table>\n",
       "            <tr>\n",
       "                <td><strong>Reaction identifier</strong></td><td>PCADYOX</td>\n",
       "            </tr><tr>\n",
       "                <td><strong>Name</strong></td><td></td>\n",
       "            </tr><tr>\n",
       "                <td><strong>Memory address</strong></td>\n",
       "                <td>0x07f93e99a4e80</td>\n",
       "            </tr><tr>\n",
       "                <td><strong>Stoichiometry</strong></td>\n",
       "                <td>\n",
       "                    <p style='text-align:right'>34dhbz_c + o2_c --> CCbuttc_c + 2.0 h_c</p>\n",
       "                    <p style='text-align:right'>3,4-Dihydroxybenzoate + O2 O2 --> Cis,cis-Butadiene-1,2,4-tricarboxylate + 2.0 H+</p>\n",
       "                </td>\n",
       "            </tr><tr>\n",
       "                <td><strong>GPR</strong></td><td></td>\n",
       "            </tr><tr>\n",
       "                <td><strong>Lower bound</strong></td><td>0.0</td>\n",
       "            </tr><tr>\n",
       "                <td><strong>Upper bound</strong></td><td>1000.0</td>\n",
       "            </tr>\n",
       "        </table>\n",
       "        "
      ],
      "text/plain": [
       "<Reaction PCADYOX at 0x7f93e99a4e80>"
      ]
     },
     "execution_count": 4,
     "metadata": {},
     "output_type": "execute_result"
    }
   ],
   "source": [
    "model.reactions.get_by_id('PCADYOX')"
   ]
  },
  {
   "cell_type": "code",
   "execution_count": 5,
   "metadata": {},
   "outputs": [
    {
     "data": {
      "text/html": [
       "\n",
       "        <table>\n",
       "            <tr>\n",
       "                <td><strong>Reaction identifier</strong></td><td>VNTDM</td>\n",
       "            </tr><tr>\n",
       "                <td><strong>Name</strong></td><td></td>\n",
       "            </tr><tr>\n",
       "                <td><strong>Memory address</strong></td>\n",
       "                <td>0x07f93a91a0af0</td>\n",
       "            </tr><tr>\n",
       "                <td><strong>Stoichiometry</strong></td>\n",
       "                <td>\n",
       "                    <p style='text-align:right'>h_c + nadh_c + o2_c + vanlt_c --> 34dhbz_c + fald_c + h2o_c + nad_c</p>\n",
       "                    <p style='text-align:right'>H+ + Nicotinamide adenine dinucleotide - reduced + O2 O2 + Vanillate --> 3,4-Dihydroxybenzoate + Formaldehyde + H2O H2O + Nicotinamide adenine dinucleotide</p>\n",
       "                </td>\n",
       "            </tr><tr>\n",
       "                <td><strong>GPR</strong></td><td></td>\n",
       "            </tr><tr>\n",
       "                <td><strong>Lower bound</strong></td><td>0.0</td>\n",
       "            </tr><tr>\n",
       "                <td><strong>Upper bound</strong></td><td>1000.0</td>\n",
       "            </tr>\n",
       "        </table>\n",
       "        "
      ],
      "text/plain": [
       "<Reaction VNTDM at 0x7f93a91a0af0>"
      ]
     },
     "execution_count": 5,
     "metadata": {},
     "output_type": "execute_result"
    }
   ],
   "source": [
    "model.reactions.get_by_id('VNTDM')"
   ]
  },
  {
   "cell_type": "markdown",
   "metadata": {},
   "source": [
    "In strain 14 VNTDM produces 34dhbz, PCADYOX consumes 34dhbz. There exists no uptake reaction. In the other strains (15, 16, 17) 34dhbz is not even present."
   ]
  },
  {
   "cell_type": "code",
   "execution_count": 81,
   "metadata": {},
   "outputs": [],
   "source": [
    "len(cobra.medium.find_boundary_types(model, 'sink'))\n",
    "cobra.medium.find_boundary_types(model, 'sink')\n",
    "cobra.flux_analysis.loopless_solution(model)\n",
    "\n",
    "minimal = cobra.medium.minimal_medium(model).to_dict()"
   ]
  },
  {
   "cell_type": "code",
   "execution_count": 82,
   "metadata": {},
   "outputs": [
    {
     "data": {
      "text/plain": [
       "20"
      ]
     },
     "execution_count": 82,
     "metadata": {},
     "output_type": "execute_result"
    }
   ],
   "source": [
    "cgxlab = rg.load.load_medium_from_db('/Users/baeuerle/Organisation/Masterarbeit/refinegems/data/media_db.csv', 'CGXlab')['BiGG_EX']\n",
    "len(cgxlab)"
   ]
  },
  {
   "cell_type": "code",
   "execution_count": 83,
   "metadata": {},
   "outputs": [
    {
     "name": "stdout",
     "output_type": "stream",
     "text": [
      "{'EX_btn_e': 10.0, 'EX_ca2_e': 10.0, 'EX_cl_e': 10.0, 'EX_cu2_e': 10.0, 'EX_fe2_e': 10.0, 'EX_glc__D_e': 10.0, 'EX_h2o_e': 10.0, 'EX_h_e': 10.0, 'EX_k_e': 10.0, 'EX_mg2_e': 10.0, 'EX_mn2_e': 10.0, 'EX_nh4_e': 10.0, 'EX_o2_e': 20.0, 'EX_pi_e': 10.0, 'EX_so4_e': 10.0, 'EX_urea_e': 10.0, 'EX_zn2_e': 10.0}\n"
     ]
    },
    {
     "data": {
      "text/html": [
       "<strong><em>Optimal</em> solution with objective value 0.000</strong><br><div>\n",
       "<style scoped>\n",
       "    .dataframe tbody tr th:only-of-type {\n",
       "        vertical-align: middle;\n",
       "    }\n",
       "\n",
       "    .dataframe tbody tr th {\n",
       "        vertical-align: top;\n",
       "    }\n",
       "\n",
       "    .dataframe thead th {\n",
       "        text-align: right;\n",
       "    }\n",
       "</style>\n",
       "<table border=\"1\" class=\"dataframe\">\n",
       "  <thead>\n",
       "    <tr style=\"text-align: right;\">\n",
       "      <th></th>\n",
       "      <th>fluxes</th>\n",
       "      <th>reduced_costs</th>\n",
       "    </tr>\n",
       "  </thead>\n",
       "  <tbody>\n",
       "    <tr>\n",
       "      <th>12DGR120tipp</th>\n",
       "      <td>0.0</td>\n",
       "      <td>0.000000e+00</td>\n",
       "    </tr>\n",
       "    <tr>\n",
       "      <th>12DGR140tipp</th>\n",
       "      <td>0.0</td>\n",
       "      <td>0.000000e+00</td>\n",
       "    </tr>\n",
       "    <tr>\n",
       "      <th>12DGR141tipp</th>\n",
       "      <td>0.0</td>\n",
       "      <td>0.000000e+00</td>\n",
       "    </tr>\n",
       "    <tr>\n",
       "      <th>12DGR160tipp</th>\n",
       "      <td>0.0</td>\n",
       "      <td>0.000000e+00</td>\n",
       "    </tr>\n",
       "    <tr>\n",
       "      <th>12DGR161tipp</th>\n",
       "      <td>0.0</td>\n",
       "      <td>0.000000e+00</td>\n",
       "    </tr>\n",
       "    <tr>\n",
       "      <th>...</th>\n",
       "      <td>...</td>\n",
       "      <td>...</td>\n",
       "    </tr>\n",
       "    <tr>\n",
       "      <th>EX_zn2_e</th>\n",
       "      <td>0.0</td>\n",
       "      <td>0.000000e+00</td>\n",
       "    </tr>\n",
       "    <tr>\n",
       "      <th>Growth</th>\n",
       "      <td>0.0</td>\n",
       "      <td>1.055350e-16</td>\n",
       "    </tr>\n",
       "    <tr>\n",
       "      <th>ATPM</th>\n",
       "      <td>0.0</td>\n",
       "      <td>5.009806e-18</td>\n",
       "    </tr>\n",
       "    <tr>\n",
       "      <th>APCPT</th>\n",
       "      <td>0.0</td>\n",
       "      <td>-1.261869e-30</td>\n",
       "    </tr>\n",
       "    <tr>\n",
       "      <th>APNPT</th>\n",
       "      <td>0.0</td>\n",
       "      <td>-6.309346e-31</td>\n",
       "    </tr>\n",
       "  </tbody>\n",
       "</table>\n",
       "<p>2002 rows × 2 columns</p>\n",
       "</div>"
      ],
      "text/plain": [
       "<Solution 0.000 at 0x7f9409a84fd0>"
      ]
     },
     "execution_count": 83,
     "metadata": {},
     "output_type": "execute_result"
    }
   ],
   "source": [
    "with model:\n",
    "    medium = model.medium\n",
    "    new_medium = {i: 10.0 for i in cgxlab}\n",
    "    new_medium.pop('EX_ni2_e')\n",
    "    new_medium.pop('EX_na1_e')\n",
    "    new_medium.pop('EX_34dhbz_e')\n",
    "    try:\n",
    "        if (new_medium['EX_o2_e'] == 10.0):\n",
    "            new_medium['EX_o2_e'] = 20.0\n",
    "    except KeyError:\n",
    "        print('No Oxygen Exchange Reaction')\n",
    "        pass\n",
    "    model.medium = new_medium\n",
    "    sol = model.optimize()\n",
    "    print(model.medium)\n",
    "    secretion = []\n",
    "    uptake = []\n",
    "    for index, value in sol.fluxes.items():\n",
    "        if value > 0:\n",
    "            secretion.append(index)\n",
    "        if \"EX\" in index:\n",
    "            if value < 0:\n",
    "                uptake.append(index)\n",
    "sol"
   ]
  },
  {
   "cell_type": "markdown",
   "metadata": {},
   "source": [
    "Determine unused metabolites."
   ]
  },
  {
   "cell_type": "code",
   "execution_count": 80,
   "metadata": {},
   "outputs": [
    {
     "data": {
      "text/plain": [
       "['EX_ca2_e',\n",
       " 'EX_mn2_e',\n",
       " 'EX_fe2_e',\n",
       " 'EX_glc__D_e',\n",
       " 'EX_cl_e',\n",
       " 'EX_34dhbz_e',\n",
       " 'EX_mg2_e',\n",
       " 'EX_so4_e',\n",
       " 'EX_zn2_e',\n",
       " 'EX_pi_e',\n",
       " 'EX_cu2_e',\n",
       " 'EX_btn_e',\n",
       " 'EX_ni2_e',\n",
       " 'EX_h2o_e',\n",
       " 'EX_urea_e',\n",
       " 'EX_na1_e',\n",
       " 'EX_k_e',\n",
       " 'EX_nh4_e',\n",
       " 'EX_h_e',\n",
       " 'EX_o2_e']"
      ]
     },
     "execution_count": 80,
     "metadata": {},
     "output_type": "execute_result"
    }
   ],
   "source": [
    "not_used = list(set(cgxlab)-set(uptake))"
   ]
  },
  {
   "cell_type": "code",
   "execution_count": 79,
   "metadata": {},
   "outputs": [
    {
     "data": {
      "text/plain": [
       "0.0"
      ]
     },
     "execution_count": 79,
     "metadata": {},
     "output_type": "execute_result"
    }
   ],
   "source": [
    "new = list(set(cgxlab)-set(not_used))\n",
    "with model:\n",
    "    med = model.medium\n",
    "    new_medium = {i: 10.0 for i in new}\n",
    "    new_medium['EX_o2_e'] = 20.0\n",
    "    model.medium = new_medium\n",
    "    sol = model.optimize()\n",
    "sol.objective_value"
   ]
  }
 ],
 "metadata": {
  "kernelspec": {
   "display_name": "Python 3.9.4 ('refinegems-IHVxS0TF')",
   "language": "python",
   "name": "python3"
  },
  "language_info": {
   "codemirror_mode": {
    "name": "ipython",
    "version": 3
   },
   "file_extension": ".py",
   "mimetype": "text/x-python",
   "name": "python",
   "nbconvert_exporter": "python",
   "pygments_lexer": "ipython3",
   "version": "3.9.4"
  },
  "orig_nbformat": 4,
  "vscode": {
   "interpreter": {
    "hash": "05b03929f31a3c7197b7c2cea0f190a9aa2e5c2b923ad8f41e4c618b018e4321"
   }
  }
 },
 "nbformat": 4,
 "nbformat_minor": 2
}
