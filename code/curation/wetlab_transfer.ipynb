{
 "cells": [
  {
   "attachments": {},
   "cell_type": "markdown",
   "metadata": {},
   "source": [
    "# Wetlab transfer\n",
    "Author: Famke Baeuerle\n",
    "\n",
    "This notebook serves as collection of changes to the models that came from wetlab data and expertise."
   ]
  },
  {
   "cell_type": "code",
   "execution_count": 1,
   "metadata": {},
   "outputs": [],
   "source": [
    "# imports\n",
    "import cobra\n",
    "from libsbml import *\n",
    "import refinegems as rg\n",
    "import pandas as pd"
   ]
  },
  {
   "attachments": {},
   "cell_type": "markdown",
   "metadata": {},
   "source": [
    "## Missing exchanges\n",
    "\n",
    "So far none of the models sodium uptake reactions. This makes no sense biologically and thus we will add these components to the models.\n",
    "\n",
    "Nickel, 34dhbz and biotin are also missing. We want to add exchanges for all of those and add 34dhbz as extracellular metabolite if its missing completely."
   ]
  },
  {
   "attachments": {},
   "cell_type": "markdown",
   "metadata": {},
   "source": [
    "### 1. Sodium\n",
    "\n",
    "Sodium is available as extracelullar metabolite in all models but not exchange reaction is given."
   ]
  },
  {
   "cell_type": "code",
   "execution_count": 2,
   "metadata": {},
   "outputs": [],
   "source": [
    "modelpaths = [\n",
    "        '../../models/Cstr_14.xml', \n",
    "        '../../models/Cstr_15.xml',\n",
    "        '../../models/Cstr_16.xml',\n",
    "        '../../models/Cstr_17.xml',\n",
    "        '../../models/Cstr_KC-Na-01.xml',\n",
    "        ]\n",
    "\n",
    "all_models = [rg.io.load_model_cobra(path) for path in modelpaths]"
   ]
  },
  {
   "attachments": {},
   "cell_type": "markdown",
   "metadata": {},
   "source": [
    "Look at reactions that use extracellular sodium:"
   ]
  },
  {
   "cell_type": "code",
   "execution_count": 8,
   "metadata": {},
   "outputs": [
    {
     "name": "stdout",
     "output_type": "stream",
     "text": [
      "PROt4: na1_e + pro__L_e --> na1_c + pro__L_c\n",
      "NAt3_2: 2.0 h_e + na1_c --> 2.0 h_c + na1_e\n",
      "NAabcO: atp_c + h2o_c + na1_c --> adp_c + h_c + na1_e + pi_c\n",
      "GLUt4: glu__L_e + na1_e --> glu__L_c + na1_c\n",
      "NAt3_15: 3.0 h_e + 2.0 na1_c --> 3.0 h_c + 2.0 na1_e\n",
      "MALt5: mal__L_e + na1_e --> mal__L_p + na1_p\n",
      "EX_na1_e: na1_e <=> \n",
      "ALAt4: ala__L_e + na1_e --> ala__L_c + na1_c\n",
      "NAt3_1: h_e + na1_c --> h_c + na1_e\n"
     ]
    }
   ],
   "source": [
    "for rea in all_models[4].metabolites.get_by_id('na1_e').reactions:\n",
    "    print(rea)"
   ]
  },
  {
   "cell_type": "code",
   "execution_count": 13,
   "metadata": {},
   "outputs": [
    {
     "name": "stdout",
     "output_type": "stream",
     "text": [
      "EX_na1_e already exists in fda_1054\n",
      "EX_na1_e already exists in fda_1197\n",
      "EX_na1_e already exists in fda_1115\n",
      "EX_na1_e already exists in fda_1116\n",
      "EX_na1_e already exists in KC_Na_01\n"
     ]
    }
   ],
   "source": [
    "for model in all_models:\n",
    "    try:\n",
    "        model.add_boundary(model.metabolites.get_by_id('na1_e'), type=\"exchange\")\n",
    "    except (ValueError):\n",
    "        print(f'EX_na1_e already exists in {model.id}')"
   ]
  },
  {
   "cell_type": "code",
   "execution_count": 12,
   "metadata": {},
   "outputs": [
    {
     "name": "stdout",
     "output_type": "stream",
     "text": [
      "Modified model written to ../../models/Cstr_14.xml\n",
      "Modified model written to ../../models/Cstr_15.xml\n",
      "Modified model written to ../../models/Cstr_16.xml\n",
      "Modified model written to ../../models/Cstr_17.xml\n",
      "Modified model written to ../../models/Cstr_KC-Na-01.xml\n"
     ]
    }
   ],
   "source": [
    "for model, path in zip(all_models, modelpaths):\n",
    "    cobra.io.write_sbml_model(model, path)\n",
    "    model_annot = rg.io.load_model_libsbml(path)\n",
    "    rea = model_annot.getReaction('R_EX_na1_e')\n",
    "    rg.cvterms.add_cv_term_reactions('EX_na1_e', 'BIGG', rea)\n",
    "    rg.io.write_to_file(model_annot, path)"
   ]
  }
 ],
 "metadata": {
  "kernelspec": {
   "display_name": "Python 3",
   "language": "python",
   "name": "python3"
  },
  "language_info": {
   "codemirror_mode": {
    "name": "ipython",
    "version": 3
   },
   "file_extension": ".py",
   "mimetype": "text/x-python",
   "name": "python",
   "nbconvert_exporter": "python",
   "pygments_lexer": "ipython3",
   "version": "3.9.13"
  },
  "orig_nbformat": 4,
  "vscode": {
   "interpreter": {
    "hash": "b335ed1da5a1ff03f60c6f2b8d73ad245c1a6cb27799af2b559ab4e2e6d580ce"
   }
  }
 },
 "nbformat": 4,
 "nbformat_minor": 2
}
