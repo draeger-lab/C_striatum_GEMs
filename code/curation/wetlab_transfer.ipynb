{
 "cells": [
  {
   "attachments": {},
   "cell_type": "markdown",
   "metadata": {},
   "source": [
    "# Wetlab transfer\n",
    "Author: Famke Baeuerle\n",
    "\n",
    "This notebook serves as collection of changes to the models that came from wetlab data and expertise."
   ]
  },
  {
   "cell_type": "code",
   "execution_count": null,
   "metadata": {},
   "outputs": [],
   "source": [
    "# imports\n",
    "import cobra\n",
    "from libsbml import *\n",
    "import refinegems as rg\n",
    "import pandas as pd"
   ]
  },
  {
   "attachments": {},
   "cell_type": "markdown",
   "metadata": {},
   "source": [
    "## Missing exchanges\n",
    "\n",
    "So far none of the models sodium uptake reactions. This makes no sense biologically and thus we will add these components to the models.\n",
    "\n",
    "Nickel, 34dhbz and biotin are also missing. We want to add exchanges for all of those and add 34dhbz as extracellular metabolite if its missing completely."
   ]
  },
  {
   "cell_type": "code",
   "execution_count": 37,
   "metadata": {},
   "outputs": [],
   "source": [
    "def add_and_annotate_exchange(all_models, modelpaths, metabolite):\n",
    "    for model, path in zip(all_models, modelpaths):\n",
    "        try:\n",
    "            model.add_boundary(model.metabolites.get_by_id(metabolite), type=\"exchange\")\n",
    "            cobra.io.write_sbml_model(model, path)\n",
    "            model_annot = rg.io.load_model_libsbml(path)\n",
    "            rea = model_annot.getReaction(f'R_EX_{metabolite}')\n",
    "            rg.cvterms.add_cv_term_reactions(f'EX_{metabolite}', 'BIGG', rea)\n",
    "            rg.io.write_to_file(model_annot, path)\n",
    "            print(f'EX_{metabolite} added to {model.id}.')\n",
    "        except (ValueError):\n",
    "            print(f'EX_{metabolite} already exists in {model.id}.')"
   ]
  },
  {
   "attachments": {},
   "cell_type": "markdown",
   "metadata": {},
   "source": [
    "### 1. Sodium\n",
    "\n",
    "Sodium is available as extracelullar metabolite in all models but not exchange reaction is given."
   ]
  },
  {
   "cell_type": "code",
   "execution_count": null,
   "metadata": {},
   "outputs": [],
   "source": [
    "modelpaths = [\n",
    "        '../../models/Cstr_TS.xml', \n",
    "        '../../models/Cstr_1197.xml',\n",
    "        '../../models/Cstr_1115.xml',\n",
    "        '../../models/Cstr_1116.xml',\n",
    "        '../../models/Cstr_KC-Na-01.xml',\n",
    "        ]\n",
    "\n",
    "all_models = [rg.io.load_model_cobra(path) for path in modelpaths]"
   ]
  },
  {
   "attachments": {},
   "cell_type": "markdown",
   "metadata": {},
   "source": [
    "Look at reactions that use extracellular sodium:"
   ]
  },
  {
   "cell_type": "code",
   "execution_count": null,
   "metadata": {},
   "outputs": [],
   "source": [
    "for rea in all_models[4].metabolites.get_by_id('na1_e').reactions:\n",
    "    print(rea)"
   ]
  },
  {
   "cell_type": "code",
   "execution_count": null,
   "metadata": {},
   "outputs": [],
   "source": [
    "add_and_annotate_exchange(all_models, modelpaths, 'na1_e')"
   ]
  },
  {
   "attachments": {},
   "cell_type": "markdown",
   "metadata": {},
   "source": [
    "### 2. Nickel"
   ]
  },
  {
   "cell_type": "code",
   "execution_count": 29,
   "metadata": {},
   "outputs": [
    {
     "name": "stdout",
     "output_type": "stream",
     "text": [
      "ni2_e\n",
      "ni2_e\n",
      "ni2_e\n",
      "ni2_e\n",
      "ni2_e\n"
     ]
    }
   ],
   "source": [
    "for model in all_models:\n",
    "    try:\n",
    "        print(model.metabolites.get_by_id('ni2_e'))\n",
    "    except (KeyError):\n",
    "        print(f'Not in {model.id}')"
   ]
  },
  {
   "attachments": {},
   "cell_type": "markdown",
   "metadata": {},
   "source": [
    "We need to add extracellular Nickel to the model of strain KC-Na-01."
   ]
  },
  {
   "cell_type": "code",
   "execution_count": 30,
   "metadata": {},
   "outputs": [
    {
     "data": {
      "text/html": [
       "\n",
       "        <table>\n",
       "            <tr>\n",
       "                <td><strong>Metabolite identifier</strong></td><td>ni2_e</td>\n",
       "            </tr><tr>\n",
       "                <td><strong>Name</strong></td><td>Nickel</td>\n",
       "            </tr><tr>\n",
       "                <td><strong>Memory address</strong></td>\n",
       "                <td>0x07f82a99044f0</td>\n",
       "            </tr><tr>\n",
       "                <td><strong>Formula</strong></td><td>Ni</td>\n",
       "            </tr><tr>\n",
       "                <td><strong>Compartment</strong></td><td>e</td>\n",
       "            </tr><tr>\n",
       "                <td><strong>In 3 reaction(s)</strong></td><td>\n",
       "                    NI2tex, NIabc, EX_ni2_e</td>\n",
       "            </tr>\n",
       "        </table>"
      ],
      "text/plain": [
       "<Metabolite ni2_e at 0x7f82a99044f0>"
      ]
     },
     "execution_count": 30,
     "metadata": {},
     "output_type": "execute_result"
    }
   ],
   "source": [
    "all_models[0].metabolites.get_by_id('ni2_e')"
   ]
  },
  {
   "cell_type": "code",
   "execution_count": null,
   "metadata": {},
   "outputs": [],
   "source": [
    "all_models[4]"
   ]
  },
  {
   "cell_type": "code",
   "execution_count": null,
   "metadata": {},
   "outputs": [],
   "source": [
    "ni2_e = cobra.Metabolite('ni2_e', formula='Ni', name='Nickel', compartment='e')\n",
    "all_models[4].metabolites.add(ni2_e)"
   ]
  },
  {
   "cell_type": "code",
   "execution_count": 31,
   "metadata": {},
   "outputs": [
    {
     "name": "stdout",
     "output_type": "stream",
     "text": [
      "EX_na1_e already exists in fda_1054\n",
      "EX_na1_e already exists in fda_1197\n",
      "EX_na1_e already exists in fda_1115\n",
      "EX_na1_e already exists in fda_1116\n",
      "EX_na1_e already exists in KC_Na_01\n"
     ]
    }
   ],
   "source": [
    "add_and_annotate_exchange(all_models, modelpaths, 'ni2_e')"
   ]
  },
  {
   "attachments": {},
   "cell_type": "markdown",
   "metadata": {},
   "source": [
    "### 3. Biotin"
   ]
  },
  {
   "cell_type": "code",
   "execution_count": 32,
   "metadata": {},
   "outputs": [
    {
     "name": "stdout",
     "output_type": "stream",
     "text": [
      "btn_e\n",
      "btn_e\n",
      "Not in fda_1115\n",
      "Not in fda_1116\n",
      "Not in KC_Na_01\n"
     ]
    }
   ],
   "source": [
    "for model in all_models:\n",
    "    try:\n",
    "        print(model.metabolites.get_by_id('btn_e'))\n",
    "    except (KeyError):\n",
    "        print(f'Not in {model.id}')"
   ]
  },
  {
   "attachments": {},
   "cell_type": "markdown",
   "metadata": {},
   "source": [
    "We need to add extracellular biotin to 1115 (Cstr_16), 1116 (Cstr_17) and KC-Na-01 (Cstr_KC-Na-01)."
   ]
  },
  {
   "cell_type": "code",
   "execution_count": 33,
   "metadata": {},
   "outputs": [
    {
     "data": {
      "text/html": [
       "\n",
       "        <table>\n",
       "            <tr>\n",
       "                <td><strong>Metabolite identifier</strong></td><td>btn_e</td>\n",
       "            </tr><tr>\n",
       "                <td><strong>Name</strong></td><td>Biotin</td>\n",
       "            </tr><tr>\n",
       "                <td><strong>Memory address</strong></td>\n",
       "                <td>0x07f829929af70</td>\n",
       "            </tr><tr>\n",
       "                <td><strong>Formula</strong></td><td>C10H15N2O3S</td>\n",
       "            </tr><tr>\n",
       "                <td><strong>Compartment</strong></td><td>e</td>\n",
       "            </tr><tr>\n",
       "                <td><strong>In 4 reaction(s)</strong></td><td>\n",
       "                    BTNt2i, EX_btn_e, BTNTe, BTNt</td>\n",
       "            </tr>\n",
       "        </table>"
      ],
      "text/plain": [
       "<Metabolite btn_e at 0x7f829929af70>"
      ]
     },
     "execution_count": 33,
     "metadata": {},
     "output_type": "execute_result"
    }
   ],
   "source": [
    "all_models[0].metabolites.get_by_id('btn_e')"
   ]
  },
  {
   "cell_type": "code",
   "execution_count": 35,
   "metadata": {},
   "outputs": [],
   "source": [
    "btn_e = cobra.Metabolite('btn_e', formula='C10H15N2O3S', name='Biotin', compartment='e')\n",
    "all_models[2].metabolites.add(btn_e)\n",
    "all_models[3].metabolites.add(btn_e)\n",
    "all_models[4].metabolites.add(btn_e)"
   ]
  },
  {
   "cell_type": "code",
   "execution_count": 38,
   "metadata": {},
   "outputs": [
    {
     "name": "stdout",
     "output_type": "stream",
     "text": [
      "EX_btn_e already exists in fda_1054.\n",
      "EX_btn_e already exists in fda_1197.\n",
      "EX_btn_e already exists in fda_1115.\n",
      "EX_btn_e already exists in fda_1116.\n",
      "Modified model written to ../../models/Cstr_KC-Na-01.xml\n",
      "EX_btn_e added to KC_Na_01.\n"
     ]
    }
   ],
   "source": [
    "add_and_annotate_exchange(all_models, modelpaths, 'btn_e')"
   ]
  }
 ],
 "metadata": {
  "kernelspec": {
   "display_name": "Python 3",
   "language": "python",
   "name": "python3"
  },
  "language_info": {
   "codemirror_mode": {
    "name": "ipython",
    "version": 3
   },
   "file_extension": ".py",
   "mimetype": "text/x-python",
   "name": "python",
   "nbconvert_exporter": "python",
   "pygments_lexer": "ipython3",
   "version": "3.9.13"
  },
  "orig_nbformat": 4,
  "vscode": {
   "interpreter": {
    "hash": "b335ed1da5a1ff03f60c6f2b8d73ad245c1a6cb27799af2b559ab4e2e6d580ce"
   }
  }
 },
 "nbformat": 4,
 "nbformat_minor": 2
}
