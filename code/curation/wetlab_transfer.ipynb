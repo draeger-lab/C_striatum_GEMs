{
 "cells": [
  {
   "attachments": {},
   "cell_type": "markdown",
   "metadata": {},
   "source": [
    "# Wetlab transfer\n",
    "Author: Famke Baeuerle\n",
    "\n",
    "This notebook serves as collection of changes to the models that came from wetlab data and expertise."
   ]
  },
  {
   "cell_type": "code",
   "execution_count": 1,
   "metadata": {},
   "outputs": [],
   "source": [
    "# imports\n",
    "import cobra\n",
    "from libsbml import *\n",
    "import refinegems as rg\n",
    "import pandas as pd"
   ]
  },
  {
   "attachments": {},
   "cell_type": "markdown",
   "metadata": {},
   "source": [
    "## Missing exchanges\n",
    "\n",
    "So far none of the models sodium uptake reactions. This makes no sense biologically and thus we will add these components to the models.\n",
    "\n",
    "Nickel, 34dhbz and biotin are also missing. We want to add exchanges for all of those and add 34dhbz as extracellular metabolite if its missing completely."
   ]
  },
  {
   "cell_type": "code",
   "execution_count": 34,
   "metadata": {},
   "outputs": [],
   "source": [
    "def add_exchange(all_models, modelpaths, metabolite):\n",
    "    for model, path in zip(all_models, modelpaths):\n",
    "        try:\n",
    "            model.add_boundary(model.metabolites.get_by_id(metabolite), type=\"exchange\")\n",
    "            print(f'EX_{metabolite} added to {model.id}.')\n",
    "            cobra.io.write_sbml_model(model, path)\n",
    "        except (ValueError):\n",
    "            print(f'EX_{metabolite} already exists in {model.id}.')\n",
    "            \n",
    "def annotate_exchange(modelpaths, metabolite):\n",
    "    for path in modelpaths:\n",
    "        model= rg.io.load_model_libsbml(path)\n",
    "        print(f'Synchronize annotations for all compartments for {model.getId()}')\n",
    "        model = rg.curate.update_annotations_from_others(model)\n",
    "        rea = model.getReaction(f'R_EX_{metabolite}')\n",
    "        try:\n",
    "            uri = rg.cvterms.parse_id_from_cv_term(rea, 'BIGG')\n",
    "            print(f'EX_{metabolite} is already annotated: {uri}')\n",
    "        except (AttributeError):\n",
    "            print(f'Add BiGG ID of EX_{metabolite} as CVTerm to {model.id}')\n",
    "            rg.cvterms.add_cv_term_reactions(f'EX_{metabolite}', 'BIGG', rea)\n",
    "        rg.io.write_to_file(model, path)"
   ]
  },
  {
   "attachments": {},
   "cell_type": "markdown",
   "metadata": {},
   "source": [
    "### 1. Sodium\n",
    "\n",
    "Sodium is available as extracelullar metabolite in all models but not exchange reaction is given."
   ]
  },
  {
   "cell_type": "code",
   "execution_count": 3,
   "metadata": {},
   "outputs": [],
   "source": [
    "modelpaths = [\n",
    "        '../../models/iCstr1054FB23.xml', \n",
    "        '../../models/iCstr1197FB23.xml',\n",
    "        '../../models/iCstr1115FB23.xml',\n",
    "        '../../models/iCstr1116FB23.xml',\n",
    "        '../../models/iCstrKCNa01FB23.xml',\n",
    "        ]\n",
    "\n",
    "all_models = [rg.io.load_model_cobra(path) for path in modelpaths]"
   ]
  },
  {
   "attachments": {},
   "cell_type": "markdown",
   "metadata": {},
   "source": [
    "Look at reactions that use extracellular sodium:"
   ]
  },
  {
   "cell_type": "code",
   "execution_count": 4,
   "metadata": {},
   "outputs": [
    {
     "name": "stdout",
     "output_type": "stream",
     "text": [
      "NAabcO: atp_c + h2o_c + na1_c --> adp_c + h_c + na1_e + pi_c\n",
      "NAt3_2: 2.0 h_e + na1_c --> 2.0 h_c + na1_e\n",
      "GLUt4: glu__L_e + na1_e --> glu__L_c + na1_c\n",
      "PROt4: na1_e + pro__L_e --> na1_c + pro__L_c\n",
      "ALAt4: ala__L_e + na1_e --> ala__L_c + na1_c\n",
      "NAt3_1: h_e + na1_c --> h_c + na1_e\n",
      "EX_na1_e: na1_e <=> \n",
      "MALt5: mal__L_e + na1_e --> mal__L_p + na1_p\n",
      "NAt3_15: 3.0 h_e + 2.0 na1_c --> 3.0 h_c + 2.0 na1_e\n"
     ]
    }
   ],
   "source": [
    "for rea in all_models[4].metabolites.get_by_id('na1_e').reactions:\n",
    "    print(rea)"
   ]
  },
  {
   "cell_type": "code",
   "execution_count": 5,
   "metadata": {},
   "outputs": [
    {
     "name": "stdout",
     "output_type": "stream",
     "text": [
      "The metabolite na1_e is in iCstr1054FB23\n",
      "The metabolite na1_e is in iCstr1197FB23\n",
      "The metabolite na1_e is in iCstr1115FB23\n",
      "The metabolite na1_e is in iCstr1116FB23\n",
      "The metabolite na1_e is in KC_Na_01\n"
     ]
    }
   ],
   "source": [
    "for model in all_models:\n",
    "    try:\n",
    "        met = model.metabolites.get_by_id('na1_e')\n",
    "        print(f'The metabolite {met} is in {model.id}')\n",
    "    except (KeyError):\n",
    "        print(f'Not in {model.id}')"
   ]
  },
  {
   "cell_type": "code",
   "execution_count": 21,
   "metadata": {},
   "outputs": [
    {
     "name": "stdout",
     "output_type": "stream",
     "text": [
      "Synchronize annotations for all compartments for iCstr1054FB23\n",
      "Add BiGG ID of EX_na1_e as CVTerm to iCstr1054FB23\n",
      "Modified model written to ../../models/iCstr1054FB23.xml\n",
      "Synchronize annotations for all compartments for iCstr1197FB23\n",
      "Add BiGG ID of EX_na1_e as CVTerm to iCstr1197FB23\n",
      "Modified model written to ../../models/iCstr1197FB23.xml\n",
      "Synchronize annotations for all compartments for iCstr1115FB23\n",
      "Add BiGG ID of EX_na1_e as CVTerm to iCstr1115FB23\n",
      "Modified model written to ../../models/iCstr1115FB23.xml\n",
      "Synchronize annotations for all compartments for iCstr1116FB23\n",
      "Add BiGG ID of EX_na1_e as CVTerm to iCstr1116FB23\n",
      "Modified model written to ../../models/iCstr1116FB23.xml\n",
      "Synchronize annotations for all compartments for KC_Na_01\n",
      "Add BiGG ID of EX_na1_e as CVTerm to KC_Na_01\n",
      "Modified model written to ../../models/iCstrKCNa01FB23.xml\n"
     ]
    }
   ],
   "source": [
    "add_exchange(all_models, modelpaths, 'na1_e')\n",
    "annotate_exchange(modelpaths, 'na1_e')"
   ]
  },
  {
   "attachments": {},
   "cell_type": "markdown",
   "metadata": {},
   "source": [
    "### 2. Nickel"
   ]
  },
  {
   "cell_type": "code",
   "execution_count": null,
   "metadata": {},
   "outputs": [],
   "source": [
    "for model in all_models:\n",
    "    try:\n",
    "        met = model.metabolites.get_by_id('ni2_e')\n",
    "        print(f'The metabolite {met} is in {model.id}')\n",
    "    except (KeyError):\n",
    "        print(f'Not in {model.id}')"
   ]
  },
  {
   "attachments": {},
   "cell_type": "markdown",
   "metadata": {},
   "source": [
    "We need to add extracellular Nickel to the model of strain iCstrKCNa01FB23."
   ]
  },
  {
   "cell_type": "code",
   "execution_count": null,
   "metadata": {},
   "outputs": [],
   "source": [
    "all_models[0].metabolites.get_by_id('ni2_e')"
   ]
  },
  {
   "cell_type": "code",
   "execution_count": null,
   "metadata": {},
   "outputs": [],
   "source": [
    "all_models[4]"
   ]
  },
  {
   "cell_type": "code",
   "execution_count": null,
   "metadata": {},
   "outputs": [],
   "source": [
    "ni2_e = cobra.Metabolite('ni2_e', formula='Ni', name='Nickel', compartment='e', )\n",
    "#all_models[4].metabolites.add(ni2_e)"
   ]
  },
  {
   "cell_type": "code",
   "execution_count": 35,
   "metadata": {},
   "outputs": [
    {
     "name": "stdout",
     "output_type": "stream",
     "text": [
      "EX_ni2_e already exists in iCstr1054FB23.\n",
      "EX_ni2_e already exists in iCstr1197FB23.\n",
      "EX_ni2_e already exists in iCstr1115FB23.\n",
      "EX_ni2_e already exists in iCstr1116FB23.\n",
      "EX_ni2_e already exists in KC_Na_01.\n",
      "Synchronize annotations for all compartments for iCstr1054FB23\n",
      "Add BiGG ID of EX_ni2_e as CVTerm to iCstr1054FB23\n",
      "Modified model written to ../../models/iCstr1054FB23.xml\n",
      "Synchronize annotations for all compartments for iCstr1197FB23\n",
      "Add BiGG ID of EX_ni2_e as CVTerm to iCstr1197FB23\n",
      "Modified model written to ../../models/iCstr1197FB23.xml\n",
      "Synchronize annotations for all compartments for iCstr1115FB23\n",
      "Add BiGG ID of EX_ni2_e as CVTerm to iCstr1115FB23\n",
      "Modified model written to ../../models/iCstr1115FB23.xml\n",
      "Synchronize annotations for all compartments for iCstr1116FB23\n",
      "Add BiGG ID of EX_ni2_e as CVTerm to iCstr1116FB23\n",
      "Modified model written to ../../models/iCstr1116FB23.xml\n",
      "Synchronize annotations for all compartments for KC_Na_01\n",
      "Add BiGG ID of EX_ni2_e as CVTerm to KC_Na_01\n",
      "Modified model written to ../../models/iCstrKCNa01FB23.xml\n"
     ]
    }
   ],
   "source": [
    "add_exchange(all_models, modelpaths, 'ni2_e')\n",
    "annotate_exchange(modelpaths, 'ni2_e')"
   ]
  },
  {
   "attachments": {},
   "cell_type": "markdown",
   "metadata": {},
   "source": [
    "### 3. Biotin"
   ]
  },
  {
   "cell_type": "code",
   "execution_count": null,
   "metadata": {},
   "outputs": [],
   "source": [
    "for model in all_models:\n",
    "    try:\n",
    "        met = model.metabolites.get_by_id('btn_e')\n",
    "        print(f'The metabolite {met} is in {model.id}')\n",
    "    except (KeyError):\n",
    "        print(f'Not in {model.id}')"
   ]
  },
  {
   "attachments": {},
   "cell_type": "markdown",
   "metadata": {},
   "source": [
    "We need to add extracellular biotin to 1115 (Cstr_16), 1116 (Cstr_17) and iCstrKCNa01FB23 (Cstr_iCstrKCNa01FB23)."
   ]
  },
  {
   "cell_type": "code",
   "execution_count": null,
   "metadata": {},
   "outputs": [],
   "source": [
    "all_models[0].metabolites.get_by_id('btn_e')"
   ]
  },
  {
   "cell_type": "code",
   "execution_count": null,
   "metadata": {},
   "outputs": [],
   "source": [
    "btn_e = cobra.Metabolite('btn_e', formula='C10H15N2O3S', name='Biotin', compartment='e')\n",
    "#all_models[2].metabolites.add(btn_e)\n",
    "#all_models[3].metabolites.add(btn_e)\n",
    "#all_models[4].metabolites.add(btn_e)"
   ]
  },
  {
   "cell_type": "code",
   "execution_count": 24,
   "metadata": {},
   "outputs": [
    {
     "name": "stdout",
     "output_type": "stream",
     "text": [
      "EX_btn_e already exists in iCstr1054FB23.\n",
      "EX_btn_e already exists in iCstr1197FB23.\n",
      "EX_btn_e already exists in iCstr1115FB23.\n",
      "EX_btn_e already exists in iCstr1116FB23.\n",
      "EX_btn_e already exists in KC_Na_01.\n",
      "Synchronize annotations for all compartments for iCstr1054FB23\n",
      "Add BiGG ID of EX_btn_e as CVTerm to iCstr1054FB23\n",
      "Modified model written to ../../models/iCstr1054FB23.xml\n",
      "Synchronize annotations for all compartments for iCstr1197FB23\n",
      "Add BiGG ID of EX_btn_e as CVTerm to iCstr1197FB23\n",
      "Modified model written to ../../models/iCstr1197FB23.xml\n",
      "Synchronize annotations for all compartments for iCstr1115FB23\n",
      "Add BiGG ID of EX_btn_e as CVTerm to iCstr1115FB23\n",
      "Modified model written to ../../models/iCstr1115FB23.xml\n",
      "Synchronize annotations for all compartments for iCstr1116FB23\n",
      "Add BiGG ID of EX_btn_e as CVTerm to iCstr1116FB23\n",
      "Modified model written to ../../models/iCstr1116FB23.xml\n",
      "Synchronize annotations for all compartments for KC_Na_01\n",
      "Add BiGG ID of EX_btn_e as CVTerm to KC_Na_01\n",
      "Modified model written to ../../models/iCstrKCNa01FB23.xml\n"
     ]
    }
   ],
   "source": [
    "add_exchange(all_models, modelpaths, 'btn_e')\n",
    "annotate_exchange(modelpaths, 'btn_e')"
   ]
  },
  {
   "attachments": {},
   "cell_type": "markdown",
   "metadata": {},
   "source": [
    "### 4. Protocatechuic acid / 3,4-Dihydroxybenzoate\n",
    "Is a carbon source for *C. glutamicum*. Is present in the model of the type strain `iCGB21FR.xml` described [here](https://www.frontiersin.org/articles/10.3389/fmicb.2021.750206/full)."
   ]
  },
  {
   "cell_type": "code",
   "execution_count": 36,
   "metadata": {},
   "outputs": [
    {
     "name": "stderr",
     "output_type": "stream",
     "text": [
      "SBML package 'layout' not supported by cobrapy, information is not parsed\n",
      "https://juser.fz-juelich.de/record/188973 does not conform to 'http(s)://identifiers.org/collection/id' or'http(s)://identifiers.org/COLLECTION:id\n"
     ]
    },
    {
     "data": {
      "text/html": [
       "\n",
       "        <table>\n",
       "            <tr>\n",
       "                <td><strong>Metabolite identifier</strong></td><td>34dhbz_c</td>\n",
       "            </tr><tr>\n",
       "                <td><strong>Name</strong></td><td>3,4-Dihydroxybenzoate</td>\n",
       "            </tr><tr>\n",
       "                <td><strong>Memory address</strong></td>\n",
       "                <td>0x07fda82743f40</td>\n",
       "            </tr><tr>\n",
       "                <td><strong>Formula</strong></td><td>C7H5O4</td>\n",
       "            </tr><tr>\n",
       "                <td><strong>Compartment</strong></td><td>c</td>\n",
       "            </tr><tr>\n",
       "                <td><strong>In 5 reaction(s)</strong></td><td>\n",
       "                    VNTDM, 4HBHYOX, 3_4DHBZt2, PCADYOX, DHSKDH</td>\n",
       "            </tr>\n",
       "        </table>"
      ],
      "text/plain": [
       "<Metabolite 34dhbz_c at 0x7fda82743f40>"
      ]
     },
     "execution_count": 36,
     "metadata": {},
     "output_type": "execute_result"
    }
   ],
   "source": [
    "mod = rg.io.load_model_cobra('/Users/baeuerle/Organisation/Masterarbeit/Nextcloud/Examples/iCGB21FR/iCGB21FR.xml')\n",
    "mod.metabolites.get_by_id('34dhbz_c')\n",
    "#mod.reactions.get_by_id('3_4DHBZt2')"
   ]
  },
  {
   "cell_type": "code",
   "execution_count": null,
   "metadata": {},
   "outputs": [],
   "source": [
    "for model in all_models:\n",
    "    try:\n",
    "        met = model.metabolites.get_by_id('34dhbz_e')\n",
    "        print(f'The metabolite {met} is in {model.id}')\n",
    "    except (KeyError):\n",
    "        print(f'Not in {model.id}')"
   ]
  },
  {
   "cell_type": "code",
   "execution_count": null,
   "metadata": {},
   "outputs": [],
   "source": [
    "all_models[4].metabolites.get_by_id('34dhbz_e')"
   ]
  },
  {
   "cell_type": "code",
   "execution_count": null,
   "metadata": {},
   "outputs": [],
   "source": [
    "pca_e = cobra.Metabolite('34dhbz_e', formula='C7H5O4', name='3,4-Dihydroxybenzoate / Protocatechuic acid', compartment='e')\n",
    "#for i in [0,1,2,3]:\n",
    "#    all_models[i].metabolites.add(pca_e)"
   ]
  },
  {
   "cell_type": "code",
   "execution_count": 25,
   "metadata": {},
   "outputs": [
    {
     "name": "stdout",
     "output_type": "stream",
     "text": [
      "EX_34dhbz_e already exists in iCstr1054FB23.\n",
      "EX_34dhbz_e already exists in iCstr1197FB23.\n",
      "EX_34dhbz_e already exists in iCstr1115FB23.\n",
      "EX_34dhbz_e already exists in iCstr1116FB23.\n",
      "EX_34dhbz_e already exists in KC_Na_01.\n",
      "Synchronize annotations for all compartments for iCstr1054FB23\n",
      "Add BiGG ID of EX_34dhbz_e as CVTerm to iCstr1054FB23\n",
      "Modified model written to ../../models/iCstr1054FB23.xml\n",
      "Synchronize annotations for all compartments for iCstr1197FB23\n",
      "Add BiGG ID of EX_34dhbz_e as CVTerm to iCstr1197FB23\n",
      "Modified model written to ../../models/iCstr1197FB23.xml\n",
      "Synchronize annotations for all compartments for iCstr1115FB23\n",
      "Add BiGG ID of EX_34dhbz_e as CVTerm to iCstr1115FB23\n",
      "Modified model written to ../../models/iCstr1115FB23.xml\n",
      "Synchronize annotations for all compartments for iCstr1116FB23\n",
      "Add BiGG ID of EX_34dhbz_e as CVTerm to iCstr1116FB23\n",
      "Modified model written to ../../models/iCstr1116FB23.xml\n",
      "Synchronize annotations for all compartments for KC_Na_01\n",
      "Add BiGG ID of EX_34dhbz_e as CVTerm to KC_Na_01\n",
      "Modified model written to ../../models/iCstrKCNa01FB23.xml\n"
     ]
    }
   ],
   "source": [
    "add_exchange(all_models, modelpaths, '34dhbz_e')\n",
    "annotate_exchange(modelpaths, '34dhbz_e')"
   ]
  },
  {
   "attachments": {},
   "cell_type": "markdown",
   "metadata": {},
   "source": [
    "### Set SBO terms for all newly added metabolites"
   ]
  },
  {
   "cell_type": "code",
   "execution_count": 33,
   "metadata": {},
   "outputs": [
    {
     "name": "stdout",
     "output_type": "stream",
     "text": [
      "Modified model written to ../../models/iCstr1054FB23.xml\n",
      "Modified model written to ../../models/iCstr1197FB23.xml\n",
      "Modified model written to ../../models/iCstr1115FB23.xml\n",
      "Modified model written to ../../models/iCstr1116FB23.xml\n",
      "Modified model written to ../../models/iCstrKCNa01FB23.xml\n"
     ]
    }
   ],
   "source": [
    "for path in modelpaths:\n",
    "    model = rg.io.load_model_libsbml(path)\n",
    "    rg.sboann.addSBOforMetabolites(model)\n",
    "    rg.io.write_to_file(model, path)"
   ]
  }
 ],
 "metadata": {
  "kernelspec": {
   "display_name": "Python 3",
   "language": "python",
   "name": "python3"
  },
  "language_info": {
   "codemirror_mode": {
    "name": "ipython",
    "version": 3
   },
   "file_extension": ".py",
   "mimetype": "text/x-python",
   "name": "python",
   "nbconvert_exporter": "python",
   "pygments_lexer": "ipython3",
   "version": "3.9.13 (main, Oct 13 2022, 16:12:30) \n[Clang 12.0.0 ]"
  },
  "orig_nbformat": 4,
  "vscode": {
   "interpreter": {
    "hash": "b335ed1da5a1ff03f60c6f2b8d73ad245c1a6cb27799af2b559ab4e2e6d580ce"
   }
  }
 },
 "nbformat": 4,
 "nbformat_minor": 2
}
