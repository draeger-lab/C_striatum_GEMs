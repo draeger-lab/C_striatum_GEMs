{
 "cells": [
  {
   "attachments": {},
   "cell_type": "markdown",
   "metadata": {},
   "source": [
    "# Wetlab transfer\n",
    "Author: Famke Baeuerle\n",
    "\n",
    "This notebook serves as collection of changes to the models that came from wetlab data and expertise."
   ]
  },
  {
   "cell_type": "code",
   "execution_count": 1,
   "metadata": {},
   "outputs": [
    {
     "name": "stderr",
     "output_type": "stream",
     "text": [
      "CPLEX is available but could not load with error:\n",
      "  Traceback (most recent call last):\n",
      "    File \"/Users/baeuerle/Library/Python/3.9/lib/python/site-packages/optlang/__init__.py\", line 43, in <module>\n",
      "      from optlang import cplex_interface\n",
      "    File \"/Users/baeuerle/Library/Python/3.9/lib/python/site-packages/optlang/cplex_interface.py\", line 32, in <module>\n",
      "      from cplex.exceptions import CplexSolverError\n",
      "  ModuleNotFoundError: No module named 'cplex.exceptions'\n"
     ]
    }
   ],
   "source": [
    "# imports\n",
    "import cobra\n",
    "from libsbml import *\n",
    "import refinegems as rg\n",
    "import pandas as pd"
   ]
  },
  {
   "cell_type": "markdown",
   "metadata": {},
   "source": [
    "## 1. Sodium transport\n",
    "\n",
    "So far none of the models sodium uptake reactions. This makes no sense biologically and thus we will add these components to the models."
   ]
  },
  {
   "cell_type": "code",
   "execution_count": 40,
   "metadata": {},
   "outputs": [],
   "source": [
    "path = '../models/Cstr_KC-Na-01.xml'\n",
    "model = rg.load.load_model_cobra(path)"
   ]
  },
  {
   "cell_type": "code",
   "execution_count": 41,
   "metadata": {},
   "outputs": [
    {
     "name": "stdout",
     "output_type": "stream",
     "text": [
      "NAt3_2: 2.0 h_e + na1_c --> 2.0 h_c + na1_e\n",
      "ALAt4: ala__L_e + na1_e --> ala__L_c + na1_c\n",
      "NAt3_15: 3.0 h_e + 2.0 na1_c --> 3.0 h_c + 2.0 na1_e\n",
      "NAabcO: atp_c + h2o_c + na1_c --> adp_c + h_c + na1_e + pi_c\n",
      "GLUt4: glu__L_e + na1_e --> glu__L_c + na1_c\n",
      "PROt4: na1_e + pro__L_e --> na1_c + pro__L_c\n",
      "NAt3_1: h_e + na1_c --> h_c + na1_e\n",
      "MALt5: mal__L_e + na1_e --> mal__L_p + na1_p\n"
     ]
    }
   ],
   "source": [
    "for rea in model.metabolites.get_by_id('na1_e').reactions:\n",
    "    print(rea)"
   ]
  },
  {
   "cell_type": "code",
   "execution_count": 42,
   "metadata": {},
   "outputs": [
    {
     "data": {
      "text/html": [
       "\n",
       "        <table>\n",
       "            <tr>\n",
       "                <td><strong>Reaction identifier</strong></td><td>EX_na1_e</td>\n",
       "            </tr><tr>\n",
       "                <td><strong>Name</strong></td><td>Sodium exchange</td>\n",
       "            </tr><tr>\n",
       "                <td><strong>Memory address</strong></td>\n",
       "                <td>0x07fc7b146ee80</td>\n",
       "            </tr><tr>\n",
       "                <td><strong>Stoichiometry</strong></td>\n",
       "                <td>\n",
       "                    <p style='text-align:right'>na1_e <=></p>\n",
       "                    <p style='text-align:right'>Sodium <=></p>\n",
       "                </td>\n",
       "            </tr><tr>\n",
       "                <td><strong>GPR</strong></td><td></td>\n",
       "            </tr><tr>\n",
       "                <td><strong>Lower bound</strong></td><td>-1000.0</td>\n",
       "            </tr><tr>\n",
       "                <td><strong>Upper bound</strong></td><td>1000.0</td>\n",
       "            </tr>\n",
       "        </table>\n",
       "        "
      ],
      "text/plain": [
       "<Reaction EX_na1_e at 0x7fc7b146ee80>"
      ]
     },
     "execution_count": 42,
     "metadata": {},
     "output_type": "execute_result"
    }
   ],
   "source": [
    "model.add_boundary(model.metabolites.get_by_id('na1_e'), type=\"exchange\")"
   ]
  },
  {
   "cell_type": "code",
   "execution_count": 43,
   "metadata": {},
   "outputs": [],
   "source": [
    "cobra.io.write_sbml_model(model, path)"
   ]
  },
  {
   "cell_type": "code",
   "execution_count": 44,
   "metadata": {},
   "outputs": [],
   "source": [
    "model = rg.load.load_model_libsbml(path)"
   ]
  },
  {
   "cell_type": "code",
   "execution_count": 45,
   "metadata": {},
   "outputs": [
    {
     "name": "stdout",
     "output_type": "stream",
     "text": [
      "Modified model written to ../models/Cstr_KC-Na-01.xml\n"
     ]
    }
   ],
   "source": [
    "rea = model.getReaction('R_EX_na1_e')\n",
    "rg.cvterms.add_cv_term_reactions('EX_na1_e', 'BIGG', rea)\n",
    "rg.load.write_to_file(model, path)"
   ]
  }
 ],
 "metadata": {
  "kernelspec": {
   "display_name": "refinegems-IHVxS0TF",
   "language": "python",
   "name": "python3"
  },
  "language_info": {
   "codemirror_mode": {
    "name": "ipython",
    "version": 3
   },
   "file_extension": ".py",
   "mimetype": "text/x-python",
   "name": "python",
   "nbconvert_exporter": "python",
   "pygments_lexer": "ipython3",
   "version": "3.9.4 (v3.9.4:1f2e3088f3, Apr  4 2021, 12:32:44) \n[Clang 6.0 (clang-600.0.57)]"
  },
  "orig_nbformat": 4,
  "vscode": {
   "interpreter": {
    "hash": "05b03929f31a3c7197b7c2cea0f190a9aa2e5c2b923ad8f41e4c618b018e4321"
   }
  }
 },
 "nbformat": 4,
 "nbformat_minor": 2
}
