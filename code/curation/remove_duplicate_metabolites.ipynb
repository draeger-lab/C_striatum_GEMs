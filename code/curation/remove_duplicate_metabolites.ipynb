{
 "cells": [
  {
   "attachments": {},
   "cell_type": "markdown",
   "metadata": {},
   "source": [
    "# Remove duplicate metabolites\n",
    "Author: Famke Baeuerle\n",
    "\n",
    "With automated drafting from the BiGG database using CarveMe, sometimes metabolites are added twice with different identifiers. Here we denoted which metabolites were removed and consequently replaced (if needed) in the occuring reactions. The replacement was done if needed by search-and-replace in the respective model XML files. \n",
    "\n",
    "Note: This notebook will not work on the current model files since they do not hold these duplicates anymore."
   ]
  },
  {
   "cell_type": "code",
   "execution_count": null,
   "metadata": {},
   "outputs": [],
   "source": [
    "import refinegems as rg\n",
    "from cobra.io import write_sbml_model"
   ]
  },
  {
   "attachments": {},
   "cell_type": "markdown",
   "metadata": {},
   "source": [
    "We use the type strain model as starting point:"
   ]
  },
  {
   "cell_type": "code",
   "execution_count": null,
   "metadata": {},
   "outputs": [],
   "source": [
    "model = rg.io.load_model_cobra('../../models/iCstr1054FB23.xml')"
   ]
  },
  {
   "attachments": {},
   "cell_type": "markdown",
   "metadata": {},
   "source": [
    "## Example: replace `gly_cys__L` by `cgly`\n",
    "\n",
    "`cgly` was the better annotated metabolite"
   ]
  },
  {
   "cell_type": "code",
   "execution_count": null,
   "metadata": {},
   "outputs": [],
   "source": [
    "cgly = list(model.metabolites.get_by_id('cgly_c').reactions)\n",
    "glycys = list(model.metabolites.get_by_id('gly_cys__L_c').reactions)"
   ]
  },
  {
   "cell_type": "code",
   "execution_count": null,
   "metadata": {},
   "outputs": [],
   "source": [
    "for rea in cgly:\n",
    "    print(rea)\n",
    "print('---')\n",
    "for rea in glycys:\n",
    "    print(rea)"
   ]
  },
  {
   "cell_type": "code",
   "execution_count": null,
   "metadata": {},
   "outputs": [],
   "source": [
    "cgly = list(model.metabolites.get_by_id('cgly_e').reactions)\n",
    "glycys = list(model.metabolites.get_by_id('gly_cys__L_e').reactions)"
   ]
  },
  {
   "cell_type": "code",
   "execution_count": null,
   "metadata": {},
   "outputs": [],
   "source": [
    "for rea in cgly:\n",
    "    print(rea)\n",
    "print('---')\n",
    "for rea in glycys:\n",
    "    print(rea)"
   ]
  },
  {
   "attachments": {},
   "cell_type": "markdown",
   "metadata": {},
   "source": [
    "Now we remove 'gly_cys__L_c' and 'gly_cys__L_e' from all models. We also remove the respective exchange reaction 'EX_gly_cys__L_e' and two reactions that held the same metabolites 'GLYCYSAP' and 'GLYCYSabc'."
   ]
  },
  {
   "cell_type": "code",
   "execution_count": null,
   "metadata": {},
   "outputs": [],
   "source": [
    "modelpaths_to_change = ['../models/iCstr1054FB23.xml', '../models/iCstr1197FB23.xml', '../models/iCstr1115FB23.xml', '../models/iCstr1116FB23.xml']\n",
    "for mod in modelpaths_to_change:\n",
    "    model = rg.io.load_model_cobra(mod)\n",
    "    print(model.metabolites.get_by_id('cgly_c'))\n",
    "    print(model.metabolites.get_by_id('cgly_e'))\n",
    "    model.metabolites.get_by_id('gly_cys__L_c').remove_from_model()\n",
    "    model.metabolites.get_by_id('gly_cys__L_e').remove_from_model()\n",
    "    model.reactions.get_by_id('GLYCYSAP').remove_from_model()\n",
    "    model.reactions.get_by_id('GLYCYSabc').remove_from_model()\n",
    "    model.reactions.get_by_id('EX_gly_cys__L_e').remove_from_model()\n",
    "    write_sbml_model(model, mod)"
   ]
  },
  {
   "attachments": {},
   "cell_type": "markdown",
   "metadata": {},
   "source": [
    "## Changes to metabolite identifiers\n",
    "\n",
    "The following metabolite identifiers were changed to obtain the better annotated identifier. Changes were done by search-and-replace in the XML files. Duplicates were removed as shown above.\n",
    "\n",
    "| **old id**  | **new id**  | **removed duplicates** | **strain** |\n",
    "|------------------|------------------|-----------------------------|-----------------|\n",
    "| trans\\_dd2coa    | dd2coa           |                             | 14, 17          |\n",
    "| ala\\_gln         | ala\\_L\\_gln\\_\\_L |                             | all             |\n",
    "| gly\\_gln         | gly\\_gln\\_\\_L    |                             | all             |\n",
    "| alathr           | ala\\_L\\_Thr\\_\\_L |                             | all             |\n",
    "| alaleu, ala\\_leu | ala\\_L\\_leu\\_\\_L | \\_c, \\_e, EX                | all             |\n",
    "| ala\\_his         | ala\\_L\\_his\\_\\_L |                             | all             |\n",
    "| cresol           | 4crsol           |                             | 15, 16, 17      |\n",
    "| lgt\\_s           | lgt\\_\\_S         |                             | all             |\n",
    "| gly\\_phe         | gly\\_phe\\_\\_L    |                             | all             |\n",
    "| gly\\_tyr         | gly\\_tyr\\_\\_L    |                             | all             |\n",
    "| gly\\_met         | gly\\_met\\_\\_L    |                             | all             |\n",
    "| gly\\_leu         | gly\\_leu\\_\\_L    |                             | all             |\n",
    "| gly\\_cys         | gly\\_cys\\_\\_L    |                             | all             |\n",
    "| tmam             | tma              |                             | 14              |\n",
    "| orn              | orn\\_\\_L         | \\_c                         | all             |\n",
    "| 3hbycoa          | 3hbcoa           | \\_c                         | all             |\n",
    "| glcn             | glcn\\_\\_D        | \\_c, \\_e, EX                | all             |\n",
    "| glyphe           | gly\\_phe\\_\\_L    | \\_c, \\_e, EX                | all             |\n",
    "| abt              | abt\\_\\_L         | \\_c, \\_e, EX                | 15              |\n",
    "| metox            | metsox\\_S\\_\\_L   | \\_c, \\_e, EX                | 14              |"
   ]
  }
 ],
 "metadata": {
  "kernelspec": {
   "display_name": "Python 3",
   "language": "python",
   "name": "python3"
  },
  "language_info": {
   "codemirror_mode": {
    "name": "ipython",
    "version": 3
   },
   "file_extension": ".py",
   "mimetype": "text/x-python",
   "name": "python",
   "nbconvert_exporter": "python",
   "pygments_lexer": "ipython3",
   "version": "3.9.4"
  },
  "orig_nbformat": 4,
  "vscode": {
   "interpreter": {
    "hash": "aee8b7b246df8f9039afb4144a1f6fd8d2ca17a180786b69acc140d282b71a49"
   }
  }
 },
 "nbformat": 4,
 "nbformat_minor": 2
}
