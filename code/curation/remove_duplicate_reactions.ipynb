{
 "cells": [
  {
   "attachments": {},
   "cell_type": "markdown",
   "metadata": {},
   "source": [
    "# Remove duplicate reactions\n",
    "Author: Famke Baeuerle\n",
    "\n",
    "With automated drafting from the BiGG database using CarveMe, sometimes reactions are added twice with different identifiers. Here we denoted which reactions were removed.\n",
    "\n",
    "Note: This notebook will not work on the current model files since they do not hold these duplicates anymore."
   ]
  },
  {
   "cell_type": "code",
   "execution_count": null,
   "metadata": {},
   "outputs": [],
   "source": [
    "from refinegems.io import load_model_libsbml, load_model_cobra\n",
    "from numpy import NaN\n",
    "from libsbml import writeSBMLToFile\n",
    "from cobra.io import write_sbml_model"
   ]
  },
  {
   "attachments": {},
   "cell_type": "markdown",
   "metadata": {},
   "source": [
    "## Remove duplicates found with MEMOTE\n",
    "\n",
    "We denote in lists which reactions to remove. Each of those has a reaction with the same reactants, products and direction which will stay in the models."
   ]
  },
  {
   "cell_type": "code",
   "execution_count": null,
   "metadata": {},
   "outputs": [],
   "source": [
    "sids_all = ['R_GLCNt2ir', 'R_ARGDI', 'R_ECOAH5_1', 'R_HACD1_1']\n",
    "sids_17 = ['R_ECOAH5_1', 'R_ORNTAC_1', 'R_PPRGL']\n",
    "sids_14 = ['R_ECOAH5_1', 'R_GLYCS_I', 'R_METSOX1abc']\n",
    "sids_15 = ['R_GLYCS_I', 'R_ABTt_1']\n",
    "sids_16 = ['OCBT_1']"
   ]
  },
  {
   "cell_type": "code",
   "execution_count": null,
   "metadata": {},
   "outputs": [],
   "source": [
    "def remove_duplicates(reac, sids):\n",
    "    for sid in sids:\n",
    "        if reac.getElementBySId(sid) is not None:\n",
    "            print(str(reac.getElementBySId(sid)) + ' found.')\n",
    "            reac.remove(sid)\n",
    "            print(sid + ' removed.')"
   ]
  },
  {
   "cell_type": "code",
   "execution_count": null,
   "metadata": {},
   "outputs": [],
   "source": [
    "mod_14 = load_model_libsbml('../../models/Cstr_TS.xml')\n",
    "reac_14 = mod_14.getListOfReactions()\n",
    "mod_15 = load_model_libsbml('../../models/Cstr_1197.xml')\n",
    "reac_15 = mod_15.getListOfReactions()\n",
    "mod_16 = load_model_libsbml('../../models/Cstr_1115.xml')\n",
    "reac_16 = mod_16.getListOfReactions()\n",
    "mod_17 = load_model_libsbml('../../models/Cstr_1116.xml')\n",
    "reac_17 = mod_17.getListOfReactions()"
   ]
  },
  {
   "cell_type": "code",
   "execution_count": null,
   "metadata": {},
   "outputs": [],
   "source": [
    "remove_duplicates(reac_14, sids_all)\n",
    "remove_duplicates(reac_14, sids_14)\n",
    "remove_duplicates(reac_15, sids_all)\n",
    "remove_duplicates(reac_15, sids_15)\n",
    "remove_duplicates(reac_16, sids_all)\n",
    "remove_duplicates(reac_16, sids_16)\n",
    "remove_duplicates(reac_17, sids_all)\n",
    "remove_duplicates(reac_17, sids_17)"
   ]
  },
  {
   "cell_type": "code",
   "execution_count": null,
   "metadata": {},
   "outputs": [],
   "source": [
    "writeSBMLToFile(mod_14.getSBMLDocument(),'../../models/Cstr_TS.xml')\n",
    "writeSBMLToFile(mod_15.getSBMLDocument(),'../../models/Cstr_1197.xml')\n",
    "writeSBMLToFile(mod_16.getSBMLDocument(),'../../models/Cstr_1115.xml')\n",
    "writeSBMLToFile(mod_17.getSBMLDocument(),'../../models/Cstr_1116.xml')"
   ]
  },
  {
   "attachments": {},
   "cell_type": "markdown",
   "metadata": {},
   "source": [
    "## Remove duplicates found during manual curation\n",
    "\n",
    "Some reactions occured twice in the models, the duplicate being the same reaction but with a trailing `_1` in the ID."
   ]
  },
  {
   "cell_type": "code",
   "execution_count": null,
   "metadata": {},
   "outputs": [],
   "source": [
    "modelpaths_to_change = ['../../models/Cstr_TS.xml', '../../models/Cstr_1197.xml', '../../models/Cstr_1115.xml', '../../models/Cstr_1116.xml']\n",
    "for mod in modelpaths_to_change:\n",
    "    model = load_model_cobra(mod)\n",
    "    try:\n",
    "        model.reactions.get_by_id('PNCDC_1').remove_from_model()\n",
    "        model.reactions.get_by_id('NP1_1').remove_from_model()\n",
    "        model.reactions.get_by_id('NADDPp_1').remove_from_model()\n",
    "    except (KeyError):\n",
    "        print('not in model')\n",
    "    write_sbml_model(model, mod)"
   ]
  },
  {
   "attachments": {},
   "cell_type": "markdown",
   "metadata": {},
   "source": [
    "## Remove duplicates found with metabolic maps\n",
    "\n",
    "After drawing escher maps (denoted in `./escher/`) overlap of reactions was visible. These are removed here."
   ]
  },
  {
   "cell_type": "code",
   "execution_count": null,
   "metadata": {},
   "outputs": [],
   "source": [
    "modelpaths_to_change = ['../../models/Cstr_TS.xml', '../../models/Cstr_1197.xml', '../../models/Cstr_1115.xml', '../../models/Cstr_1116.xml']\n",
    "for mod in modelpaths_to_change:\n",
    "    model = load_model_cobra(mod)\n",
    "    print(model.reactions.get_by_id('GNKr'))\n",
    "    try:\n",
    "        model.reactions.get_by_id('GNK').remove_from_model()\n",
    "    except (KeyError):\n",
    "        print('not in model')\n",
    "    write_sbml_model(model, mod)"
   ]
  }
 ],
 "metadata": {
  "kernelspec": {
   "display_name": "Python 3",
   "language": "python",
   "name": "python3"
  },
  "language_info": {
   "codemirror_mode": {
    "name": "ipython",
    "version": 3
   },
   "file_extension": ".py",
   "mimetype": "text/x-python",
   "name": "python",
   "nbconvert_exporter": "python",
   "pygments_lexer": "ipython3",
   "version": "3.9.4"
  },
  "orig_nbformat": 4,
  "vscode": {
   "interpreter": {
    "hash": "aee8b7b246df8f9039afb4144a1f6fd8d2ca17a180786b69acc140d282b71a49"
   }
  }
 },
 "nbformat": 4,
 "nbformat_minor": 2
}
