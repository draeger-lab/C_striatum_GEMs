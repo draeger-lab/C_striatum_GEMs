{
 "cells": [
  {
   "cell_type": "markdown",
   "metadata": {},
   "source": [
    "\\pagenumbering{gobble}"
   ]
  },
  {
   "cell_type": "markdown",
   "metadata": {},
   "source": [
    "\\ \n",
    "\\ \n",
    "\\ \n",
    "\\ \n",
    "\\ \n",
    "\\ \n",
    "\\ \n",
    "\\ \n",
    "\\ \n"
   ]
  },
  {
   "cell_type": "code",
   "execution_count": 40,
   "metadata": {},
   "outputs": [],
   "source": [
    "# imports\n",
    "import cobra\n",
    "from libsbml import *\n",
    "import refinegems as rg\n",
    "import pandas as pd\n",
    "import numpy as np\n",
    "import tabulate"
   ]
  },
  {
   "cell_type": "code",
   "execution_count": 41,
   "metadata": {},
   "outputs": [],
   "source": [
    "def find_additives(model, base_medium):\n",
    "    with model:\n",
    "        medium = model.medium\n",
    "        model.medium = base_medium\n",
    "        sol = model.optimize()      \n",
    "    base_growth = sol.objective_value\n",
    "    dt = (np.log(2) / sol.objective_value) * 60\n",
    "    print('Growth rate without additives: ' + str(round(base_growth, 4)))\n",
    "    print('Doubling time without additives: ' + str(round(dt, 2)) + ' min')\n",
    "        \n",
    "    enhancement = {}\n",
    "    for ex in list(model.exchanges):\n",
    "        if ex.id not in base_medium.keys():\n",
    "            with model:\n",
    "                medium = model.medium\n",
    "                base_medium.update({ex.id:10.0})\n",
    "                model.medium = base_medium\n",
    "                sol = model.optimize()\n",
    "                if sol.objective_value > base_growth:\n",
    "                    enhancement[ex.id] = sol.objective_value - base_growth\n",
    "                base_medium.pop(ex.id)\n",
    "    \n",
    "    enh = pd.DataFrame(enhancement.items(), columns=['exchange', 'diff']).sort_values(by=['diff'], ascending=False)\n",
    "    \n",
    "    return enh"
   ]
  },
  {
   "cell_type": "code",
   "execution_count": 42,
   "metadata": {},
   "outputs": [],
   "source": [
    "def enhanced_growth(model, base_medium, new_metabs):\n",
    "    local_medium = base_medium\n",
    "    with model:\n",
    "        medium = model.medium\n",
    "        for met in new_metabs:\n",
    "            local_medium[met] = 10.0\n",
    "        model.medium = local_medium\n",
    "        sol = model.optimize()\n",
    "    base_growth = sol.objective_value\n",
    "    dt = (np.log(2) / sol.objective_value) * 60\n",
    "    print('Growth rate with additives: ' + str(round(base_growth, 4)))\n",
    "    print('Doubling time with additives: ' + str(round(dt, 2)) + ' min')"
   ]
  },
  {
   "cell_type": "code",
   "execution_count": 43,
   "metadata": {},
   "outputs": [],
   "source": [
    "CasA = rg.growth.load_all_media_from_db('../../refinegems/data/media_db.csv')[9]['BiGG_EX'].to_list()\n",
    "CGXII = pd.read_csv('../analysis/CGXII_base_medium/CGXII.csv').set_index('exchange').to_dict()['flux']"
   ]
  },
  {
   "cell_type": "markdown",
   "metadata": {},
   "source": [
    "## strain 16"
   ]
  },
  {
   "cell_type": "code",
   "execution_count": 44,
   "metadata": {},
   "outputs": [],
   "source": [
    "model = rg.load.load_model_cobra('../models/Cstr_16.xml')\n",
    "CGXII_comp_16 = pd.read_csv('../analysis/CGXII_base_medium/CGXII_comp_16.csv').set_index('exchange').to_dict()['flux']"
   ]
  },
  {
   "cell_type": "code",
   "execution_count": 45,
   "metadata": {},
   "outputs": [
    {
     "name": "stdout",
     "output_type": "stream",
     "text": [
      "MALTabc: atp_c + h2o_c + malt_e --> adp_c + h_c + malt_c + pi_c\n",
      "AMALT1: malt_c + malttr_c --> glc__D_c + maltttr_c\n",
      "MLTG1: h2o_c + malttr_c --> glc__D_c + malt_c\n",
      "AMALT4: malt_c + malthx_c --> glc__D_c + malthp_c\n",
      "AMALT2: malt_c + maltttr_c --> glc__D_c + maltpt_c\n",
      "AMALT3: malt_c + maltpt_c --> glc__D_c + malthx_c\n",
      "MTI: tre_c <=> malt_c\n"
     ]
    }
   ],
   "source": [
    "for rea in model.metabolites.get_by_id('malt_c').reactions:\n",
    "    print(rea)"
   ]
  },
  {
   "cell_type": "code",
   "execution_count": 46,
   "metadata": {},
   "outputs": [
    {
     "name": "stdout",
     "output_type": "stream",
     "text": [
      "fda_1115\n",
      "Growth rate without additives: 0.5579\n",
      "Doubling time without additives: 74.54 min\n",
      "| exchange    |     diff |\n",
      "|:------------|---------:|\n",
      "| EX_malthp_e | 2.03237  |\n",
      "| EX_tre_e    | 0.478205 |\n",
      "| EX_sucr_e   | 0.478205 |\n",
      "| EX_malt_e   | 0.478205 |\n",
      "| EX_lcts_e   | 0.418429 |\n"
     ]
    }
   ],
   "source": [
    "print(model.id)\n",
    "enh = find_additives(model, CGXII_comp_16)\n",
    "enh.to_csv('../analysis/additives/Cstr_16_adds.csv', index=False)\n",
    "print(enh.head().to_markdown(index=False))"
   ]
  },
  {
   "cell_type": "markdown",
   "metadata": {},
   "source": [
    "Going through the given list I found that L-Arginine and N-Acetyl-D-glucosamine are available in the lab storage. Simulation with both metabolites leads to a growth value of 0.8 which corresponds to a doubling time of 52 Minutes."
   ]
  },
  {
   "cell_type": "code",
   "execution_count": 47,
   "metadata": {},
   "outputs": [
    {
     "name": "stdout",
     "output_type": "stream",
     "text": [
      "Growth rate with additives: 0.8025\n",
      "Doubling time with additives: 51.82 min\n"
     ]
    }
   ],
   "source": [
    "enhanced = ['EX_arg__L_e', 'EX_acgam_e']\n",
    "enhanced_growth(model, CGXII_comp_16, enhanced)"
   ]
  },
  {
   "cell_type": "code",
   "execution_count": 48,
   "metadata": {},
   "outputs": [
    {
     "data": {
      "text/plain": [
       "{'EX_nh4_e': 10.0,\n",
       " 'EX_so4_e': 10.0,\n",
       " 'EX_k_e': 10.0,\n",
       " 'EX_pi_e': 10.0,\n",
       " 'EX_urea_e': 10.0,\n",
       " 'EX_ca2_e': 10.0,\n",
       " 'EX_cl_e': 10.0,\n",
       " 'EX_mg2_e': 10.0,\n",
       " 'EX_fe2_e': 10.0,\n",
       " 'EX_mn2_e': 10.0,\n",
       " 'EX_cu2_e': 10.0,\n",
       " 'EX_zn2_e': 10.0,\n",
       " 'EX_glc__D_e': 10.0,\n",
       " 'EX_h2o_e': 10.0,\n",
       " 'EX_o2_e': 20.0,\n",
       " 'EX_h_e': 10.0}"
      ]
     },
     "execution_count": 48,
     "metadata": {},
     "output_type": "execute_result"
    }
   ],
   "source": [
    "CGXII_base = CGXII_comp_16.copy()\n",
    "for metab, flux in CGXII_comp_16.items():\n",
    "    if metab not in CGXII.keys():\n",
    "        CGXII_base.pop(metab)\n",
    "CGXII_base"
   ]
  },
  {
   "cell_type": "code",
   "execution_count": 49,
   "metadata": {},
   "outputs": [
    {
     "name": "stdout",
     "output_type": "stream",
     "text": [
      "Growth rate with additives: 0.0\n",
      "Doubling time with additives: 2750479021271774.5 min\n"
     ]
    }
   ],
   "source": [
    "enhanced_growth(model, CGXII_base, CasA)"
   ]
  },
  {
   "cell_type": "markdown",
   "metadata": {},
   "source": [
    "## strain 15"
   ]
  },
  {
   "cell_type": "code",
   "execution_count": 50,
   "metadata": {},
   "outputs": [],
   "source": [
    "model = rg.load.load_model_cobra('../models/Cstr_15.xml')\n",
    "CGXII_comp_15 = pd.read_csv('../analysis/CGXII_base_medium/CGXII_comp_15.csv').set_index('exchange').to_dict()['flux']"
   ]
  },
  {
   "cell_type": "code",
   "execution_count": 51,
   "metadata": {},
   "outputs": [
    {
     "name": "stdout",
     "output_type": "stream",
     "text": [
      "fda_1197\n",
      "Growth rate without additives: 0.5522\n",
      "Doubling time without additives: 75.31 min\n",
      "| exchange    |     diff |\n",
      "|:------------|---------:|\n",
      "| EX_malthp_e | 2.01175  |\n",
      "| EX_malt_e   | 0.473353 |\n",
      "| EX_tre_e    | 0.473353 |\n",
      "| EX_sucr_e   | 0.473353 |\n",
      "| EX_lcts_e   | 0.384599 |\n"
     ]
    }
   ],
   "source": [
    "print(model.id)\n",
    "enh = find_additives(model, CGXII_comp_15)\n",
    "enh.to_csv('../analysis/additives/Cstr_15_adds.csv', index=False)\n",
    "print(enh.head().to_markdown(index=False))"
   ]
  },
  {
   "cell_type": "markdown",
   "metadata": {},
   "source": [
    "Also shows enhancement by L-Arginine."
   ]
  },
  {
   "cell_type": "code",
   "execution_count": 52,
   "metadata": {},
   "outputs": [
    {
     "name": "stdout",
     "output_type": "stream",
     "text": [
      "Growth rate with additives: 0.5916\n",
      "Doubling time with additives: 70.3 min\n"
     ]
    }
   ],
   "source": [
    "enhanced = ['EX_arg__L_e', 'EX_acgam_e']\n",
    "enhanced_growth(model, CGXII_comp_15, enhanced)"
   ]
  },
  {
   "cell_type": "markdown",
   "metadata": {},
   "source": [
    "Lets test enhancement by Casamino acids."
   ]
  },
  {
   "cell_type": "code",
   "execution_count": 53,
   "metadata": {},
   "outputs": [
    {
     "name": "stdout",
     "output_type": "stream",
     "text": [
      "Growth rate with additives: 0.6439\n",
      "Doubling time with additives: 64.59 min\n"
     ]
    }
   ],
   "source": [
    "enhanced_growth(model, CGXII_comp_15, CasA)"
   ]
  },
  {
   "cell_type": "code",
   "execution_count": 54,
   "metadata": {},
   "outputs": [
    {
     "data": {
      "text/plain": [
       "{'EX_nh4_e': 10.0,\n",
       " 'EX_so4_e': 10.0,\n",
       " 'EX_k_e': 10.0,\n",
       " 'EX_pi_e': 10.0,\n",
       " 'EX_urea_e': 10.0,\n",
       " 'EX_ca2_e': 10.0,\n",
       " 'EX_cl_e': 10.0,\n",
       " 'EX_mg2_e': 10.0,\n",
       " 'EX_fe2_e': 10.0,\n",
       " 'EX_mn2_e': 10.0,\n",
       " 'EX_cu2_e': 10.0,\n",
       " 'EX_zn2_e': 10.0,\n",
       " 'EX_btn_e': 10.0,\n",
       " 'EX_glc__D_e': 10.0,\n",
       " 'EX_h2o_e': 10.0,\n",
       " 'EX_o2_e': 20.0,\n",
       " 'EX_h_e': 10.0}"
      ]
     },
     "execution_count": 54,
     "metadata": {},
     "output_type": "execute_result"
    }
   ],
   "source": [
    "CGXII_base = CGXII_comp_15.copy()\n",
    "for metab, flux in CGXII_comp_15.items():\n",
    "    if metab not in CGXII.keys():\n",
    "        CGXII_base.pop(metab)\n",
    "CGXII_base"
   ]
  },
  {
   "cell_type": "code",
   "execution_count": 55,
   "metadata": {},
   "outputs": [
    {
     "name": "stdout",
     "output_type": "stream",
     "text": [
      "Growth rate with additives: -0.0\n",
      "Doubling time with additives: -1.3582553683821924e+16 min\n"
     ]
    }
   ],
   "source": [
    "enhanced_growth(model, CGXII_base, CasA)"
   ]
  },
  {
   "cell_type": "markdown",
   "metadata": {},
   "source": [
    "## strain 14"
   ]
  },
  {
   "cell_type": "code",
   "execution_count": 56,
   "metadata": {},
   "outputs": [],
   "source": [
    "model = rg.load.load_model_cobra('../models/Cstr_14.xml')\n",
    "CGXII_comp_14 = pd.read_csv('../analysis/CGXII_base_medium/CGXII_comp_14.csv').set_index('exchange').to_dict()['flux']"
   ]
  },
  {
   "cell_type": "code",
   "execution_count": 57,
   "metadata": {},
   "outputs": [
    {
     "name": "stdout",
     "output_type": "stream",
     "text": [
      "fda_1054\n",
      "Growth rate without additives: 0.5485\n",
      "Doubling time without additives: 75.82 min\n",
      "| exchange    |     diff |\n",
      "|:------------|---------:|\n",
      "| EX_malthp_e | 1.99828  |\n",
      "| EX_sucr_e   | 0.470184 |\n",
      "| EX_tre_e    | 0.470184 |\n",
      "| EX_malt_e   | 0.470184 |\n",
      "| EX_lcts_e   | 0.411411 |\n"
     ]
    }
   ],
   "source": [
    "print(model.id)\n",
    "enh = find_additives(model, CGXII_comp_14)\n",
    "enh.to_csv('../analysis/additives/Cstr_14_adds.csv', index=False)\n",
    "print(enh.head().to_markdown(index=False))"
   ]
  },
  {
   "cell_type": "markdown",
   "metadata": {},
   "source": [
    "L-Ascorbate is available in the lab."
   ]
  },
  {
   "cell_type": "code",
   "execution_count": 58,
   "metadata": {},
   "outputs": [
    {
     "name": "stdout",
     "output_type": "stream",
     "text": [
      "Growth rate with additives: 0.7445\n",
      "Doubling time with additives: 55.86 min\n"
     ]
    }
   ],
   "source": [
    "enhanced = ['EX_ascb__L_e']\n",
    "enhanced_growth(model, CGXII_comp_14, enhanced)"
   ]
  },
  {
   "cell_type": "code",
   "execution_count": 59,
   "metadata": {},
   "outputs": [
    {
     "name": "stdout",
     "output_type": "stream",
     "text": [
      "Growth rate with additives: 0.8624\n",
      "Doubling time with additives: 48.23 min\n"
     ]
    }
   ],
   "source": [
    "enhanced_growth(model, CGXII_comp_14, CasA)"
   ]
  },
  {
   "cell_type": "code",
   "execution_count": 60,
   "metadata": {},
   "outputs": [
    {
     "data": {
      "text/plain": [
       "{'EX_nh4_e': 10.0,\n",
       " 'EX_so4_e': 10.0,\n",
       " 'EX_k_e': 10.0,\n",
       " 'EX_pi_e': 10.0,\n",
       " 'EX_urea_e': 10.0,\n",
       " 'EX_ca2_e': 10.0,\n",
       " 'EX_cl_e': 10.0,\n",
       " 'EX_mg2_e': 10.0,\n",
       " 'EX_fe2_e': 10.0,\n",
       " 'EX_mn2_e': 10.0,\n",
       " 'EX_cu2_e': 10.0,\n",
       " 'EX_zn2_e': 10.0,\n",
       " 'EX_btn_e': 10.0,\n",
       " 'EX_glc__D_e': 10.0,\n",
       " 'EX_h2o_e': 10.0,\n",
       " 'EX_o2_e': 20.0,\n",
       " 'EX_h_e': 10.0}"
      ]
     },
     "execution_count": 60,
     "metadata": {},
     "output_type": "execute_result"
    }
   ],
   "source": [
    "CGXII_base = CGXII_comp_14.copy()\n",
    "for metab, flux in CGXII_comp_14.items():\n",
    "    if metab not in CGXII.keys():\n",
    "        CGXII_base.pop(metab)\n",
    "CGXII_base"
   ]
  },
  {
   "cell_type": "code",
   "execution_count": 61,
   "metadata": {},
   "outputs": [
    {
     "name": "stdout",
     "output_type": "stream",
     "text": [
      "Growth rate with additives: 0.0\n",
      "Doubling time with additives: 8.554903579813985e+17 min\n"
     ]
    }
   ],
   "source": [
    "enhanced_growth(model, CGXII_base, CasA)"
   ]
  },
  {
   "cell_type": "markdown",
   "metadata": {},
   "source": [
    "## strain 17"
   ]
  },
  {
   "cell_type": "code",
   "execution_count": 62,
   "metadata": {},
   "outputs": [],
   "source": [
    "model = rg.load.load_model_cobra('../models/Cstr_17.xml')\n",
    "CGXII_comp_17 = pd.read_csv('../analysis/CGXII_base_medium/CGXII_comp_17.csv').set_index('exchange').to_dict()['flux']"
   ]
  },
  {
   "cell_type": "code",
   "execution_count": 63,
   "metadata": {},
   "outputs": [
    {
     "name": "stdout",
     "output_type": "stream",
     "text": [
      "fda_1116\n",
      "Growth rate without additives: 0.0\n",
      "Doubling time without additives: inf min\n"
     ]
    },
    {
     "name": "stderr",
     "output_type": "stream",
     "text": [
      "/var/folders/s0/m197rw591kxcl13y56pqhf9m0000gs/T/ipykernel_53527/4155444981.py:7: RuntimeWarning: divide by zero encountered in double_scalars\n",
      "  dt = (np.log(2) / sol.objective_value) * 60\n"
     ]
    },
    {
     "name": "stdout",
     "output_type": "stream",
     "text": [
      "| exchange    |     diff |\n",
      "|:------------|---------:|\n",
      "| EX_s_e      | 0.622009 |\n",
      "| EX_cgly_e   | 0.613182 |\n",
      "| EX_cys__L_e | 0.612059 |\n",
      "| EX_h2s_e    | 0.611861 |\n",
      "| EX_gthrd_e  | 0.610023 |\n"
     ]
    }
   ],
   "source": [
    "print(model.id)\n",
    "enh = find_additives(model, CGXII_comp_17)\n",
    "print(enh.head().to_markdown(index=False))"
   ]
  },
  {
   "cell_type": "markdown",
   "metadata": {},
   "source": [
    "No simple additives found since there is not growth just on the CGXII medium even under the addition of `pnto_R`, `nmn` and `cobalt`. The next test is to try and find essential exchanges using refineGEMs and add those to the medium."
   ]
  },
  {
   "cell_type": "code",
   "execution_count": 64,
   "metadata": {},
   "outputs": [],
   "source": [
    "ess = rg.growth.get_essential_reactions_via_bounds(model)\n",
    "for entry in ess:\n",
    "    CGXII_comp_17.update({entry:10.0})"
   ]
  },
  {
   "cell_type": "code",
   "execution_count": 65,
   "metadata": {},
   "outputs": [
    {
     "name": "stdout",
     "output_type": "stream",
     "text": [
      "Growth rate without additives: -0.0\n",
      "Doubling time without additives: -1.8774713838470752e+30 min\n",
      "| exchange    |     diff |\n",
      "|:------------|---------:|\n",
      "| EX_s_e      | 0.622009 |\n",
      "| EX_cgly_e   | 0.613182 |\n",
      "| EX_cys__L_e | 0.612059 |\n",
      "| EX_h2s_e    | 0.611861 |\n",
      "| EX_gthrd_e  | 0.610023 |\n"
     ]
    }
   ],
   "source": [
    "enh = find_additives(model, CGXII_comp_17)\n",
    "print(enh.head().to_markdown(index=False))"
   ]
  },
  {
   "cell_type": "markdown",
   "metadata": {},
   "source": [
    "Still no reliable growth value. Next test is to add Casamino acids using the media definition given in refineGEMs."
   ]
  },
  {
   "cell_type": "code",
   "execution_count": 66,
   "metadata": {},
   "outputs": [
    {
     "name": "stdout",
     "output_type": "stream",
     "text": [
      "Growth rate with additives: 0.7301\n",
      "Doubling time with additives: 56.96 min\n"
     ]
    }
   ],
   "source": [
    "enhanced_growth(model, CGXII_comp_17, CasA)"
   ]
  },
  {
   "cell_type": "code",
   "execution_count": 67,
   "metadata": {},
   "outputs": [],
   "source": [
    "CGXII_comp_17 = pd.read_csv('../analysis/CGXII_base_medium/CGXII_comp_17.csv').set_index('exchange').to_dict()['flux']\n",
    "for ex in CasA:\n",
    "    CGXII_comp_17.update({ex:10.0})"
   ]
  },
  {
   "cell_type": "code",
   "execution_count": 68,
   "metadata": {},
   "outputs": [
    {
     "name": "stdout",
     "output_type": "stream",
     "text": [
      "Growth rate without additives: 0.7301\n",
      "Doubling time without additives: 56.96 min\n",
      "| exchange    |     diff |\n",
      "|:------------|---------:|\n",
      "| EX_malthp_e | 2.25677  |\n",
      "| EX_raffin_e | 0.796507 |\n",
      "| EX_malt_e   | 0.531005 |\n",
      "| EX_tre_e    | 0.531005 |\n",
      "| EX_sucr_e   | 0.531005 |\n"
     ]
    }
   ],
   "source": [
    "enh = find_additives(model, CGXII_comp_17)\n",
    "enh.to_csv('../analysis/additives/Cstr_17_adds.csv', index=False)\n",
    "print(enh.head().to_markdown(index=False))"
   ]
  },
  {
   "cell_type": "markdown",
   "metadata": {},
   "source": [
    "Strain 17 should be able to grow on CGXII under the addition of Casamino Acids."
   ]
  },
  {
   "cell_type": "code",
   "execution_count": 69,
   "metadata": {},
   "outputs": [
    {
     "name": "stdout",
     "output_type": "stream",
     "text": [
      "Growth rate with additives: 0.7301\n",
      "Doubling time with additives: 56.96 min\n"
     ]
    }
   ],
   "source": [
    "enhanced_growth(model, CGXII_comp_17, CasA)"
   ]
  },
  {
   "cell_type": "code",
   "execution_count": 70,
   "metadata": {},
   "outputs": [
    {
     "data": {
      "text/plain": [
       "{'EX_nh4_e': 10.0,\n",
       " 'EX_so4_e': 10.0,\n",
       " 'EX_k_e': 10.0,\n",
       " 'EX_pi_e': 10.0,\n",
       " 'EX_urea_e': 10.0,\n",
       " 'EX_ca2_e': 10.0,\n",
       " 'EX_cl_e': 10.0,\n",
       " 'EX_mg2_e': 10.0,\n",
       " 'EX_fe2_e': 10.0,\n",
       " 'EX_mn2_e': 10.0,\n",
       " 'EX_cu2_e': 10.0,\n",
       " 'EX_zn2_e': 10.0,\n",
       " 'EX_glc__D_e': 10.0,\n",
       " 'EX_h2o_e': 10.0,\n",
       " 'EX_o2_e': 20.0,\n",
       " 'EX_h_e': 10.0}"
      ]
     },
     "execution_count": 70,
     "metadata": {},
     "output_type": "execute_result"
    }
   ],
   "source": [
    "CGXII_base = CGXII_comp_17.copy()\n",
    "for metab, flux in CGXII_comp_17.items():\n",
    "    if metab not in CGXII.keys():\n",
    "        CGXII_base.pop(metab)\n",
    "CGXII_base"
   ]
  },
  {
   "cell_type": "code",
   "execution_count": 71,
   "metadata": {},
   "outputs": [
    {
     "name": "stdout",
     "output_type": "stream",
     "text": [
      "Growth rate with additives: 0.0\n",
      "Doubling time with additives: 14843514922900.7 min\n"
     ]
    }
   ],
   "source": [
    "enhanced_growth(model, CGXII_base, CasA)"
   ]
  }
 ],
 "metadata": {
  "kernelspec": {
   "display_name": "Python 3.9.4 ('refinegems-IHVxS0TF')",
   "language": "python",
   "name": "python3"
  },
  "language_info": {
   "codemirror_mode": {
    "name": "ipython",
    "version": 3
   },
   "file_extension": ".py",
   "mimetype": "text/x-python",
   "name": "python",
   "nbconvert_exporter": "python",
   "pygments_lexer": "ipython3",
   "version": "3.9.4"
  },
  "orig_nbformat": 4,
  "vscode": {
   "interpreter": {
    "hash": "05b03929f31a3c7197b7c2cea0f190a9aa2e5c2b923ad8f41e4c618b018e4321"
   }
  }
 },
 "nbformat": 4,
 "nbformat_minor": 2
}
