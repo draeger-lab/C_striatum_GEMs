{
 "cells": [
  {
   "cell_type": "markdown",
   "metadata": {},
   "source": [
    "# Find additives which might enhance growth"
   ]
  },
  {
   "cell_type": "code",
   "execution_count": 9,
   "metadata": {},
   "outputs": [],
   "source": [
    "# imports\n",
    "import cobra\n",
    "from libsbml import *\n",
    "import refinegems as rg\n",
    "import pandas as pd"
   ]
  },
  {
   "cell_type": "code",
   "execution_count": null,
   "metadata": {},
   "outputs": [],
   "source": [
    "with model:\n",
    "    medium = model.medium\n",
    "    new_medium = {i: 10.0 for i in cgxlab}\n",
    "    new_medium.pop('EX_ni2_e')\n",
    "    new_medium.pop('EX_na1_e')\n",
    "    new_medium.pop('EX_34dhbz_e')\n",
    "    new_medium.pop('EX_btn_e')\n",
    "    new_medium['EX_nmn_e'] = 10.0 \n",
    "    new_medium['EX_cobalt2_e'] = 10.0 \n",
    "    new_medium['EX_pnto__R_e'] = 10.0\n",
    "    new_medium['EX_arg__L_e'] = 10.0\n",
    "    try:\n",
    "        if (new_medium['EX_o2_e'] == 10.0):\n",
    "            new_medium['EX_o2_e'] = 20.0\n",
    "    except KeyError:\n",
    "        print('No Oxygen Exchange Reaction')\n",
    "        pass\n",
    "    model.medium = new_medium\n",
    "    pd.DataFrame(new_medium.items(), columns=['exchange', 'flux']).to_csv('../data/CGXII_comp_17.csv', index=False)\n",
    "    sol = model.optimize()\n",
    "sol"
   ]
  },
  {
   "cell_type": "markdown",
   "metadata": {},
   "source": [
    "## strain 16"
   ]
  },
  {
   "cell_type": "code",
   "execution_count": 61,
   "metadata": {},
   "outputs": [],
   "source": [
    "# loading\n",
    "model = rg.load.load_model_cobra('../models/Cstr_16.xml')\n",
    "CGXII_comp_16 = pd.read_csv('../data/CGXII_comp_16.csv').set_index('exchange').to_dict()['flux']"
   ]
  },
  {
   "cell_type": "code",
   "execution_count": 62,
   "metadata": {},
   "outputs": [
    {
     "data": {
      "text/html": [
       "\n",
       "        <table>\n",
       "            <tr>\n",
       "                <td><strong>Reaction identifier</strong></td><td>Growth</td>\n",
       "            </tr><tr>\n",
       "                <td><strong>Name</strong></td><td></td>\n",
       "            </tr><tr>\n",
       "                <td><strong>Memory address</strong></td>\n",
       "                <td>0x07fe8013768e0</td>\n",
       "            </tr><tr>\n",
       "                <td><strong>Stoichiometry</strong></td>\n",
       "                <td>\n",
       "                    <p style='text-align:right'>0.000223 10fthf_c + 0.513689 ala__L_c + 0.000223 amet_c + 0.295792 arg__L_c + 0.241055 asn__L_c + 0.241055 asp__L_c + 54.124831 atp_c + 0.005205 ca2_c + 0.005205 cl_c + 0.000576 coa_c + 0.0001...</p>\n",
       "                    <p style='text-align:right'>0.000223 10-Formyltetrahydrofolate + 0.513689 L-Alanine + 0.000223 S-Adenosyl-L-methionine + 0.295792 L-Arginine + 0.241055 L-Asparagine + 0.241055 L-Aspartate + 54.124831 ATP C10H12N5O13P3 +...</p>\n",
       "                </td>\n",
       "            </tr><tr>\n",
       "                <td><strong>GPR</strong></td><td></td>\n",
       "            </tr><tr>\n",
       "                <td><strong>Lower bound</strong></td><td>0.0</td>\n",
       "            </tr><tr>\n",
       "                <td><strong>Upper bound</strong></td><td>1000.0</td>\n",
       "            </tr>\n",
       "        </table>\n",
       "        "
      ],
      "text/plain": [
       "<Reaction Growth at 0x7fe8013768e0>"
      ]
     },
     "execution_count": 62,
     "metadata": {},
     "output_type": "execute_result"
    }
   ],
   "source": [
    "model.reactions.get_by_id('Growth')"
   ]
  },
  {
   "cell_type": "code",
   "execution_count": 63,
   "metadata": {},
   "outputs": [
    {
     "data": {
      "text/plain": [
       "0.5579056701595518"
      ]
     },
     "execution_count": 63,
     "metadata": {},
     "output_type": "execute_result"
    }
   ],
   "source": [
    "with model:\n",
    "    medium = model.medium\n",
    "    model.medium = CGXII_comp_16\n",
    "    sol = model.optimize()\n",
    "\n",
    "base_growth = sol.objective_value\n",
    "base_growth"
   ]
  },
  {
   "cell_type": "code",
   "execution_count": 64,
   "metadata": {},
   "outputs": [],
   "source": [
    "enhancement = {}\n",
    "for ex in list(model.exchanges):\n",
    "    with model:\n",
    "        medium = model.medium\n",
    "        CGXII_comp_16[ex.id] = 10.0\n",
    "        model.medium = CGXII_comp_16\n",
    "        sol = model.optimize()\n",
    "        if sol.objective_value > base_growth:\n",
    "            enhancement[ex.id] = sol.objective_value - base_growth\n",
    "        CGXII_comp_16.pop(ex.id)"
   ]
  },
  {
   "cell_type": "code",
   "execution_count": 65,
   "metadata": {},
   "outputs": [
    {
     "data": {
      "text/html": [
       "<div>\n",
       "<style scoped>\n",
       "    .dataframe tbody tr th:only-of-type {\n",
       "        vertical-align: middle;\n",
       "    }\n",
       "\n",
       "    .dataframe tbody tr th {\n",
       "        vertical-align: top;\n",
       "    }\n",
       "\n",
       "    .dataframe thead th {\n",
       "        text-align: right;\n",
       "    }\n",
       "</style>\n",
       "<table border=\"1\" class=\"dataframe\">\n",
       "  <thead>\n",
       "    <tr style=\"text-align: right;\">\n",
       "      <th></th>\n",
       "      <th>exchange</th>\n",
       "      <th>diff</th>\n",
       "    </tr>\n",
       "  </thead>\n",
       "  <tbody>\n",
       "    <tr>\n",
       "      <th>20</th>\n",
       "      <td>EX_arg__L_e</td>\n",
       "      <td>0.146284</td>\n",
       "    </tr>\n",
       "    <tr>\n",
       "      <th>13</th>\n",
       "      <td>EX_acgam_e</td>\n",
       "      <td>0.102785</td>\n",
       "    </tr>\n",
       "    <tr>\n",
       "      <th>1</th>\n",
       "      <td>EX_12dgr160_e</td>\n",
       "      <td>0.099626</td>\n",
       "    </tr>\n",
       "    <tr>\n",
       "      <th>2</th>\n",
       "      <td>EX_12dgr180_e</td>\n",
       "      <td>0.099626</td>\n",
       "    </tr>\n",
       "    <tr>\n",
       "      <th>3</th>\n",
       "      <td>EX_1ag160_e</td>\n",
       "      <td>0.099626</td>\n",
       "    </tr>\n",
       "  </tbody>\n",
       "</table>\n",
       "</div>"
      ],
      "text/plain": [
       "         exchange      diff\n",
       "20    EX_arg__L_e  0.146284\n",
       "13     EX_acgam_e  0.102785\n",
       "1   EX_12dgr160_e  0.099626\n",
       "2   EX_12dgr180_e  0.099626\n",
       "3     EX_1ag160_e  0.099626"
      ]
     },
     "execution_count": 65,
     "metadata": {},
     "output_type": "execute_result"
    }
   ],
   "source": [
    "enh = pd.DataFrame(enhancement.items(), columns=['exchange', 'diff'])\n",
    "enh.sort_values(by=['diff'], ascending=False).head()#.to_csv('../analysis/additives/Cstr_16_adds.csv', index=False)"
   ]
  },
  {
   "cell_type": "markdown",
   "metadata": {},
   "source": [
    "L-arginine and N-Acetyl-D-glucosamine are available in the lab storage"
   ]
  },
  {
   "cell_type": "markdown",
   "metadata": {},
   "source": [
    "## strain 15"
   ]
  },
  {
   "cell_type": "code",
   "execution_count": 66,
   "metadata": {},
   "outputs": [],
   "source": [
    "model = rg.load.load_model_cobra('../models/Cstr_15.xml')\n",
    "CGXII_comp_15 = pd.read_csv('../data/CGXII_comp_15.csv').set_index('exchange').to_dict()['flux']"
   ]
  },
  {
   "cell_type": "code",
   "execution_count": 67,
   "metadata": {},
   "outputs": [
    {
     "data": {
      "text/plain": [
       "0.5522447060984086"
      ]
     },
     "execution_count": 67,
     "metadata": {},
     "output_type": "execute_result"
    }
   ],
   "source": [
    "with model:\n",
    "    medium = model.medium\n",
    "    model.medium = CGXII_comp_15\n",
    "    sol = model.optimize()\n",
    "    \n",
    "base_growth = sol.objective_value\n",
    "base_growth"
   ]
  },
  {
   "cell_type": "code",
   "execution_count": 68,
   "metadata": {},
   "outputs": [],
   "source": [
    "enhancement = {}\n",
    "for ex in list(model.exchanges):\n",
    "    with model:\n",
    "        medium = model.medium\n",
    "        CGXII_comp_15[ex.id] = 10.0\n",
    "        model.medium = CGXII_comp_15\n",
    "        sol = model.optimize()\n",
    "        if sol.objective_value > base_growth:\n",
    "            enhancement[ex.id] = sol.objective_value - base_growth\n",
    "        CGXII_comp_15.pop(ex.id)"
   ]
  },
  {
   "cell_type": "code",
   "execution_count": 69,
   "metadata": {},
   "outputs": [
    {
     "data": {
      "text/html": [
       "<div>\n",
       "<style scoped>\n",
       "    .dataframe tbody tr th:only-of-type {\n",
       "        vertical-align: middle;\n",
       "    }\n",
       "\n",
       "    .dataframe tbody tr th {\n",
       "        vertical-align: top;\n",
       "    }\n",
       "\n",
       "    .dataframe thead th {\n",
       "        text-align: right;\n",
       "    }\n",
       "</style>\n",
       "<table border=\"1\" class=\"dataframe\">\n",
       "  <thead>\n",
       "    <tr style=\"text-align: right;\">\n",
       "      <th></th>\n",
       "      <th>exchange</th>\n",
       "      <th>diff</th>\n",
       "    </tr>\n",
       "  </thead>\n",
       "  <tbody>\n",
       "    <tr>\n",
       "      <th>0</th>\n",
       "      <td>EX_12dgr160_e</td>\n",
       "      <td>0.098615</td>\n",
       "    </tr>\n",
       "    <tr>\n",
       "      <th>2</th>\n",
       "      <td>EX_1ag160_e</td>\n",
       "      <td>0.098615</td>\n",
       "    </tr>\n",
       "    <tr>\n",
       "      <th>3</th>\n",
       "      <td>EX_1ag180_e</td>\n",
       "      <td>0.098615</td>\n",
       "    </tr>\n",
       "    <tr>\n",
       "      <th>4</th>\n",
       "      <td>EX_1ag181d9_e</td>\n",
       "      <td>0.098615</td>\n",
       "    </tr>\n",
       "    <tr>\n",
       "      <th>5</th>\n",
       "      <td>EX_1ag182d9d12_e</td>\n",
       "      <td>0.098615</td>\n",
       "    </tr>\n",
       "  </tbody>\n",
       "</table>\n",
       "</div>"
      ],
      "text/plain": [
       "           exchange      diff\n",
       "0     EX_12dgr160_e  0.098615\n",
       "2       EX_1ag160_e  0.098615\n",
       "3       EX_1ag180_e  0.098615\n",
       "4     EX_1ag181d9_e  0.098615\n",
       "5  EX_1ag182d9d12_e  0.098615"
      ]
     },
     "execution_count": 69,
     "metadata": {},
     "output_type": "execute_result"
    }
   ],
   "source": [
    "enh = pd.DataFrame(enhancement.items(), columns=['exchange', 'diff'])\n",
    "enh.sort_values(by=['diff'], ascending=False).head()#.to_csv('../analysis/additives/Cstr_15_adds.csv', index=False)"
   ]
  },
  {
   "cell_type": "markdown",
   "metadata": {},
   "source": [
    "## strain 14"
   ]
  },
  {
   "cell_type": "code",
   "execution_count": 70,
   "metadata": {},
   "outputs": [],
   "source": [
    "model = rg.load.load_model_cobra('../models/Cstr_14.xml')\n",
    "CGXII_comp_14 = pd.read_csv('../data/CGXII_comp_14.csv').set_index('exchange').to_dict()['flux']"
   ]
  },
  {
   "cell_type": "code",
   "execution_count": 71,
   "metadata": {},
   "outputs": [
    {
     "data": {
      "text/plain": [
       "0.5485482951479398"
      ]
     },
     "execution_count": 71,
     "metadata": {},
     "output_type": "execute_result"
    }
   ],
   "source": [
    "with model:\n",
    "    medium = model.medium\n",
    "    model.medium = CGXII_comp_14\n",
    "    sol = model.optimize()\n",
    "    \n",
    "base_growth = sol.objective_value\n",
    "base_growth"
   ]
  },
  {
   "cell_type": "code",
   "execution_count": 72,
   "metadata": {},
   "outputs": [],
   "source": [
    "enhancement = {}\n",
    "for ex in list(model.exchanges):\n",
    "    with model:\n",
    "        medium = model.medium\n",
    "        CGXII_comp_14[ex.id] = 10.0\n",
    "        model.medium = CGXII_comp_14\n",
    "        sol = model.optimize()\n",
    "        if sol.objective_value > base_growth:\n",
    "            enhancement[ex.id] = sol.objective_value - base_growth\n",
    "        CGXII_comp_14.pop(ex.id)"
   ]
  },
  {
   "cell_type": "code",
   "execution_count": 74,
   "metadata": {},
   "outputs": [],
   "source": [
    "enh = pd.DataFrame(enhancement.items(), columns=['exchange', 'diff'])\n",
    "enh.sort_values(by=['diff'], ascending=False).to_csv('../analysis/additives/Cstr_14_adds.csv', index=False)"
   ]
  }
 ],
 "metadata": {
  "kernelspec": {
   "display_name": "Python 3.9.4 ('refinegems-IHVxS0TF')",
   "language": "python",
   "name": "python3"
  },
  "language_info": {
   "codemirror_mode": {
    "name": "ipython",
    "version": 3
   },
   "file_extension": ".py",
   "mimetype": "text/x-python",
   "name": "python",
   "nbconvert_exporter": "python",
   "pygments_lexer": "ipython3",
   "version": "3.9.4"
  },
  "orig_nbformat": 4,
  "vscode": {
   "interpreter": {
    "hash": "05b03929f31a3c7197b7c2cea0f190a9aa2e5c2b923ad8f41e4c618b018e4321"
   }
  }
 },
 "nbformat": 4,
 "nbformat_minor": 2
}
